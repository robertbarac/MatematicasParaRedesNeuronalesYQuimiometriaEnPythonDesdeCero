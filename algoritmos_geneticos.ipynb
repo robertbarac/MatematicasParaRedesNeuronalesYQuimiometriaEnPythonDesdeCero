{
 "cells": [
  {
   "attachments": {},
   "cell_type": "markdown",
   "metadata": {},
   "source": [
    "# Algoritmos genéticos"
   ]
  },
  {
   "attachments": {},
   "cell_type": "markdown",
   "metadata": {},
   "source": [
    "Un algoritmo genético tiene como propósito general buscar la combinación de genes para armar un individuo y una población de individuos, para evaluarlos en una función de aptitud para evaluar cuánto se parecen a su objetivo. Es un algoritmo que compite seriamente con los del descenso del gradiente y de backpropagation, dado que los tres buscan época a época, generación a generación, mejorar las predicciones que buscan hacer.\n",
    "\n",
    "El descenso del gradiente y el de backpropagation (veremos en el notebook de redes neuronales) usan la derivada para calcular las pendientes y corregir los pesos, el primero en los pesos de la regresión en cuestión y el segundo en los pesos de cada neurona de cada capa. El descenso del gradiente usa derivada parcial, mientras backpropagation usa derivada parcial y regla de la cadena.\n",
    "\n",
    "A rasgos generales, el algoritmo genético consiste en lo siguiente:\n",
    "\n",
    "1. **Generar población inicial.**\n",
    "Luego en un ciclo colocar los siguientes pasos, hasta que se cumplan las generaciones o detenerlas por código cuando pasen x generaciones sin cambios en el resultado de la función de aptitud:\n",
    "2. **Calcular la función de aptitud**, también conocida como el fitness o fitness function. Esta función cambiará según el problema que se esté tratando. Por ejemplo, si lo que se busca predecir es algo numérico, se podría usar el error cuadrático medio como función de aptitud. A partir de ella se podría calcular el coeficiente de determinación o $R^2$.\n",
    "3. **Selección de padres**. Los padres son individuos que, luego de haber calculado el fitness, dan los mejores valores del fitness y sean candidatos para cruzarlos en la siguiente generación. Es importante aclarar algo y es que esta selección dependerá de lo que se busque. Si seleccionamos los individuos que minimizan la fitness function que sea un error cuadrático medio, es equivalente a seleccionar los individuos que maximizan la fitness function que sea un coeficiente de determinación.\n",
    "4. **Hacer el cruce genético entre padres**. Hay varios métodos para hacer cruces genéticos.\n",
    "5. **Mutación**. Hay varios métodos para hacer la mutación. Se dará en un pequeño porcentaje de los individuos que son resultado del cruce.\n",
    "6. **Nueva Población**. Esta nueva población será llevada a una nueva iteración para calcular la función de aptitud."
   ]
  },
  {
   "cell_type": "code",
   "execution_count": 1,
   "metadata": {},
   "outputs": [],
   "source": [
    "import random"
   ]
  },
  {
   "cell_type": "code",
   "execution_count": 48,
   "metadata": {},
   "outputs": [
    {
     "name": "stdout",
     "output_type": "stream",
     "text": [
      "\n",
      "Modelo: [1, 1, 1, 1, 1, 1, 1, 1, 1, 1]\n",
      "\n"
     ]
    }
   ],
   "source": [
    "modelo = [1,1,1,1,1,1,1,1,1,1]\n",
    "largo = 10\n",
    "num = 10\n",
    "pressure = 3\n",
    "chance_mutacion = 0.2\n",
    "print(\"\\nModelo: %s\\n\"%(modelo))"
   ]
  },
  {
   "cell_type": "code",
   "execution_count": 49,
   "metadata": {},
   "outputs": [],
   "source": [
    "#Crea aleatoriamente las caracteristicas (ADN) de cada individuo\n",
    "def individuo(min, max):\n",
    "    return [random.randint(min, max) for i in range(largo)] # cada uno de los individuo tiene un código genético"
   ]
  },
  {
   "cell_type": "code",
   "execution_count": 60,
   "metadata": {},
   "outputs": [],
   "source": [
    "#Genera la poblacion deseada (num)\n",
    "def crear_poblacion():\n",
    "    return [individuo(1,9) for i in range(num)]"
   ]
  },
  {
   "cell_type": "code",
   "execution_count": 61,
   "metadata": {},
   "outputs": [],
   "source": [
    "def calcular_fitness(individuo):\n",
    "    fitness = 0\n",
    "    for i in range(len(individuo)):\n",
    "        if individuo[i] == modelo[i]:\n",
    "            fitness += 1\n",
    "    return fitness"
   ]
  },
  {
   "cell_type": "code",
   "execution_count": 65,
   "metadata": {},
   "outputs": [],
   "source": [
    "#Compara cada caracteristica del individuo con su contraparte del modelo y cuenta las coincidencias\n",
    "def seleccion_y_reproduccion(poblacion):\n",
    "    #lista de tuplas (fitness, individuo)  de todos los individuos\n",
    "    puntuados = [(calcular_fitness(i), i) for i in poblacion]\n",
    "    \n",
    "    #Lista ordenada de menor a mayor fitness\n",
    "    puntuados = [i[1] for i in sorted(puntuados)] # ordenar de mejor a peor fitness\n",
    "    poblacion = puntuados\n",
    "    \n",
    "    #seleccion de individuos con mejor puntuacion (cantidad = pressure)\n",
    "    selected = puntuados[len(puntuados) - pressure:]\n",
    "    \n",
    "    #reproduccion: Por cada elemento restante (poblacion - selected) sucede:\n",
    "    #1. se seleccionan dos individuos aleatorios entre los seleccionados\n",
    "    #2. se escoge un numero aleatorio (punto) de caracteristicas del primer individuo (principio)\n",
    "    #3. se toman las caracteristicas restantes del segundo individuo (final)\n",
    "    #4. se reemplaza un elemento de la poblacion.\n",
    "    for i in range(len(poblacion) - pressure):\n",
    "        punto = random.randint(1, largo - 1)\n",
    "        padre = random.sample(selected, 2)\n",
    "        \n",
    "        poblacion[i][:punto] = padre[0][:punto]\n",
    "        poblacion[i][punto:] = padre[1][punto:]\n",
    "    \n",
    "    return poblacion"
   ]
  },
  {
   "cell_type": "code",
   "execution_count": 66,
   "metadata": {},
   "outputs": [],
   "source": [
    "def mutacion(poblacion):\n",
    "    # Se escoge aleatoriamente quien sufre una mutación.\n",
    "    for i in range(len(poblacion) - pressure):\n",
    "        if random.random() <= chance_mutacion:\n",
    "            #se escoge una posicion aleatoria en la lista de caracteristicas\n",
    "            punto = random.randint(0, largo - 1)\n",
    "            #se genera una caracteristica nueva de forma aleatoria\n",
    "            nuevo_valor = random.randint(1,9)\n",
    "            # Si el valor obtenido es igual al valor existente en el punto de\n",
    "            # mutacion se generan valores aleatorios hasta que cambie, luego se\n",
    "            #inserta el nuevo valor.\n",
    "            while nuevo_valor == poblacion[i][punto]:\n",
    "                nuevo_valor = random.randint(1,9)\n",
    "            poblacion[i][punto] = nuevo_valor\n",
    "    return poblacion"
   ]
  },
  {
   "cell_type": "code",
   "execution_count": 67,
   "metadata": {},
   "outputs": [
    {
     "name": "stdout",
     "output_type": "stream",
     "text": [
      "Población inicial: \n",
      "[[2, 2, 4, 8, 6, 5, 6, 8, 1, 8], [3, 4, 7, 7, 9, 6, 6, 2, 3, 8], [9, 4, 4, 4, 8, 9, 6, 7, 2, 7], [1, 3, 1, 3, 3, 4, 6, 1, 9, 1], [5, 5, 6, 3, 5, 4, 2, 1, 3, 8], [2, 3, 3, 5, 8, 8, 2, 7, 2, 1], [4, 8, 9, 4, 3, 5, 7, 7, 1, 9], [9, 2, 6, 7, 4, 3, 7, 6, 1, 4], [5, 6, 9, 8, 3, 4, 4, 9, 9, 7], [1, 7, 7, 4, 4, 9, 8, 7, 1, 9]]\n",
      "Población final: \n",
      "[[1, 9, 1, 1, 1, 1, 1, 1, 1, 1], [1, 9, 1, 1, 1, 1, 1, 1, 1, 1], [1, 9, 1, 1, 1, 1, 1, 1, 1, 1], [1, 9, 1, 1, 1, 1, 1, 1, 1, 1], [1, 9, 1, 1, 1, 1, 1, 1, 1, 1], [1, 9, 1, 1, 1, 1, 1, 1, 1, 1], [1, 9, 1, 1, 1, 1, 1, 1, 7, 1], [1, 9, 1, 1, 1, 1, 1, 1, 1, 1], [1, 9, 1, 1, 1, 1, 1, 1, 1, 1], [1, 9, 1, 1, 1, 1, 1, 1, 1, 1]]\n"
     ]
    }
   ],
   "source": [
    "poblacion = crear_poblacion()\n",
    "print(f\"Población inicial: \\n{poblacion}\")\n",
    "for i in range(100):\n",
    "    poblacion = seleccion_y_reproduccion(poblacion)\n",
    "    poblacion = mutacion(poblacion)\n",
    "\n",
    "print(f\"Población final: \\n{poblacion}\")"
   ]
  },
  {
   "cell_type": "code",
   "execution_count": null,
   "metadata": {},
   "outputs": [],
   "source": []
  }
 ],
 "metadata": {
  "kernelspec": {
   "display_name": "env",
   "language": "python",
   "name": "python3"
  },
  "language_info": {
   "codemirror_mode": {
    "name": "ipython",
    "version": 3
   },
   "file_extension": ".py",
   "mimetype": "text/x-python",
   "name": "python",
   "nbconvert_exporter": "python",
   "pygments_lexer": "ipython3",
   "version": "3.8.10"
  },
  "orig_nbformat": 4
 },
 "nbformat": 4,
 "nbformat_minor": 2
}
