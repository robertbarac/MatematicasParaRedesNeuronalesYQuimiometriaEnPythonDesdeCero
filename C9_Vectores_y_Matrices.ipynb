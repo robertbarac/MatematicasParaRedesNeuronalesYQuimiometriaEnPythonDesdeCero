{
  "cells": [
    {
      "cell_type": "markdown",
      "metadata": {
        "colab_type": "text",
        "id": "view-in-github"
      },
      "source": [
        "<a href=\"https://colab.research.google.com/github/robertbarac/MatematicasParaRedesNeuronalesYQuimiometriaEnPythonDesdeCero/blob/main/9_Vectores_y_Matrices.ipynb\" target=\"_parent\"><img src=\"https://colab.research.google.com/assets/colab-badge.svg\" alt=\"Open In Colab\"/></a>"
      ]
    },
    {
      "cell_type": "markdown",
      "metadata": {
        "id": "V1xhARrv7M1J"
      },
      "source": [
        "# Vectores\n",
        "Los vectores se representan de la siguiente manera:\n",
        "$$\\begin{equation}\n",
        "X = \n",
        "\\begin{bmatrix}\n",
        "x_{1}\\\\\n",
        "x_{2}\\\\\n",
        "x_{3}\\\\\n",
        ".\\\\\n",
        ".\\\\\n",
        ".\\\\\n",
        "x_{n}\\\\\n",
        "\\end{bmatrix}\n",
        "\\end{equation}\n",
        "$$\n",
        "Donde de x<sub>1</sub> hasta x<sub>n</sub> son la cantidad *n* de elementos del vector."
      ]
    },
    {
      "cell_type": "code",
      "execution_count": 2,
      "metadata": {
        "id": "X6ngxKAOEBVO"
      },
      "outputs": [],
      "source": [
        "import numpy as np"
      ]
    },
    {
      "cell_type": "code",
      "execution_count": 3,
      "metadata": {
        "id": "mAx9do-YBQdU"
      },
      "outputs": [],
      "source": [
        "class Vector:\n",
        "    def __init__(self, vector):\n",
        "        self.vector = vector\n",
        "    \n",
        "    def sum(self, new_vector):\n",
        "        if len(self.vector) == len(new_vector):\n",
        "            output_vector = []\n",
        "            for i in range(len(self.vector)):\n",
        "                output_vector.append(self.vector[i] + new_vector[i])\n",
        "            return output_vector\n",
        "        else:\n",
        "            print(\"Vectores no tienen la misma longitud\")\n",
        "    \n",
        "    def multiply(self, scalar):\n",
        "        output = []\n",
        "        for i in range(len(self.vector)):\n",
        "            output.append(self.vector[i] * scalar)\n",
        "        return output\n",
        "    \n",
        "    def dot(self, vector2):\n",
        "        output = 0\n",
        "        for i in range(len(self.vector)):\n",
        "            output += self.vector[i] * vector2[i]\n",
        "        return output"
      ]
    },
    {
      "cell_type": "code",
      "execution_count": 4,
      "metadata": {
        "id": "bq1vPhL3Cn6f"
      },
      "outputs": [],
      "source": [
        "v1 = [1,2,3,4,5]\n",
        "v2 = [-1,-1,-1,-1,-1]\n",
        "vector = Vector(v1)"
      ]
    },
    {
      "cell_type": "markdown",
      "metadata": {
        "id": "tqPX3baeJtG1"
      },
      "source": [
        "## Suma de Vectores\n",
        "\n",
        "La suma es componente a componente\n",
        "$$\\begin{equation}\n",
        "X + Y = \n",
        "\\begin{bmatrix}\n",
        "x_{1}\\\\\n",
        "x_{2}\\\\\n",
        "x_{3}\\\\\n",
        ".\\\\\n",
        ".\\\\\n",
        ".\\\\\n",
        "x_{n}\\\\\n",
        "\\end{bmatrix}\n",
        "+\n",
        "\\begin{bmatrix}\n",
        "y_{1}\\\\\n",
        "y_{2}\\\\\n",
        "y_{3}\\\\\n",
        ".\\\\\n",
        ".\\\\\n",
        ".\\\\\n",
        "y_{n}\\\\\n",
        "\\end{bmatrix}\n",
        "= \\begin{bmatrix}\n",
        "x_{1} + y_{1}\\\\\n",
        "x_{2} + y_{2}\\\\\n",
        "x_{3} + y_{3}\\\\\n",
        ".\\\\\n",
        ".\\\\\n",
        ".\\\\\n",
        "x_{n} + y_{n}\\\\\n",
        "\\end{bmatrix}\n",
        "\\end{equation}\n",
        "$$\n",
        "\n",
        "Ejemplo:\n",
        "\n",
        "$$\\begin{equation}\n",
        "X = \n",
        "\\begin{bmatrix}\n",
        "2\\\\\n",
        "1\\\\\n",
        "\\end{bmatrix}\n",
        "; \\\\Y =\n",
        "\\begin{bmatrix}\n",
        "2\\\\\n",
        "3\\\\\n",
        "\\end{bmatrix}\n",
        "; \\\\X + Y = \n",
        "\\begin{bmatrix}\n",
        "2+2\\\\\n",
        "1+3\\\\\n",
        "\\end{bmatrix}\n",
        "=\n",
        "\\begin{bmatrix}\n",
        "4\\\\\n",
        "4\\\\\n",
        "\\end{bmatrix}\n",
        "\\end{equation}\n",
        "$$"
      ]
    },
    {
      "cell_type": "code",
      "execution_count": 5,
      "metadata": {
        "id": "EICslEnjJ0ks"
      },
      "outputs": [],
      "source": [
        "def sum(vector, new_vector):\n",
        "    if len(vector) == len(new_vector):\n",
        "        output_vector = []\n",
        "        for i in range(len(vector)):\n",
        "            output_vector.append(vector[i] + new_vector[i])\n",
        "        return output_vector\n",
        "    else:\n",
        "        return \"Vectores no tienen la misma longitud\""
      ]
    },
    {
      "cell_type": "code",
      "execution_count": 6,
      "metadata": {
        "colab": {
          "base_uri": "https://localhost:8080/"
        },
        "id": "KUvtipS2D2o6",
        "outputId": "916db7f7-503f-4622-dcdf-766065ffdee7"
      },
      "outputs": [
        {
          "name": "stdout",
          "output_type": "stream",
          "text": [
            "[0, 1, 2, 3, 4]\n",
            "[0, 1, 2, 3, 4]\n"
          ]
        }
      ],
      "source": [
        "print(sum(v1, v2))\n",
        "print(vector.sum(v2))"
      ]
    },
    {
      "cell_type": "markdown",
      "metadata": {
        "id": "XqfijaRdKZnQ"
      },
      "source": [
        "### Implementación en Numpy"
      ]
    },
    {
      "cell_type": "code",
      "execution_count": 7,
      "metadata": {
        "id": "rQqPgNNcD9cv"
      },
      "outputs": [],
      "source": [
        "v1_array = np.array(v1)\n",
        "v2_array = np.array(v2)"
      ]
    },
    {
      "cell_type": "code",
      "execution_count": 8,
      "metadata": {
        "colab": {
          "base_uri": "https://localhost:8080/"
        },
        "id": "xJdnQK-EEOz8",
        "outputId": "24f5ba02-adff-4eab-f1d5-095a0b63f78e"
      },
      "outputs": [
        {
          "data": {
            "text/plain": [
              "array([0, 1, 2, 3, 4])"
            ]
          },
          "execution_count": 8,
          "metadata": {},
          "output_type": "execute_result"
        }
      ],
      "source": [
        "v1_array + v2_array"
      ]
    },
    {
      "cell_type": "markdown",
      "metadata": {
        "id": "CNEdSbPzHdcv"
      },
      "source": [
        "## Multiplicar vector por escalar\n",
        "Es una operación sencilla en la que el escalar es un número que multiplica a cada elemento del vector.\n",
        "$$\n",
        "\\begin{equation}\n",
        "cX =\n",
        "\\begin{bmatrix}\n",
        "c*x_{1}\\\\\n",
        "c*x_{2}\\\\\n",
        "c*x_{3}\\\\\n",
        ".\\\\\n",
        ".\\\\\n",
        ".\\\\\n",
        "c*x_{n}\\\\\n",
        "\\end{bmatrix}\n",
        "\\end{equation}\n",
        "$$\n",
        "Ejemplo:\n",
        "$$\n",
        "\\begin{equation}\n",
        "X =\n",
        "\\begin{bmatrix}\n",
        "2\\\\\n",
        "1\n",
        "\\end{bmatrix};\n",
        "c=3;\n",
        "\\\\cX = \n",
        "\\begin{bmatrix}\n",
        "3*2\\\\\n",
        "3*1\n",
        "\\end{bmatrix}\n",
        "= \n",
        "\\begin{bmatrix}\n",
        "6\\\\\n",
        "3\n",
        "\\end{bmatrix}\n",
        "\\end{equation}\n",
        "$$"
      ]
    },
    {
      "cell_type": "code",
      "execution_count": 9,
      "metadata": {
        "id": "9oTyd6XgKewf"
      },
      "outputs": [],
      "source": [
        "def multiply(vector, scalar):\n",
        "        output = []\n",
        "        for i in range(len(vector)):\n",
        "            output.append(vector[i] * scalar)\n",
        "        return output"
      ]
    },
    {
      "cell_type": "code",
      "execution_count": 10,
      "metadata": {
        "colab": {
          "base_uri": "https://localhost:8080/"
        },
        "id": "X7yCWDT1H9ju",
        "outputId": "0fe78177-57e6-4344-b1e4-ba5144a1831a"
      },
      "outputs": [
        {
          "name": "stdout",
          "output_type": "stream",
          "text": [
            "[9, 18, 27, 36, 45]\n",
            "[-9, -9, -9, -9, -9]\n",
            "[9, 18, 27, 36, 45]\n"
          ]
        }
      ],
      "source": [
        "print(multiply(v1, 9))\n",
        "print(multiply(v2, 9))\n",
        "print(vector.multiply(9))"
      ]
    },
    {
      "cell_type": "code",
      "execution_count": 11,
      "metadata": {
        "colab": {
          "base_uri": "https://localhost:8080/"
        },
        "id": "ApEy4pF8Ezn7",
        "outputId": "480beab1-5612-4e81-b10b-3b739c74cbc3"
      },
      "outputs": [
        {
          "name": "stdout",
          "output_type": "stream",
          "text": [
            "[ 9 18 27 36 45]\n",
            "[-9 -9 -9 -9 -9]\n"
          ]
        }
      ],
      "source": [
        "print(9 * v1_array)\n",
        "print(9 * v2_array)"
      ]
    },
    {
      "cell_type": "markdown",
      "metadata": {
        "id": "eYcK1NLJI8ON"
      },
      "source": [
        "## Producto Punto\n",
        "Este solo se puede realizar si ambos vectores A y B tienen la misma cantidad de *n* elementos\n",
        "\n",
        "$$ A*B =  A1*B1 + A2*B2 + ... + An*Bn$$\n",
        "visto de otra manera:\n",
        "$$\n",
        "\\begin{equation}\n",
        "\\begin{bmatrix}\n",
        "x_{1} & x_{2} & ... & x_{n}\n",
        "\\end{bmatrix}*\n",
        "\\begin{bmatrix}\n",
        "x_{1}\\\\\n",
        "x_{2}\\\\\n",
        ".\\\\\n",
        ".\\\\\n",
        ".\\\\\n",
        "x_{n}\n",
        "\\end{bmatrix}\n",
        "\\end{equation}\n",
        "$$"
      ]
    },
    {
      "cell_type": "code",
      "execution_count": 12,
      "metadata": {
        "id": "lZ0N7IKSK6f9"
      },
      "outputs": [],
      "source": [
        "def dot(v1, v2):\n",
        "    if len(v1) == len(v2):\n",
        "        output = 0\n",
        "        for i in range(len(v1)):\n",
        "            output += v1[i] * v2[i]\n",
        "    return output"
      ]
    },
    {
      "cell_type": "code",
      "execution_count": 13,
      "metadata": {
        "colab": {
          "base_uri": "https://localhost:8080/"
        },
        "id": "x-Axg_FKIIIF",
        "outputId": "9508b503-37c5-45ad-d5b7-174e9735418c"
      },
      "outputs": [
        {
          "name": "stdout",
          "output_type": "stream",
          "text": [
            "-15\n",
            "-15\n",
            "-15\n"
          ]
        }
      ],
      "source": [
        "print(dot(v1, v2))\n",
        "print(dot(v2, v1))\n",
        "print(vector.dot(v2))"
      ]
    },
    {
      "cell_type": "code",
      "execution_count": 14,
      "metadata": {
        "colab": {
          "base_uri": "https://localhost:8080/"
        },
        "id": "lTDcB2jXJW7P",
        "outputId": "9d810acc-8045-40e2-8e59-23074cd9395d"
      },
      "outputs": [
        {
          "name": "stdout",
          "output_type": "stream",
          "text": [
            "-15\n",
            "-15\n"
          ]
        }
      ],
      "source": [
        "print(v1_array.dot(v2_array))\n",
        "print(v2_array.dot(v1_array))"
      ]
    },
    {
      "cell_type": "markdown",
      "metadata": {
        "id": "X3vbtmNALshm"
      },
      "source": [
        "## Norma de un Vector\n",
        "La norma es la raíz cuadrada de la suma de los cuadrados de los elementos.\n",
        "$$\n",
        "\\begin{equation}\n",
        "||X|| = \\sqrt{x_{1}^2 + x_{2}^2 + ... + x_{n}^2}\n",
        "\\end{equation}\n",
        "$$\n",
        "Ejemplo:\n",
        "$$\n",
        "\\begin{equation}\n",
        "X = \n",
        "\\begin{bmatrix}\n",
        "200\\\\\n",
        "300\\\\\n",
        "100\\\\\n",
        "360\n",
        "\\end{bmatrix}\\\\\n",
        "||X|| = \\sqrt{200^2 + 300^2 + 100^2 + 360^2} \\approx 519\n",
        "\\end{equation}\n",
        "$$"
      ]
    },
    {
      "cell_type": "code",
      "execution_count": 15,
      "metadata": {
        "id": "O0QaTJsyJm7L"
      },
      "outputs": [],
      "source": [
        "def norm(vector):\n",
        "    output = 0\n",
        "    for i in range(len(vector)):\n",
        "        output += vector[i] ** 2\n",
        "    return output ** (1/2)"
      ]
    },
    {
      "cell_type": "code",
      "execution_count": 16,
      "metadata": {
        "colab": {
          "base_uri": "https://localhost:8080/"
        },
        "id": "56769eG5MPG_",
        "outputId": "0225e0e4-acd9-4f4e-9da8-9132913d4681"
      },
      "outputs": [
        {
          "name": "stdout",
          "output_type": "stream",
          "text": [
            "7.416198487095663\n",
            "2.23606797749979\n",
            "519.2301994298867\n"
          ]
        }
      ],
      "source": [
        "print(norm(v1))\n",
        "print(norm(v2))\n",
        "print(norm([200, 300, 100, 360]))"
      ]
    },
    {
      "cell_type": "markdown",
      "metadata": {
        "id": "HY_2WDeMMUnv"
      },
      "source": [
        "En Numpy..."
      ]
    },
    {
      "cell_type": "code",
      "execution_count": 17,
      "metadata": {
        "colab": {
          "base_uri": "https://localhost:8080/"
        },
        "id": "bMaGan8KMTMu",
        "outputId": "1dc65552-cac3-495c-f066-7bc44b37a916"
      },
      "outputs": [
        {
          "data": {
            "text/plain": [
              "7.416198487095663"
            ]
          },
          "execution_count": 17,
          "metadata": {},
          "output_type": "execute_result"
        }
      ],
      "source": [
        "np.linalg.norm(v1_array)"
      ]
    },
    {
      "cell_type": "code",
      "execution_count": 18,
      "metadata": {
        "colab": {
          "base_uri": "https://localhost:8080/"
        },
        "id": "1Sygk9E3Ms66",
        "outputId": "979b7522-f08a-45da-87b4-fe9a9156b7e4"
      },
      "outputs": [
        {
          "data": {
            "text/plain": [
              "2.23606797749979"
            ]
          },
          "execution_count": 18,
          "metadata": {},
          "output_type": "execute_result"
        }
      ],
      "source": [
        "np.linalg.norm(v2_array)"
      ]
    },
    {
      "cell_type": "code",
      "execution_count": 19,
      "metadata": {
        "colab": {
          "base_uri": "https://localhost:8080/"
        },
        "id": "fSWPI7hwoq47",
        "outputId": "5312c553-74d3-4e23-8f06-a523a96b30e1"
      },
      "outputs": [
        {
          "data": {
            "text/plain": [
              "519.2301994298867"
            ]
          },
          "execution_count": 19,
          "metadata": {},
          "output_type": "execute_result"
        }
      ],
      "source": [
        "np.linalg.norm(np.array([200,300,100,360]))"
      ]
    },
    {
      "cell_type": "markdown",
      "metadata": {
        "id": "KgRNX28GNmXg"
      },
      "source": [
        "## Distancia Entre Vectores\n",
        "La distancia entre vectores es la raíz cuadrada de la suma de los cuadrados de las diferencias entre los elementos de la misma posición de cada vector:\n",
        "\n",
        "$$\n",
        "d(X_1, X_2) = \\sqrt{(x_{11}-x_{21})^2 + (x_{12}-x_{22})^2 + ... + (x_{1n}-x_{2n})^2}\n",
        "$$\n",
        "\n",
        "Ejemplo:\n",
        "\n",
        "$$\n",
        "d(X_1, X_2) = \\sqrt{(380-200)^2 + (580-300)^2 + (420-100)^2 + (840-360)^2} ≈ 666\n",
        "$$\n"
      ]
    },
    {
      "cell_type": "code",
      "execution_count": 20,
      "metadata": {
        "id": "Pzi5NHnOMvgP"
      },
      "outputs": [],
      "source": [
        "def euclidian_distance(v1, v2):\n",
        "    v2 = multiply(v2, -1)\n",
        "    suma = sum(v1, v2)\n",
        "    norma = norm(suma)\n",
        "    return norma"
      ]
    },
    {
      "cell_type": "code",
      "execution_count": 21,
      "metadata": {
        "colab": {
          "base_uri": "https://localhost:8080/"
        },
        "id": "JYI8M2r6R9CR",
        "outputId": "189eebe2-d186-49f0-ce23-f756146b2e60"
      },
      "outputs": [
        {
          "name": "stdout",
          "output_type": "stream",
          "text": [
            "9.486832980505138\n",
            "9.486832980505138\n",
            "0.0\n",
            "0.0\n",
            "666.0330322138685\n"
          ]
        }
      ],
      "source": [
        "print(euclidian_distance(v1, v2))\n",
        "print(euclidian_distance(v2, v1))\n",
        "print(euclidian_distance(v1, v1))\n",
        "print(euclidian_distance(v2, v2))\n",
        "print(euclidian_distance([380,580,420,840],[200,300,100,360]))"
      ]
    },
    {
      "cell_type": "markdown",
      "metadata": {
        "id": "Fh-7n6hoTF8i"
      },
      "source": [
        "Implementación en Scipy"
      ]
    },
    {
      "cell_type": "code",
      "execution_count": 22,
      "metadata": {
        "colab": {
          "base_uri": "https://localhost:8080/"
        },
        "id": "hW2eY5hbQw-E",
        "outputId": "289d9a16-f563-44ad-92f4-e112532e22b7"
      },
      "outputs": [
        {
          "name": "stdout",
          "output_type": "stream",
          "text": [
            "9.486832980505138\n",
            "9.486832980505138\n",
            "0.0\n",
            "0.0\n",
            "666.0330322138685\n"
          ]
        }
      ],
      "source": [
        "from scipy.spatial import distance\n",
        "print(distance.euclidean(v1,v2))\n",
        "print(distance.euclidean(v2,v1))\n",
        "print(distance.euclidean(v1,v1))\n",
        "print(distance.euclidean(v2,v2))\n",
        "print(distance.euclidean(np.array([380,580,420,840]),np.array([200,300,100,360])))"
      ]
    },
    {
      "cell_type": "markdown",
      "metadata": {
        "id": "fRW7OUDPTIh7"
      },
      "source": [
        "Implementación en Numpy"
      ]
    },
    {
      "cell_type": "code",
      "execution_count": 23,
      "metadata": {
        "colab": {
          "base_uri": "https://localhost:8080/"
        },
        "id": "lV3PaOnoROq8",
        "outputId": "14cafa41-7657-4d77-86b8-16c076dff8af"
      },
      "outputs": [
        {
          "name": "stdout",
          "output_type": "stream",
          "text": [
            "9.486832980505138\n",
            "9.486832980505138\n",
            "0.0\n",
            "0.0\n",
            "666.0330322138685\n"
          ]
        }
      ],
      "source": [
        "print(np.linalg.norm(v1_array - v2_array))\n",
        "print(np.linalg.norm(v2_array - v1_array))\n",
        "print(np.linalg.norm(v1_array - v1_array))\n",
        "print(np.linalg.norm(v2_array - v2_array))\n",
        "print(np.linalg.norm(np.array([380,580,420,840]) - np.array([200,300,100,360])))"
      ]
    },
    {
      "cell_type": "markdown",
      "metadata": {
        "id": "FXizJaBHToZT"
      },
      "source": [
        "## Normalizar un vector\n",
        "Normalizar un vector es básicamente dividir cada elemento del vector por la norma del vector:\n",
        "$$\\begin{equation}\n",
        "N = \n",
        "x/||x|| \n",
        "= [x_{1}/||x||, x_{2}/||x||, ..., x_{n}/||x||]\n",
        "\\end{equation}\n",
        "$$\n",
        "\n",
        "Normalizar un vector es conseguir las coordenadas del vector que logran capturar la longitud 1 para el vector, o dicho de otra forma, es como si tomáramos longitud 1 desde el inicio del vector y buscáramos sus componentes en cada dimensión."
      ]
    },
    {
      "cell_type": "markdown",
      "metadata": {
        "id": "CBE5a0OQFK2A"
      },
      "source": [
        "Matriz entre corchetes $\\bigl[\\begin{smallmatrix}2 & 3\\\\ 4 & 1\\end{smallmatrix}\\bigr]$ integrada en el texto"
      ]
    },
    {
      "cell_type": "code",
      "execution_count": 24,
      "metadata": {
        "id": "tvqrdqSnTSF6"
      },
      "outputs": [],
      "source": [
        "def normalize(vec):\n",
        "    norma = norm(vec)\n",
        "    output = []\n",
        "    for i in range(len(vec)):\n",
        "        vec[i] = output.append(vec[i] / norma)\n",
        "    return output"
      ]
    },
    {
      "cell_type": "code",
      "execution_count": 25,
      "metadata": {
        "colab": {
          "base_uri": "https://localhost:8080/"
        },
        "id": "sFcNUg5WUBPq",
        "outputId": "8d43fa2d-83cf-43cc-9340-7248def036d1"
      },
      "outputs": [
        {
          "name": "stdout",
          "output_type": "stream",
          "text": [
            "[0.13483997249264842, 0.26967994498529685, 0.40451991747794525, 0.5393598899705937, 0.674199862463242]\n",
            "[-0.4472135954999579, -0.4472135954999579, -0.4472135954999579, -0.4472135954999579, -0.4472135954999579]\n"
          ]
        }
      ],
      "source": [
        "print(normalize(v1))\n",
        "print(normalize(v2))"
      ]
    },
    {
      "cell_type": "markdown",
      "metadata": {
        "id": "apM-He3YUQRC"
      },
      "source": [
        "La norma de un vector ya normalizado es 1.\n",
        "\n",
        "Verifiquemos si suman 1:"
      ]
    },
    {
      "cell_type": "code",
      "execution_count": 26,
      "metadata": {
        "colab": {
          "base_uri": "https://localhost:8080/"
        },
        "id": "9ZNmZlmsrw1r",
        "outputId": "337cf515-fa6b-4a64-c7c7-0d7df33b9e8f"
      },
      "outputs": [
        {
          "name": "stdout",
          "output_type": "stream",
          "text": [
            "[1, 2, 3, 4, 5]\n"
          ]
        }
      ],
      "source": [
        "v1 = [1,2,3,4,5]\n",
        "v2 = [-1,-1,-1,-1,-1]\n",
        "print(v1)"
      ]
    },
    {
      "cell_type": "code",
      "execution_count": 27,
      "metadata": {
        "id": "64-PZfw2UeH1"
      },
      "outputs": [],
      "source": [
        "vector1 = normalize(v1)\n",
        "vector2 = normalize(v2)"
      ]
    },
    {
      "cell_type": "code",
      "execution_count": 28,
      "metadata": {
        "colab": {
          "base_uri": "https://localhost:8080/"
        },
        "id": "kfZf4sKBwWV9",
        "outputId": "380e4820-b0d7-4b08-ee78-27ddcf93e2e6"
      },
      "outputs": [
        {
          "name": "stdout",
          "output_type": "stream",
          "text": [
            "1.0\n",
            "1.0\n",
            "1.0\n"
          ]
        }
      ],
      "source": [
        "v1 = [1,2,3,4,5]\n",
        "v2 = [-1,-1,-1,-1,-1]\n",
        "print(norm(vector1))\n",
        "print(norm(vector2))\n",
        "print(norm(normalize(v1)))"
      ]
    },
    {
      "cell_type": "markdown",
      "metadata": {
        "id": "uyb64X39smnb"
      },
      "source": [
        "Implementación en Numpy"
      ]
    },
    {
      "cell_type": "code",
      "execution_count": 29,
      "metadata": {
        "colab": {
          "base_uri": "https://localhost:8080/"
        },
        "id": "DPxCSC-QUhLP",
        "outputId": "845552c6-c59b-4f6e-8ba0-cd33fdf9d314"
      },
      "outputs": [
        {
          "name": "stdout",
          "output_type": "stream",
          "text": [
            "1.0\n",
            "1.0\n"
          ]
        }
      ],
      "source": [
        "v1_normalized = v1_array / np.linalg.norm(v1_array)\n",
        "v2_normalized = v2_array / np.linalg.norm(v2_array)\n",
        "print(np.linalg.norm(v1_normalized))\n",
        "print(np.linalg.norm(v2_normalized))"
      ]
    },
    {
      "cell_type": "markdown",
      "metadata": {
        "id": "rgKjgoPLxbqt"
      },
      "source": [
        "## Ángulo entre Vectores\n",
        "\n",
        "Es el producto punto entre dos vectores previamente normalizados.\n",
        "Para dos vectores *x* e *y*, el ángulo es:\n",
        "\n",
        "$$\n",
        "\\begin{equation}\n",
        "\\cosθ= \\frac{x^Ty}{||x||*||y||} = \\frac{x*y}{||x||*||y||}\n",
        "\\end{equation}\n",
        "$$\n",
        "\n",
        "Si *u* y *v* son las versiones normalizadas de *x* e *y*, entonces es equivalente escribir:\n",
        "\n",
        "$$\n",
        "\\begin{equation}\n",
        "\\cosθ= u^Tv=u*v\n",
        "\\end{equation}\n",
        "$$"
      ]
    },
    {
      "cell_type": "code",
      "execution_count": 30,
      "metadata": {
        "id": "HAeAHlXgxdrs"
      },
      "outputs": [],
      "source": [
        "v1 = [200, 300, 100, 360]\n",
        "v2 = [380, 480, 420, 840]"
      ]
    },
    {
      "cell_type": "code",
      "execution_count": 31,
      "metadata": {
        "colab": {
          "base_uri": "https://localhost:8080/"
        },
        "id": "tljVh0VfyWK0",
        "outputId": "b461eb54-4b91-40c8-8d34-e659eeff4069"
      },
      "outputs": [
        {
          "name": "stdout",
          "output_type": "stream",
          "text": [
            "0.9696030548808356\n"
          ]
        }
      ],
      "source": [
        "v1 = normalize(v1)\n",
        "v2 = normalize(v2)\n",
        "print(dot(v1, v2))"
      ]
    },
    {
      "cell_type": "markdown",
      "metadata": {
        "id": "Nc6wuSBQ7_0k"
      },
      "source": [
        "Numpy"
      ]
    },
    {
      "cell_type": "code",
      "execution_count": 32,
      "metadata": {
        "colab": {
          "base_uri": "https://localhost:8080/"
        },
        "id": "mSTdqpoyziHa",
        "outputId": "a30c3156-815d-4d83-ba14-c4fbe8632842"
      },
      "outputs": [
        {
          "name": "stdout",
          "output_type": "stream",
          "text": [
            "0.9696030548808355\n"
          ]
        }
      ],
      "source": [
        "v1 = np.array(v1)\n",
        "v2 = np.array(v2)\n",
        "v1_normalized = v1 / np.linalg.norm(v1)\n",
        "v2_normalized = v2 / np.linalg.norm(v2)\n",
        "print(v1_normalized.dot(v2_normalized))"
      ]
    },
    {
      "cell_type": "markdown",
      "metadata": {
        "id": "vlZxDoXbHeYe"
      },
      "source": [
        "## Proyección Ortogonal\n",
        "Es la proyección de un vector sobre otro. Da como resultado un vector distinto de los dos vectores, estando a 90 grados del vector proyector y siendo una porción del vector en que está proyectado.\n",
        "\n",
        "$$\n",
        "\\begin{equation}\n",
        "u = proj x = ||x||\\frac{y}{||y||}\\cosθ\n",
        "\\end{equation}\n",
        "$$"
      ]
    },
    {
      "cell_type": "code",
      "execution_count": 33,
      "metadata": {
        "id": "ytvOqKU_79Au"
      },
      "outputs": [],
      "source": [
        "from math import cos\n",
        "def ortogonal_projection(x, y, angle):\n",
        "    normx = norm(x)\n",
        "    y_normalized = normalize(y)\n",
        "    z = multiply(y_normalized, normx)\n",
        "    z = multiply(z, cos(angle))\n",
        "    return z"
      ]
    },
    {
      "cell_type": "code",
      "execution_count": 34,
      "metadata": {
        "colab": {
          "base_uri": "https://localhost:8080/"
        },
        "id": "vovJns4XIW6_",
        "outputId": "50ab65b8-3565-4722-ae11-9054b4ba36a7"
      },
      "outputs": [
        {
          "name": "stdout",
          "output_type": "stream",
          "text": [
            "[1.8473297882228228, -0.4618324470557057, 0.9236648941114114]\n"
          ]
        }
      ],
      "source": [
        "v1 = [2, -1, 3]\n",
        "v2 = [4, -1, 2]\n",
        "angle = 0.9696030548808356\n",
        "print(ortogonal_projection(v1, v2, angle))"
      ]
    },
    {
      "cell_type": "markdown",
      "metadata": {
        "id": "Mtqz_B1NQUHF"
      },
      "source": [
        "## Ortogonalización"
      ]
    },
    {
      "cell_type": "code",
      "execution_count": 35,
      "metadata": {
        "colab": {
          "base_uri": "https://localhost:8080/"
        },
        "id": "Lngok_G1WXy3",
        "outputId": "7172bd14-dcb0-4f7e-c150-af33f08a9cac"
      },
      "outputs": [
        {
          "name": "stdout",
          "output_type": "stream",
          "text": [
            "-4.440892098500626e-16\n"
          ]
        }
      ],
      "source": [
        "print(dot([60/21, -15/21, 30/21], [-18/21, -6/21, 33/21]))"
      ]
    },
    {
      "cell_type": "markdown",
      "metadata": {
        "id": "rmQgSUPefSal"
      },
      "source": [
        "Es una cantidad muy pequeña, podríamos decir que es 0. Se arroja esta cantidad por la forma en que la máquina hace los cálculos a nivel binario."
      ]
    },
    {
      "cell_type": "markdown",
      "metadata": {
        "id": "FtcjstG1LJzu"
      },
      "source": [
        "# Matrices\n",
        "\n",
        "Las matrices son un arreglo de dos dimensiones, es como un grupo de vectores de la misma longitud apilados. Acá mostramos una representación general de las mismas, donde *p* es el número de columnas y *n* el número de filas, una matriz *M* se compone de *n* filas y *p* columnas.\n",
        "\n",
        "\n",
        "$$ M_{n*p} = \\begin{equation}\n",
        "\\begin{bmatrix}\n",
        "x_{11} & x_{12} & ... & x_{1p}\\\\\n",
        "x_{21} & x_{22} & ... & x_{2p}\\\\\n",
        ". & . & . & .\\\\\n",
        ". & . & x_{ij} & .\\\\\n",
        ". & . & . & .\\\\\n",
        "x_{n1} & x{n2} & ... & x_{np}\n",
        "\\end{bmatrix}\n",
        "\\end{equation}$$\n",
        "\n",
        "Veamos un ejemplo de una matriz 2x2:\n",
        "\n",
        "$$ M_{2x2} = \\begin{equation}\n",
        "\\begin{bmatrix}\n",
        "2 & -1\\\\\n",
        "5 & 0\n",
        "\\end{bmatrix}\n",
        "\\end{equation}$$\n",
        "\n",
        "o una 3x3:\n",
        "$$\n",
        "M_{3x3} = \\begin{equation}\n",
        "\\begin{bmatrix}\n",
        "2 & -5 & 8\\\\\n",
        "-5 & 6 & 0\\\\\n",
        "8 & 0 & 3\\\\\n",
        "\\end{bmatrix}\n",
        "\\end{equation}\n",
        "$$\n",
        "\n",
        "también matrices diagonales, es decir donde el número de columna y de fila son el mismo\n",
        "\n",
        "$$\n",
        "M_{3x3} = \\begin{equation}\n",
        "\\begin{bmatrix}\n",
        "1 & 0 & 0\\\\\n",
        "0 & 7 & 0\\\\\n",
        "0 & 0 & 4\\\\\n",
        "\\end{bmatrix}\n",
        "\\end{equation}\n",
        "$$\n",
        "\n",
        "triangular, cuando *i* < *j* ó *j* < *i*:\n",
        "\n",
        "$$\n",
        "M_{3x3} = \\begin{equation}\n",
        "\\begin{bmatrix}\n",
        "4 & 0 & 0\\\\\n",
        "8 & -1 & 0\\\\\n",
        "-5 & 2 & 7\\\\\n",
        "\\end{bmatrix}\n",
        "\\end{equation}\n",
        "$$"
      ]
    },
    {
      "cell_type": "markdown",
      "metadata": {
        "id": "VAVtRgTbipsQ"
      },
      "source": [
        "## Traspuesta de una matriz\n",
        "Es básicamente voltear la matriz, hacer que las filas sean columnas y las columnas, filas. Por ejemplo, si tenemos una matriz 3x4 (3 fila, 4 columnas) ahora con la operación de trasposición sería una matriz 4x3 (4 filas, 3 columnas). Se representa como $$M^T$$\n",
        "\n",
        "$$\n",
        "M_{3x4} = \\begin{equation}\n",
        "\\begin{bmatrix}\n",
        "2 & 0 & 5 & 3\\\\\n",
        "1 & 3 & 8 & 2\\\\\n",
        "7 & 6 & 0 & 4\\\\\n",
        "\\end{bmatrix}\n",
        "\\end{equation}\n",
        "$$\n",
        "\n",
        "$$\n",
        "M_{4x3}^T = \\begin{equation}\n",
        "\\begin{bmatrix}\n",
        "2 & 1 & 7\\\\\n",
        "0 & 3 & 6\\\\\n",
        "5 & 8 & 0\\\\\n",
        "3 & 2 & 4\\\\\n",
        "\\end{bmatrix}\n",
        "\\end{equation}\n",
        "$$\n",
        "Hagamos esta implementación en Python"
      ]
    },
    {
      "cell_type": "code",
      "execution_count": 36,
      "metadata": {
        "colab": {
          "base_uri": "https://localhost:8080/"
        },
        "id": "Ns3DVs_LofBC",
        "outputId": "1f0ce8bc-7ac5-49c3-f7c4-1b601fb4b462"
      },
      "outputs": [
        {
          "name": "stdout",
          "output_type": "stream",
          "text": [
            "Primera matriz: [[2, 0, 5, 3], [1, 3, 8, 2], [7, 6, 0, 4]]\n",
            "Matriz traspuesta: [[2, 1, 7], [0, 3, 6], [5, 8, 0], [3, 2, 4]]\n",
            "Segunda matriz: [[2, 0, 5, 3], [1, 3, 8, 2], [7, 6, 0, 4]]\n",
            "Matriz traspuesta: [[2, 1, 7], [0, 3, 6], [5, 8, 0], [3, 2, 4]]\n"
          ]
        }
      ],
      "source": [
        "def transpose(matrix):\n",
        "    t = []\n",
        "    for i in range(len(matrix[0])):\n",
        "        t.append([])\n",
        "        for j in range(len(matrix)):\n",
        "            t[i].append(matrix[j][i])\n",
        "    return t\n",
        "\n",
        "\n",
        "matriz = [[2,0,5,3],\n",
        "    [1,3,8,2],\n",
        "    [7,6,0,4]]\n",
        "matriz2 = [[2,0,5,3],\n",
        "            [1,3,8,2],\n",
        "            [7,6,0,4]]\n",
        "print(\"Primera matriz:\", matriz)\n",
        "print(\"Matriz traspuesta:\", transpose(matriz))\n",
        "print(\"Segunda matriz:\", matriz2)\n",
        "print(\"Matriz traspuesta:\", transpose(matriz2))"
      ]
    },
    {
      "cell_type": "markdown",
      "metadata": {
        "id": "oW1rkkNfkOFB"
      },
      "source": [
        "## Operaciones con matrices\n",
        "\n",
        "### Adición y sustracción\n",
        "\n",
        "Para que haya una suma o resta de matrices, es obligatorio que sean de las mismas dimensiones. Lógicamente, la matriz resultante será de la misma dimensión. La suma o resta se hace componente a componente.\n",
        "\n",
        "$$\\begin{equation}\n",
        "\\begin{bmatrix}\n",
        "7 & 3 & 9\\\\\n",
        "4 & 8 & 6\\\\\n",
        "\\end{bmatrix}\n",
        "- \n",
        "\\begin{bmatrix}\n",
        "-1 & 2 & 6\\\\\n",
        "3 & 5 & 0\\\\\n",
        "\\end{bmatrix}\n",
        "+\n",
        "\\begin{bmatrix}\n",
        "3 & 9 & -7\\\\\n",
        "5 & 3 & 1\\\\\n",
        "\\end{bmatrix}\n",
        "=\n",
        "\\begin{bmatrix}\n",
        "7-(-1)+3 & 3-2+9 & 9-6+(-7)\\\\\n",
        "4-3+5 & 8-5+3 & 6-0+1\\\\\n",
        "\\end{bmatrix}\n",
        "=\n",
        "\\begin{bmatrix}\n",
        "11 & 10 & -4\\\\\n",
        "6 & 6 & 7\\\\\n",
        "\\end{bmatrix}\n",
        "\\end{equation}\n",
        "$$\n",
        "\n",
        "Implementemos en Python las matrices."
      ]
    },
    {
      "cell_type": "code",
      "execution_count": 37,
      "metadata": {
        "colab": {
          "base_uri": "https://localhost:8080/"
        },
        "id": "UQsxfUcnIofT",
        "outputId": "6f1b5890-a664-4819-f184-0709faba28a1"
      },
      "outputs": [
        {
          "name": "stdout",
          "output_type": "stream",
          "text": [
            "[[11, 10, -4], [6, 6, 7]]\n"
          ]
        }
      ],
      "source": [
        "a = [[7,3,9],\n",
        "    [4,8,6]]\n",
        "b = [[-1,2,6],\n",
        "    [3,5,0]]\n",
        "c = [[3,9,-7],\n",
        "    [5,3,1]]\n",
        "\n",
        "def suma_matrices(m1, m2):\n",
        "    if len(m1) == len(m2) and len(m1[0]) == len(m2[0]):\n",
        "        matriz_suma = []\n",
        "        for i in range(len(m1)):\n",
        "            matriz_suma.append([])\n",
        "            for j in range(len(m1[0])):\n",
        "                matriz_suma[i].append(m1[i][j] + m2[i][j])\n",
        "    else:\n",
        "        return \"DimensionError: no se pueden sumar matrices de diferentes dimensiones.\"            \n",
        "    return matriz_suma\n",
        "\n",
        "def resta_matrices(m1, m2):\n",
        "    matriz_suma = []\n",
        "    for i in range(len(m1)):\n",
        "        matriz_suma.append([])\n",
        "        for j in range(len(m1[0])):\n",
        "            matriz_suma[i].append(m1[i][j] - m2[i][j])\n",
        "    return matriz_suma\n",
        "\n",
        "d = resta_matrices(a,b)\n",
        "e = suma_matrices(d,c)\n",
        "print(e)"
      ]
    },
    {
      "cell_type": "markdown",
      "metadata": {
        "id": "K_RlnmxJFbIU"
      },
      "source": [
        "### Multiplicación por un escalar\n",
        "\n",
        "$$\n",
        "\\begin{equation}\n",
        "a * M = \n",
        "a*\n",
        "\\begin{bmatrix}\n",
        "x_{11} & x_{12} & ... & x_{1p}\\\\\n",
        "x_{21} & x_{22} & ... & x_{2p}\\\\\n",
        "... & ... & x_{ij} & ...\\\\\n",
        "x_{n1} & x_{n2} & ... & x_{np}\n",
        "\\end{bmatrix}\n",
        "=\n",
        "\\begin{bmatrix}\n",
        "a* x_{11} & a*x_{12} & ... & a*x_{1p}\\\\\n",
        "a* x_{21} & a*x_{22} & ... & a*x_{2p}\\\\\n",
        "... & ... & a*x_{ij} & ...\\\\\n",
        "a*x_{n1} & a*x_{n2} & ... & a*x_{np}\n",
        "\\end{bmatrix}\n",
        "\\end{equation}\n",
        "$$"
      ]
    },
    {
      "cell_type": "code",
      "execution_count": 38,
      "metadata": {
        "colab": {
          "base_uri": "https://localhost:8080/"
        },
        "id": "SyJt-vEk46rV",
        "outputId": "7fde5d3d-3998-46a0-9485-1e1b09b90cdc"
      },
      "outputs": [
        {
          "name": "stdout",
          "output_type": "stream",
          "text": [
            "[[6, 15, 24], [9, -12, 21]]\n"
          ]
        }
      ],
      "source": [
        "def mult_escalar(escalar, matrix):\n",
        "    salida = []\n",
        "    for i in range(len(matrix)):\n",
        "        salida.append([])\n",
        "        for j in range(len(matrix[0])):\n",
        "            salida[i].append(escalar * matrix[i][j])\n",
        "    return salida\n",
        "\n",
        "matriz = [[2,5,8],[3,-4,7]]\n",
        "a = 3\n",
        "print(mult_escalar(a, matriz))"
      ]
    },
    {
      "cell_type": "markdown",
      "metadata": {
        "id": "nOkBalCZLG6A"
      },
      "source": [
        "Recordemos que tenemos arriba la función que hace multiplicaciones de vectores por escalar, ya que matrix[i] es un vector y estamos haciendo la operación matrix[i][j] * escalar que en sí es la función multiply."
      ]
    },
    {
      "cell_type": "code",
      "execution_count": 39,
      "metadata": {
        "colab": {
          "base_uri": "https://localhost:8080/"
        },
        "id": "L42tTxIkLX5k",
        "outputId": "d10da798-22ac-4d09-c0cf-15549d951291"
      },
      "outputs": [
        {
          "name": "stdout",
          "output_type": "stream",
          "text": [
            "[[6, 15, 24], [9, -12, 21]]\n"
          ]
        }
      ],
      "source": [
        "def mult_escalar(escalar, matrix):\n",
        "    salida = []\n",
        "    for i in range(len(matrix)):\n",
        "        salida.append(multiply(matrix[i], escalar))\n",
        "    return salida\n",
        "\n",
        "matriz = [[2,5,8],[3,-4,7]]\n",
        "a = 3\n",
        "print(mult_escalar(a, matriz))"
      ]
    },
    {
      "attachments": {},
      "cell_type": "markdown",
      "metadata": {
        "id": "h3gMC_6CIWJR"
      },
      "source": [
        "### Multiplicación de Matrices\n",
        "En la multiplicación de matrices debe cumplirse que el número de columnas de la matriz 1 sea igual que el número de filas de la matriz 2, así que si se cumple, se puede efectuar la operación.\n",
        "\n",
        "$$\n",
        "\\begin{equation}\n",
        "M_{1} * M_{2} = \n",
        "\\begin{bmatrix}\n",
        "x_{11} & x_{12} & x_{13}\\\\\n",
        "x_{21} & x_{22} & x_{23}\\\\\n",
        "x_{31} & x_{32} & x_{33}\n",
        "\\end{bmatrix}*\n",
        "\\begin{bmatrix}\n",
        "y_{11} & y_{12}\\\\\n",
        "y_{21} & y_{22}\\\\\n",
        "y_{31} & y_{32}\n",
        "\\end{bmatrix}\n",
        "=\n",
        "\\begin{bmatrix}\n",
        "x_{11} *y_{11} + x_{12}*y_{21} + x_{13}*y_{31} & x_{11} *y_{12} + x_{12}*y_{22} + x_{13}*y_{32}\\\\\n",
        "x_{21} *y_{11} + x_{22}*y_{21} + x_{23}*y_{31} & x_{21} *y_{12} + x_{22}*y_{22} + x_{23}*y_{32}\\\\\n",
        "x_{31} *y_{11} + x_{32}*y_{21} + x_{33}*y_{31} & x_{31} *y_{12} + x_{32}*y_{22} + x_{33}*y_{32}\\\\\n",
        "\\end{bmatrix}\n",
        "\\end{equation}$$"
      ]
    },
    {
      "attachments": {},
      "cell_type": "markdown",
      "metadata": {},
      "source": [
        "De manera que:\n",
        "\n",
        "$$\\begin{equation}\n",
        "\\begin{bmatrix}\n",
        "2 & 3 & 4\\\\\n",
        "0 & 1 & 7\\\\\n",
        "1 & 2 & 5\n",
        "\\end{bmatrix}*\n",
        "\\begin{bmatrix}\n",
        "1 & 3\\\\\n",
        "-2 & 1\\\\\n",
        "4 & 5\n",
        "\\end{bmatrix}\\\\\n",
        "=\n",
        "\\begin{bmatrix}\n",
        "2*1 + 3*(-2) + 4*4 & 2*3 + 3*1 + 4*5\\\\\n",
        "0*1 + 1*(-2) + 7*5 & 0*3 + 1*1 + 7*5\\\\\n",
        "1*1 + 2*(-2) + 5*4 & 1*3 + 2*1 + 5*5\n",
        "\\end{bmatrix}\n",
        "=\n",
        "\\begin{bmatrix}\n",
        "12 & 29\\\\\n",
        "26 & 36\\\\\n",
        "17 & 30\n",
        "\\end{bmatrix}\n",
        "\\end{equation}$$\n",
        "\n",
        "Esa operación es entre vector y vector, podemos ahorrar líneas usando la función dot que tenemos arriba, también necesitamos usar la transpuesta de la matriz para que nos dé el resultado correcto, dado que el lenguaje Python no va a comprender que conceptualmente usamos el vector columna."
      ]
    },
    {
      "cell_type": "code",
      "execution_count": 40,
      "metadata": {
        "colab": {
          "base_uri": "https://localhost:8080/"
        },
        "id": "nJrLJDS5IAEy",
        "outputId": "8cc7025c-3ad3-4e36-a55d-00d938bba8ee"
      },
      "outputs": [
        {
          "name": "stdout",
          "output_type": "stream",
          "text": [
            "Matriz m2 traspuesta: [[1, -2, 4], [3, 1, 5]]\n",
            "[[12, 29], [26, 36], [17, 30]]\n"
          ]
        }
      ],
      "source": [
        "def mult_matrices(m1, m2):\n",
        "    if len(m1[0]) == len(m2):\n",
        "        filas = len(m1)\n",
        "        columnas = len(m2[0])\n",
        "        salida = []\n",
        "        traspuesta_m2 = transpose(m2)\n",
        "        print(\"Matriz m2 traspuesta:\", traspuesta_m2)\n",
        "        for i in range(filas):\n",
        "            salida.append([])\n",
        "            for j in range(columnas):\n",
        "                salida[i].append(dot(m1[i], traspuesta_m2[j]))\n",
        "\n",
        "    else:\n",
        "        print(\"DimensionError: no se pueden multiplicar estas matrices. Revise la dimensionalidad\")\n",
        "    return salida\n",
        "\n",
        "a = [[2,3,4],\n",
        "    [0,1,7],\n",
        "    [1,2,5]]\n",
        "b = [[1,3],\n",
        "    [-2,1],\n",
        "    [4,5]]\n",
        "print(mult_matrices(a,b))"
      ]
    },
    {
      "cell_type": "markdown",
      "metadata": {
        "id": "RaDtxmtMoINy"
      },
      "source": [
        "Como adicional, creemos una función que haga el trabajo de darnos las dimensiones de una matriz"
      ]
    },
    {
      "cell_type": "code",
      "execution_count": 43,
      "metadata": {
        "id": "kUlrQtRYTpsx"
      },
      "outputs": [],
      "source": [
        "def dimension(m):\n",
        "    rows = len(m)\n",
        "    #len(m[0])\n",
        "    if type(m[0]) == int:\n",
        "        tupla = (rows, 1)\n",
        "    else:\n",
        "        columns = len(m[0])\n",
        "        tupla = (rows, columns)\n",
        "    return tupla"
      ]
    },
    {
      "cell_type": "code",
      "execution_count": 44,
      "metadata": {},
      "outputs": [
        {
          "name": "stdout",
          "output_type": "stream",
          "text": [
            "(11, 1)\n",
            "(11, 1)\n"
          ]
        }
      ],
      "source": [
        "x = [-9,-7,-5,-3,-1,0,1,3,5,7,9]\n",
        "y = [-17,-13,-9,-5,-1,0,3,7,11,15,19]\n",
        "\n",
        "print(dimension(x))\n",
        "print(dimension(y))"
      ]
    },
    {
      "cell_type": "code",
      "execution_count": null,
      "metadata": {
        "colab": {
          "base_uri": "https://localhost:8080/"
        },
        "id": "oovE7A8_oh29",
        "outputId": "2e7892e1-1766-4e3d-e898-441070593dbc"
      },
      "outputs": [
        {
          "name": "stdout",
          "output_type": "stream",
          "text": [
            "(3, 3)\n",
            "(3, 2)\n",
            "(3, 2)\n"
          ]
        }
      ],
      "source": [
        "print(dimension([[2,3,4],\n",
        "     [0,1,7],\n",
        "     [1,2,5]]))\n",
        "print(dimension([[1,3],\n",
        "     [-2,1],\n",
        "     [4,5]]))\n",
        "print(dimension([[12, 29], [26, 36], [17, 30]]))"
      ]
    },
    {
      "attachments": {},
      "cell_type": "markdown",
      "metadata": {
        "id": "KMTAQ02Oqg9e"
      },
      "source": [
        "La multiplicación de matrices es distributiva y asociativa\n",
        "$$\n",
        "\\begin{equation}\n",
        "(B_{nxp} + C_{nxp}) X_{pxr} = B_{nxp}X_{pxr} + C_{nxp}X_{pxr}\\\\\n",
        "X_{nxp}(D_{pxr}+E_{pxr}) = X_{nxp}D_{pxr} + X_{nxp}E_{pxr}\\\\\n",
        "X_{nxp}(F_{pxm}G_{mxr}) = (X_{nxp}F_{pxm})G_{mxr}\n",
        "\\end{equation}\n",
        "$$\n",
        "\n",
        "Pero no es conmutativa:\n",
        "\n",
        "$$\n",
        "\\begin{equation}\n",
        "X_{pxp}B_{pxp} \\neq B_{pxp}X_{pxp}\n",
        "\\end{equation}\n",
        "$$\n",
        "\n",
        "#### Propiedades a tener en cuenta\n",
        "- Matriz identidad por una matriz cualquiera\n",
        "$$\n",
        "\\begin{equation}\n",
        "I_{nxn}X_{nxp} = X_{nxp}I_{pxp} = X_{nxp}\n",
        "\\end{equation}\n",
        "$$\n",
        "\n",
        "-$$\n",
        "\\begin{equation}\n",
        "X_{nxp}X_{pxn}^T\n",
        "\\end{equation}\n",
        "$$ \n",
        "es una matriz simétrica nxn\n",
        "\n",
        "-$$\n",
        "\\begin{equation}\n",
        "X_{pxn}^TX_{nxp}\n",
        "\\end{equation}\n",
        "$$ \n",
        "es una matriz simétrica pxp\n",
        "\n",
        "-$$\n",
        "\\begin{equation}\n",
        "X_{nxn}X_{nxn} = X^2\n",
        "\\end{equation}\n",
        "$$ \n",
        "\n",
        "-$$\n",
        "\\begin{equation}\n",
        "0 X = 0 \\quad y \\quad X0=0\n",
        "\\end{equation}\n",
        "$$ "
      ]
    },
    {
      "cell_type": "markdown",
      "metadata": {
        "id": "qTATtFqb9Z_e"
      },
      "source": [
        "### Determinante de una matriz\n",
        "\n",
        "$$\\begin{equation}\n",
        "X_{2x2}=\n",
        "\\begin{bmatrix}\n",
        "x_{11} & x_{12}\\\\\n",
        "x_{21} & x_{22}\\\\\n",
        "\\end{bmatrix} =\n",
        "x_{11}*x_{22} - x_{12}x_{21}\n",
        "\\end{equation}$$ \n",
        "Veamos una matriz 3x3:\n",
        "$$\\begin{equation}\n",
        "X_{3x3}=\n",
        "\\begin{bmatrix}\n",
        "x_{11} & x_{12} & x_{13}\\\\\n",
        "x_{21} & x_{22} & x_{23}\\\\\n",
        "x_{31} & x_{32} & x_{33}\\\\\n",
        "\\end{bmatrix} =\\\\\n",
        "x_{11}*x_{22}*x_{33} +x_{12}*x_{23}*x_{31}+x_{13}*x_{21}*x_{32}\\\\-x_{13}*x_{22}*x_{31}-x_{12}*x_{21}*x_{33}-x_{11}*x_{23}*x_{32}\n",
        "\\end{equation}$$\n",
        "Ejemplos:\n",
        "$$\\begin{equation}\n",
        "X_{2x2}=\n",
        "\\begin{bmatrix}\n",
        "39 & 24\\\\\n",
        "24 & 21\\\\\n",
        "\\end{bmatrix} =\n",
        "39*21 - 24*24 = 243\n",
        "\\end{equation}$$ \n",
        "Veamos una matriz 3x3:\n",
        "$$\\begin{equation}\n",
        "X_{3x3}=\n",
        "\\begin{bmatrix}\n",
        "2 & 3 & 4\\\\\n",
        "0 & -1 & 7\\\\\n",
        "1 & 2 & 5\\\\\n",
        "\\end{bmatrix} =\\\\\n",
        "2*(-1)*5 + 3*7*1 + 4*0*2 - 1*(-1)*4 - 3*0*5 - 2*7*2\\\\\n",
        "= -10+21+0+4-0-28 \\\\\n",
        "= 25-38 = -13\n",
        "\\end{equation}$$"
      ]
    },
    {
      "cell_type": "code",
      "execution_count": null,
      "metadata": {
        "id": "kFXMxMo3onmK"
      },
      "outputs": [],
      "source": [
        "def determinante(m):\n",
        "    rows = len(m)\n",
        "    columns = len(m[0])\n",
        "    if rows == columns:\n",
        "        if rows == 2:\n",
        "            det = m[0][0]*m[1][1] - m[0][1]*m[1][0]\n",
        "        elif rows == 3:\n",
        "            det = m[0][0]*m[1][1]*m[2][2] + m[0][1]*m[1][2]*m[2][0] + m[0][2]*m[1][0]*m[2][1] - m[0][2]*m[1][1]*m[2][0] - m[0][1]*m[1][0]*m[2][2] - m[0][0]*m[1][2]*m[2][1]\n",
        "        else:\n",
        "            return f\"No tenemos resolución para su matriz {rows}x{columns}\"\n",
        "    else:\n",
        "        return \"No es matriz cuadrada\"\n",
        "    return det"
      ]
    },
    {
      "cell_type": "code",
      "execution_count": null,
      "metadata": {
        "colab": {
          "base_uri": "https://localhost:8080/"
        },
        "id": "-hMAS-YuCtAR",
        "outputId": "4f775219-c457-40d4-e4e8-9f888052029d"
      },
      "outputs": [
        {
          "name": "stdout",
          "output_type": "stream",
          "text": [
            "243\n",
            "-13\n"
          ]
        }
      ],
      "source": [
        "m22 = [[39,24],[24,21]]\n",
        "m33 = [[2,3,4],[0,-1,7],[1,2,5]]\n",
        "print(determinante(m22))\n",
        "print(determinante(m33))"
      ]
    },
    {
      "cell_type": "markdown",
      "metadata": {
        "id": "sP6i7WDhFHj2"
      },
      "source": [
        "Cuando una matrix es linealmente dependiente, su determinante es cero\n",
        "\n",
        "$$\\begin{equation}\n",
        "X_{3x3}=\n",
        "\\begin{bmatrix}\n",
        "1 & 0 & -2\\\\\n",
        "4 & 8 & 0\\\\\n",
        "3 & 7 & 1\\\\\n",
        "\\end{bmatrix}\\\\\n",
        "=8+0-56+48-0-0\\\\\n",
        "= 56-56 = 0\n",
        "\\end{equation}$$"
      ]
    },
    {
      "cell_type": "code",
      "execution_count": null,
      "metadata": {
        "colab": {
          "base_uri": "https://localhost:8080/"
        },
        "id": "_Ko8iN2sEu4G",
        "outputId": "0a73157c-3a66-49a7-9ca2-0f9ce318879e"
      },
      "outputs": [
        {
          "name": "stdout",
          "output_type": "stream",
          "text": [
            "0\n"
          ]
        }
      ],
      "source": [
        "m = [[1,0,-2],[4,8,0],[3,7,1]]\n",
        "print(determinante(m))"
      ]
    },
    {
      "cell_type": "code",
      "execution_count": null,
      "metadata": {
        "id": "2OmY7YJqGACh"
      },
      "outputs": [],
      "source": []
    }
  ],
  "metadata": {
    "colab": {
      "authorship_tag": "ABX9TyPBFkuge4WIU+yf2EA4bDPB",
      "include_colab_link": true,
      "provenance": []
    },
    "kernelspec": {
      "display_name": "env",
      "language": "python",
      "name": "python3"
    },
    "language_info": {
      "codemirror_mode": {
        "name": "ipython",
        "version": 3
      },
      "file_extension": ".py",
      "mimetype": "text/x-python",
      "name": "python",
      "nbconvert_exporter": "python",
      "pygments_lexer": "ipython3",
      "version": "3.8.10"
    },
    "vscode": {
      "interpreter": {
        "hash": "b701442cd46990a7433aaeddf657e540181f8aa418ae85c35c1b9023d02f7f13"
      }
    }
  },
  "nbformat": 4,
  "nbformat_minor": 0
}
