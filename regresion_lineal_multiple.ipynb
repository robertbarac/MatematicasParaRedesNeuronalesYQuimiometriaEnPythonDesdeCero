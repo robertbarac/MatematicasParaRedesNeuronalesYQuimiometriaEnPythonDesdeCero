{
 "cells": [
  {
   "attachments": {},
   "cell_type": "markdown",
   "metadata": {},
   "source": [
    "# Regresión Lineal Múltiple\n",
    "\n",
    "Ya teniendo clara la regresión lineal simple, es fácil comprender la múltiple\n",
    "\n",
    "La regresión lineal múltiple se entiende de la siguinte forma:\n",
    "$$\\begin{equation}\n",
    "f_{\\vec{w},b}(\\vec{x}) = w_{1}*x_{1} + w_{2}*x_{2} + ... + w_{n}*x_{n} + b\n",
    "\\end{equation}\n",
    "$$\n",
    "teniendo en cuenta que $\\vec{w}$ es un vector de pesos, cuya longitud es igual a la de cualquier vector de ejemplo. El vector de pesos sería: $\\vec{w} = [w_{1}, w_{2}, ..., w_{n}]$ y sobre un ejemplo x es un vector: $\\vec{x} = [x_{1}, x_{2}, ..., x_{n}]$\n",
    "que pertenece a una matriz X:\n",
    "$X_{m,n} = \\begin{equation}\n",
    "\\begin{bmatrix}\n",
    "x_{11} & x_{12} & ... & x_{1n}\\\\\n",
    "x_{21} & x_{22} & ... & x_{2n}\\\\\n",
    ". & . & . & .\\\\\n",
    ". & . & x_{ij} & .\\\\\n",
    ". & . & . & .\\\\\n",
    "x_{m1} & x_{m2} & ... & x_{mn}\n",
    "\\end{bmatrix}\n",
    "\\end{equation}$\n",
    "\n",
    "La matriz de ejemplos tendrá una dimensión de $(m,n)$, que al ser hecho el producto punto por el vector $\\vec{w}$ este vector debe ser de dimensión $(n,1)$ y el resultado, que será de $(m,1)$, se les debe sumar el escalar $b$."
   ]
  },
  {
   "attachments": {},
   "cell_type": "markdown",
   "metadata": {},
   "source": [
    "De manera que la derivada respecto a b sigue siendo como la de una regresión simple, pero la derivada respecto a w sería:\n",
    "\n",
    "$$\n",
    "\\begin{equation}\n",
    "\\frac{\\partial{J_{\\vec{w}, b}}(\\vec{w}, b)}{\\partial{w}} = -\\frac{2}{m}\\sum_{i=1}^{m}(y - wx -b)*x_{j}^{i}\n",
    "\\end{equation}\n",
    "$$\n",
    "donde i es el vector ejemplo i-ésimo y j es el dato en la posición j-ésima del vector $x^{i}$, es decir, $x_{j}^{i}$ representa un escalar, y tiene todo el sentido porque vamos a intentar calcular la derivada.\n",
    "\n",
    "La derivada respecto al sesgo $b$ es:\n",
    "$$\n",
    "\\begin{equation}\n",
    "\\frac{\\partial{J_{\\vec{w}, b}}(\\vec{w}, b)}{\\partial{b}} = -\\frac{2}{m}\\sum_{i=1}^{m}(y - wx -b)\n",
    "\\end{equation}\n",
    "$$"
   ]
  },
  {
   "cell_type": "code",
   "execution_count": 1,
   "metadata": {},
   "outputs": [],
   "source": [
    "import ipynb"
   ]
  },
  {
   "cell_type": "code",
   "execution_count": null,
   "metadata": {},
   "outputs": [],
   "source": []
  }
 ],
 "metadata": {
  "kernelspec": {
   "display_name": "env",
   "language": "python",
   "name": "python3"
  },
  "language_info": {
   "codemirror_mode": {
    "name": "ipython",
    "version": 3
   },
   "file_extension": ".py",
   "mimetype": "text/x-python",
   "name": "python",
   "nbconvert_exporter": "python",
   "pygments_lexer": "ipython3",
   "version": "3.8.10"
  },
  "orig_nbformat": 4
 },
 "nbformat": 4,
 "nbformat_minor": 2
}
