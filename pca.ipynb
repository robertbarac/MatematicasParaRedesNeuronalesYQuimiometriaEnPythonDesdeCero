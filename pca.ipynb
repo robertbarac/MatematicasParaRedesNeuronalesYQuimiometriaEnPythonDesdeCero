{
 "cells": [
  {
   "attachments": {},
   "cell_type": "markdown",
   "metadata": {},
   "source": [
    "## Análisis de Componentes Principales"
   ]
  },
  {
   "attachments": {},
   "cell_type": "markdown",
   "metadata": {},
   "source": [
    "Cuando tenemos muchas columnas de una matriz de datos, el entrenamiento puede tornarse infructuoso dado que se hacen muchos cálculos, más gasto de tiempo y más demora para llegar a una convergencia.\n",
    "\n",
    "Supongamos que tenemos una matriz de datos de dimensión $(m,n)$, donde $m$ es la cantidad de filas o ejemplos para entrenar los datos y $n$ es la cantidad de columnas ó características que tiene la matriz. Cuando $n$ es tan grande que aumenta el procesamiento y no da para lograr entrenar rápido y efectivamente a un modelo, el PCA o análisis de componentes principales puede ser útil."
   ]
  },
  {
   "attachments": {},
   "cell_type": "markdown",
   "metadata": {},
   "source": [
    "PCA consiste en:\n",
    "1. Previamente estandarizar los datos:\n",
    "  \\begin{equation}X_{escalado} = X - \\bar{X}\n",
    "  \\end{equation}\n",
    "2. Crear la matriz de covarianza entre los datos. Es lógico que la matriz de covarianza será de dimensión $n,n$. Recordemos que la covarianza mide la correlación que hay entre entre una variable y otra. La máxima correlación botará el valor de 1.\n",
    "  \n",
    "  \\begin{equation}\n",
    "  \\sigma^{2}_{xy} = \\frac{\\sigma_{i=1}^{n}(x_{i} - \\bar{x})(y_{i} - \\bar{y})}{n-1}\n",
    "  \\end{equation}\n",
    "3. Buscar los autovalores y autovectores que satisfagan a la matriz de covarianza:\n",
    "  \\begin{equation}\n",
    "  Cov*\\vec{V} = \\lambda * \\vec{V}\n",
    "  \\end{equation}\n",
    "$\n",
    "  \\begin{equation}\n",
    "\\begin{bmatrix}\n",
    "C_{11} & C_{12} & . & . & . & C_{1n}\\\\\n",
    "C_{21} & C_{22} & . & . & . & C_{1n}\\\\\n",
    ". & . & . & . & . & .\\\\\n",
    ". & . & . & . & . & .\\\\\n",
    ". & . & . & . & . & .\\\\\n",
    "C_{m1} & C_{m2} & . & . & . & C_{mn}\\\\\n",
    "\\end{bmatrix} * \n",
    "\\begin{bmatrix}\n",
    "v_{1}\\\\\n",
    "v_{2}\\\\\n",
    ".\\\\\n",
    ".\\\\\n",
    ".\\\\\n",
    "v_{n}\n",
    "\\end{bmatrix} = \n",
    "\\lambda * \n",
    "\\begin{bmatrix}\n",
    "v_{1}\\\\\n",
    "v_{2}\\\\\n",
    ".\\\\\n",
    ".\\\\\n",
    ".\\\\\n",
    "v_{n}\n",
    "\\end{bmatrix}\n",
    "\\end{equation}$\n",
    "4. Organizar los autovalores de mayor a menor, de manera que obtengamos los vectores propios que otorgan la mayor varianza. A mayor valor del autovalor, significa que su autovector respectivo nos dará mayor varianza de los datos.\n",
    "5. Dada esa selección previa de la cantidad de componentes que queremos obtener, se construye la matriz de proyección, esto se hará con la cantidad de componentes que querramos escoger.\n",
    "6. Luego de ya obtenida la matriz de autovectores, se hace la transformación del conjunto de datos, esto se hace por un producto de matrices de la matriz de datos de dimensión $(m,n)$ ya estandarizada, por la matriz de autovectores de dimensión $(n,z)$, donde $z < n$, lógicamente la matriz resultante es de dimensión $(m,z)$ y tendrá por significado la matriz de datos en modo PCA.\n",
    "\n",
    "\\begin{equation}\n",
    "X_{transformado}^{(m,z)} = X^{(m,n)}_{centrado} * M_{autovectores}^{(n,z)}\n",
    "\\end{equation}\n",
    "\n",
    "Se puede saber que los autovalores y autovectores son los correctos si cumplen esta propiedad: $\\begin{equation}\n",
    "C = \\begin{bmatrix}\n",
    "V_{11} & V_{12} & ... & V_{1z}\\\\\n",
    "V_{21} & V_{22} & ... & V_{2z}\\\\\n",
    ". & . & ... & .\\\\\n",
    ". & . & ... & .\\\\\n",
    ". & . & ... & .\\\\\n",
    "V_{m1} & V_{m2} & ... & V_{mz}\\\\\n",
    "\\end{bmatrix} * \\begin{bmatrix}\n",
    "\\lambda_{1} & 0 & 0 & 0 & ...\\\\\n",
    "0 & \\lambda_{2} & 0 & 0 & ...\\\\\n",
    "0 & 0 & \\lambda_{3} & 0 & ...\\\\\n",
    "0 & 0 & 0 & ... & ...\\\\\n",
    "0 & 0 & 0 & 0 &\\lambda{n} \\\\\n",
    "\\end{bmatrix} * \n",
    "\\begin{bmatrix}\n",
    "C_{11} & C_{12} & . & . & . & C_{1n}\\\\\n",
    "C_{21} & C_{22} & . & . & . & C_{2n}\\\\\n",
    ". & . & . & . & . & .\\\\\n",
    ". & . & . & . & . & .\\\\\n",
    ". & . & . & . & . & .\\\\\n",
    "C_{m1} & C_{m2} & . & . & . & C_{mn}\\\\\n",
    "\\end{bmatrix}^{-1} = \n",
    "\\begin{bmatrix}\n",
    "C_{11} & C_{12} & . & . & . & C_{1n}\\\\\n",
    "C_{21} & C_{22} & . & . & . & C_{1n}\\\\\n",
    ". & . & . & . & . & .\\\\\n",
    ". & . & . & . & . & .\\\\\n",
    ". & . & . & . & . & .\\\\\n",
    "C_{m1} & C_{m2} & . & . & . & C_{mn}\\\\\n",
    "\\end{bmatrix}\n",
    "\\end{equation}$"
   ]
  },
  {
   "attachments": {},
   "cell_type": "markdown",
   "metadata": {},
   "source": [
    "Pongamos un ejemplo sencillo para que sea de sencilla comprensión."
   ]
  },
  {
   "cell_type": "code",
   "execution_count": 1,
   "metadata": {},
   "outputs": [],
   "source": [
    "%matplotlib inline\n",
    "import matplotlib.pyplot as plt\n",
    "import numpy as np\n",
    "from numpy.linalg import eig, det, norm, inv"
   ]
  },
  {
   "attachments": {},
   "cell_type": "markdown",
   "metadata": {},
   "source": [
    "Creemos una matriz 2x2 que sean nuestros datos"
   ]
  },
  {
   "cell_type": "code",
   "execution_count": 3,
   "metadata": {},
   "outputs": [],
   "source": [
    "np.random.seed(42)\n",
    "x = 3*np.random.rand(200)\n",
    "y = 20*x + 2*np.random.rand(200)\n",
    "\n",
    "x = x.reshape(200,1)\n",
    "y = y.reshape(200,1)"
   ]
  },
  {
   "cell_type": "code",
   "execution_count": 4,
   "metadata": {},
   "outputs": [],
   "source": [
    "xy = np.hstack([x, y])"
   ]
  },
  {
   "attachments": {},
   "cell_type": "markdown",
   "metadata": {},
   "source": [
    "$xy$ es muy grande, de dimensión (200,2). Miremos cómo luce en gráfica"
   ]
  },
  {
   "cell_type": "code",
   "execution_count": 6,
   "metadata": {},
   "outputs": [
    {
     "data": {
      "image/png": "[encoded data removed]",
      "text/plain": [
       "<Figure size 640x480 with 1 Axes>"
      ]
     },
     "metadata": {},
     "output_type": "display_data"
    }
   ],
   "source": [
    "plt.plot(xy[:, 0], xy[:, 1], '.')\n",
    "plt.show()"
   ]
  },
  {
   "attachments": {},
   "cell_type": "markdown",
   "metadata": {},
   "source": [
    "Centremos los datos y grafiquemos para saber qué cambió"
   ]
  },
  {
   "cell_type": "code",
   "execution_count": 7,
   "metadata": {},
   "outputs": [],
   "source": [
    "xy_centrado = xy - np.mean(xy, axis=0)"
   ]
  },
  {
   "cell_type": "code",
   "execution_count": 8,
   "metadata": {},
   "outputs": [
    {
     "data": {
      "image/png": "[encoded data removed]",
      "text/plain": [
       "<Figure size 640x480 with 1 Axes>"
      ]
     },
     "metadata": {},
     "output_type": "display_data"
    }
   ],
   "source": [
    "plt.plot(xy_centrado[:, 0], xy_centrado[:, 1], '.')\n",
    "plt.show()"
   ]
  },
  {
   "attachments": {},
   "cell_type": "markdown",
   "metadata": {},
   "source": [
    "Vemos claramente que quedaron centrados en el 0. Ahora busquemos los autovalores y autovectores."
   ]
  },
  {
   "cell_type": "code",
   "execution_count": 10,
   "metadata": {},
   "outputs": [
    {
     "data": {
      "text/plain": [
       "array([[-0.99875285, -0.04992746],\n",
       "       [ 0.04992746, -0.99875285]])"
      ]
     },
     "execution_count": 10,
     "metadata": {},
     "output_type": "execute_result"
    }
   ],
   "source": [
    "avals, avecs = eig(xy_centrado.T.dot(xy_centrado))\n",
    "avecs"
   ]
  },
  {
   "attachments": {},
   "cell_type": "markdown",
   "metadata": {},
   "source": [
    "Ahora lo que necesitamos reflejar es este par de autovectores en la gráfica de los puntos. Creemos las funciones que necesitaremos:"
   ]
  },
  {
   "cell_type": "code",
   "execution_count": 11,
   "metadata": {},
   "outputs": [],
   "source": [
    "def graficarVectores(vecs, cols, alpha = 1):\n",
    "    plt.axvline(x = 0, color=\"grey\", zorder = 0)\n",
    "    plt.axhline(y = 0, color=\"grey\", zorder = 0)\n",
    "    for i in range(len(vecs)):\n",
    "        x = np.concatenate([[0,0], vecs[i]])\n",
    "        plt.quiver([x[0]],\n",
    "                   [x[1]],\n",
    "                   [x[2]],\n",
    "                   [x[3]],\n",
    "                   angles = 'xy', scale_units = 'xy',\n",
    "                   scale = 1, alpha = alpha,\n",
    "                   color = cols[i]\n",
    "                  )"
   ]
  },
  {
   "cell_type": "code",
   "execution_count": 12,
   "metadata": {},
   "outputs": [],
   "source": [
    "def graficarMatriz(matriz, vectorCol=['red', 'blue']):\n",
    "    #círculo unitario\n",
    "    x = np.linspace(-1,1, 100000)\n",
    "    y = np.sqrt(1-(x**2))\n",
    "    \n",
    "    #círculo unitario transformado\n",
    "    x1 = matriz[0,0]*x + matriz[0,1]*y\n",
    "    y1 = matriz[1,0]*x + matriz[1,1]*y\n",
    "    x1_neg = matriz[0,0]*x - matriz[0,1]*y\n",
    "    y1_neg = matriz[1,0]*x - matriz[1,1]*y\n",
    "    \n",
    "    #vectores\n",
    "    u1 = [matriz[0,0], matriz[1,0]]\n",
    "    v1 = [matriz[1,0], matriz[1,1]]\n",
    "    \n",
    "    graficarVectores([u1, v1], cols=[vectorCol[0], vectorCol[1]])\n",
    "    plt.plot(x1, y1, 'green', alpha = 0.7)\n",
    "    plt.plot(x1_neg, y1_neg, 'green', alpha = 0.7)"
   ]
  },
  {
   "attachments": {},
   "cell_type": "markdown",
   "metadata": {},
   "source": [
    "Ahora sí, graficamos los autovectores:"
   ]
  },
  {
   "cell_type": "code",
   "execution_count": 13,
   "metadata": {},
   "outputs": [
    {
     "data": {
      "image/png": "[encoded data removed]",
      "text/plain": [
       "<Figure size 640x480 with 1 Axes>"
      ]
     },
     "metadata": {},
     "output_type": "display_data"
    }
   ],
   "source": [
    "graficarVectores(avecs.T, ['blue', 'red'])\n",
    "plt.plot(xy_centrado[:,0], xy_centrado[:,1]/20, '.')\n",
    "plt.show()"
   ]
  },
  {
   "attachments": {},
   "cell_type": "markdown",
   "metadata": {},
   "source": [
    "Chequeemos los autovalores"
   ]
  },
  {
   "cell_type": "code",
   "execution_count": 14,
   "metadata": {},
   "outputs": [
    {
     "data": {
      "text/plain": [
       "array([1.70408413e-01, 6.24117888e+04])"
      ]
     },
     "execution_count": 14,
     "metadata": {},
     "output_type": "execute_result"
    }
   ],
   "source": [
    "avals"
   ]
  },
  {
   "attachments": {},
   "cell_type": "markdown",
   "metadata": {},
   "source": [
    "El autovector rojo representa mayor varianza de los datos que el azul. Nos quedaremos con los 2 componentes.\n",
    "\n",
    "Ordenemos:"
   ]
  },
  {
   "cell_type": "code",
   "execution_count": 38,
   "metadata": {},
   "outputs": [],
   "source": [
    "componentes_ordenados = np.argsort(avals)[::-1]\n",
    "matriz_proyeccion = avecs[componentes_ordenados]"
   ]
  },
  {
   "attachments": {},
   "cell_type": "markdown",
   "metadata": {},
   "source": [
    "Ahora hagamos la transformación:"
   ]
  },
  {
   "cell_type": "code",
   "execution_count": 41,
   "metadata": {},
   "outputs": [],
   "source": [
    "xy_nuevo = xy_centrado.dot(matriz_proyeccion.T)"
   ]
  },
  {
   "cell_type": "code",
   "execution_count": 42,
   "metadata": {},
   "outputs": [
    {
     "data": {
      "text/plain": [
       "(200, 2)"
      ]
     },
     "execution_count": 42,
     "metadata": {},
     "output_type": "execute_result"
    }
   ],
   "source": [
    "xy_nuevo.shape"
   ]
  },
  {
   "attachments": {},
   "cell_type": "markdown",
   "metadata": {},
   "source": [
    "Probemos PCA con la librería Scikit-learn."
   ]
  },
  {
   "cell_type": "code",
   "execution_count": 43,
   "metadata": {},
   "outputs": [],
   "source": [
    "from sklearn.decomposition import PCA"
   ]
  },
  {
   "cell_type": "code",
   "execution_count": 44,
   "metadata": {},
   "outputs": [
    {
     "name": "stdout",
     "output_type": "stream",
     "text": [
      "(200, 2)\n",
      "(200, 2)\n"
     ]
    }
   ],
   "source": [
    "pca = PCA(n_components=2)\n",
    "pca.fit(xy_centrado)\n",
    "x_pca = pca.transform(xy_centrado)\n",
    "print(xy_centrado.shape)\n",
    "print(x_pca.shape)"
   ]
  },
  {
   "attachments": {},
   "cell_type": "markdown",
   "metadata": {},
   "source": [
    "Ya comprendido, hagamos esto con un dataset más amplio, además de real. Tomemos el dataset de NIR de plásticos:"
   ]
  },
  {
   "cell_type": "code",
   "execution_count": null,
   "metadata": {},
   "outputs": [],
   "source": []
  }
 ],
 "metadata": {
  "kernelspec": {
   "display_name": "env",
   "language": "python",
   "name": "python3"
  },
  "language_info": {
   "codemirror_mode": {
    "name": "ipython",
    "version": 3
   },
   "file_extension": ".py",
   "mimetype": "text/x-python",
   "name": "python",
   "nbconvert_exporter": "python",
   "pygments_lexer": "ipython3",
   "version": "3.8.10"
  },
  "orig_nbformat": 4
 },
 "nbformat": 4,
 "nbformat_minor": 2
}
