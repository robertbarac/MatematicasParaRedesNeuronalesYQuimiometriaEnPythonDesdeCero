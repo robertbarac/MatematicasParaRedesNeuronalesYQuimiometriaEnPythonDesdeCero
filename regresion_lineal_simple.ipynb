{
 "cells": [
  {
   "attachments": {},
   "cell_type": "markdown",
   "metadata": {},
   "source": [
    "# Regresión Lineal Simple\n",
    "\n",
    "La regresión lineal simple tiene como propósito predecir una variable dependiente $y$ en base a una variable independiente $x$.\n",
    "Un caso de uso sería cuando se tiene un conjunto de datos donde $x$ representa los metros cuadrados de un inmueble y \"$y$\" representa el precio en miles de dólares. \n",
    "\n",
    "Si tenemos un conjunto de m parejas ($x$, $y$), y una función lineal que las relacione, tendríamos que: \n",
    "\n",
    "$$f{w,b}(x) = wx+b$$\n",
    "\n",
    "La dimensión de $x$ es (1,m), la dimensión de w es 1, la de b es 1, pero a ésta se le debe hacer broadcasting para a hacer la suma con el vector (1,m) que salga de $wx$. Broadcasting es convertir ese escalar en un vector de $m$ cantidad de ese escalar $b$."
   ]
  },
  {
   "attachments": {},
   "cell_type": "markdown",
   "metadata": {},
   "source": [
    "Vamos a implementar en código Python normal, sin usar Numpy. Después lo usaremos.\n",
    "Primero importamos/corremos el notebook que recoge las ideas del capítulo 9."
   ]
  },
  {
   "cell_type": "code",
   "execution_count": 1,
   "metadata": {},
   "outputs": [],
   "source": [
    "import numpy as np\n",
    "import matplotlib.pyplot as plt"
   ]
  },
  {
   "cell_type": "code",
   "execution_count": 2,
   "metadata": {},
   "outputs": [],
   "source": [
    "#from ipynb.fs.full.C9_Vectores_y_Matrices import multiply, dimension"
   ]
  },
  {
   "cell_type": "code",
   "execution_count": 3,
   "metadata": {},
   "outputs": [],
   "source": [
    "def dimension(m):\n",
    "    rows = len(m)\n",
    "    #len(m[0])\n",
    "    if type(m[0]) == int:\n",
    "        tupla = (rows, 1)\n",
    "    else:\n",
    "        columns = len(m[0])\n",
    "        tupla = (rows, columns)\n",
    "    return tupla\n",
    "\n",
    "def multiply(vector, scalar):\n",
    "        output = []\n",
    "        for i in range(len(vector)):\n",
    "            output.append(vector[i] * scalar)\n",
    "        return output"
   ]
  },
  {
   "cell_type": "code",
   "execution_count": 21,
   "metadata": {},
   "outputs": [
    {
     "name": "stdout",
     "output_type": "stream",
     "text": [
      "(11, 1)\n",
      "(11, 1)\n"
     ]
    }
   ],
   "source": [
    "# Creemos datos para la función f(x) = 2x + 1\n",
    "x = [-9,-7,-5,-3,-1,0,1,3,5,7,9]\n",
    "y = [-17,-13,-9,-5,-1,0,3,7,11,15,19]\n",
    "\n",
    "print(dimension(x))\n",
    "print(dimension(y))"
   ]
  },
  {
   "cell_type": "code",
   "execution_count": 5,
   "metadata": {},
   "outputs": [],
   "source": [
    "def zeros(m):\n",
    "    salida = []\n",
    "    for i in range(m):\n",
    "        salida.append(0)\n",
    "    return salida\n",
    "\n",
    "#print(zeros(dimension(x)[0]))"
   ]
  },
  {
   "cell_type": "code",
   "execution_count": 6,
   "metadata": {},
   "outputs": [],
   "source": [
    "def sum(vector, scalar):\n",
    "    output_vector = []\n",
    "    for i in range(len(vector)):\n",
    "        output_vector.append(vector[i] + scalar)\n",
    "    return output_vector"
   ]
  },
  {
   "cell_type": "code",
   "execution_count": 7,
   "metadata": {},
   "outputs": [],
   "source": [
    "def forward_propagation(x, w, b):\n",
    "    m = dimension(x)[0]\n",
    "    #f_wb = zeros(m)\n",
    "    for i in range(m):\n",
    "        f_wb = sum(multiply(x, w), b)\n",
    "    return f_wb"
   ]
  },
  {
   "cell_type": "code",
   "execution_count": 14,
   "metadata": {},
   "outputs": [],
   "source": [
    "y_hat = forward_propagation(x, w, b)"
   ]
  },
  {
   "cell_type": "code",
   "execution_count": 15,
   "metadata": {},
   "outputs": [
    {
     "data": {
      "text/plain": [
       "[-800, -600, -400, -200, 0, 100, 200, 400, 600, 800, 1000]"
      ]
     },
     "execution_count": 15,
     "metadata": {},
     "output_type": "execute_result"
    }
   ],
   "source": [
    "y_hat"
   ]
  },
  {
   "cell_type": "code",
   "execution_count": 10,
   "metadata": {},
   "outputs": [
    {
     "data": {
      "text/plain": [
       "[-17, -13, -9, -5, -1, 0, 3, 7, 11, 15, 19]"
      ]
     },
     "execution_count": 10,
     "metadata": {},
     "output_type": "execute_result"
    }
   ],
   "source": [
    "y"
   ]
  },
  {
   "cell_type": "code",
   "execution_count": 16,
   "metadata": {},
   "outputs": [
    {
     "data": {
      "image/png": "[encoded data removed]",
      "text/plain": [
       "<Figure size 640x480 with 1 Axes>"
      ]
     },
     "metadata": {},
     "output_type": "display_data"
    }
   ],
   "source": [
    "def graficar_modelo(x_train, y_train, tmp_f_wb):\n",
    "    # Plot our model prediction\n",
    "    plt.plot(x_train, tmp_f_wb, c='b',label='Our Prediction')\n",
    "\n",
    "    # Plot the data points\n",
    "    plt.scatter(x_train, y_train, marker='x', c='r',label='Actual Values')\n",
    "    plt.show()\n",
    "\n",
    "graficar_modelo(np.array(x), np.array(y), np.array(y_hat))"
   ]
  },
  {
   "attachments": {},
   "cell_type": "markdown",
   "metadata": {},
   "source": [
    "Vemos que $w$ y $b$ tienen valores muy lejanos de la realidad, ¿Cómo medir cuán lejos están nuestras predicciones de la $y$ de entrenamiento? hay varias formas: error cuadrático medio, error medio absoluto.\n",
    "\n",
    "$$ECM = \\frac{1}{m}\\sum_{i=1}^{m}(y - \\hat{y})^2$$\n",
    "$$\\begin{gather} \\\n",
    "EMA = \\frac{\\sum_{i=1}^{m} |y - \\hat{y}|}{m}\\\n",
    "\\end{gather}\n",
    "$$\n",
    "Pero la que más se usa es ésta:\n",
    "$$\n",
    "\\begin{equation}\n",
    "\\frac{1}{m}\\sum_{i=1}^{m}(y - \\hat{y})^2\n",
    "\\end{equation}\n",
    "$$\n",
    "\n",
    "Donde $m$ es la cantidad de ejemplos de datos que estamos trabajando\n",
    "\n",
    "¿Cómo mejorar nuestra línea de predicción? implementamos el algoritmo del descenso del gradiente."
   ]
  },
  {
   "cell_type": "code",
   "execution_count": 17,
   "metadata": {},
   "outputs": [
    {
     "data": {
      "text/plain": [
       "297939.09090909094"
      ]
     },
     "execution_count": 17,
     "metadata": {},
     "output_type": "execute_result"
    }
   ],
   "source": [
    "def calcular_error(y, y_hat):\n",
    "    \n",
    "    m = len(y)\n",
    "    suma_errores = 0\n",
    "    for i in range(m):\n",
    "        squared_error = []\n",
    "        error = y[i] - y_hat[i]\n",
    "        squared_error = error ** 2\n",
    "        suma_errores += squared_error\n",
    "    return suma_errores * (1/m)\n",
    "\n",
    "calcular_error(y, y_hat)"
   ]
  },
  {
   "attachments": {},
   "cell_type": "markdown",
   "metadata": {},
   "source": [
    "## Implementación del descenso del gradiente\n",
    "\n",
    "### Actualización de pesos\n",
    "Usamos un coeficiente $\\alpha$ que sea un decimal que haga la actualización de pesos poco a poco, es decir, que vaya paso a paso disminuyendo la función de costo o error.\n",
    "\n",
    "$w = w - \\alpha * \\frac{\\partial}{\\partial w}J(w,b)$\n",
    "\n",
    "$b = b - \\alpha * \\frac{\\partial}{\\partial b}J(w,b)$\n",
    "\n",
    "se usa la derivada por la sencilla razón de que hallemos el conjunto de $w$ y $b$ donde la derivada de la función de costo $J$ valga lo menos posible, es decir, bote un error cuadrático tan bajo como sea posible. Otra forma de decirlo es buscar el $w$ y $b$ donde la recta tangente a la función de costo J sea 0 o al menos casi 0. Por eso usamos la herramienta de la derivada, para actualizar los pesos y lograr cada vez mejores predicciones en cada iteración.\n",
    "\n",
    "Las derivadas son:\n",
    "\n",
    "$\\frac{\\partial}{\\partial w}J(w,b) = \\frac{\\partial}{\\partial w}J(w,b)(-\\frac{2}{m}\\sum_{i=1}^{m}(y - \\hat{y})^2)$\n",
    "\n",
    "Si $\\hat{y} = wx + b$; entonces $\\frac{\\partial}{\\partial w}J(w,b) = -\\frac{2}{m}\\sum_{i=1}^{m}(y - wx - b)*x$\n",
    "\n",
    "$\\frac{\\partial}{\\partial b}J(w,b) = -\\frac{2}{m}\\sum_{i=1}^{m}(y - wx - b)$"
   ]
  },
  {
   "cell_type": "code",
   "execution_count": 25,
   "metadata": {},
   "outputs": [],
   "source": [
    "def DJ_Dw(x, y, y_hat):\n",
    "    m = len(y)\n",
    "    suma_errores = 0\n",
    "    for i in range(m):\n",
    "        error = (y[i] - y_hat[i])* x[i]\n",
    "        suma_errores += error\n",
    "    return suma_errores*-2/m\n",
    "\n",
    "def DJ_Db(y, y_hat):\n",
    "    m = len(y)\n",
    "    suma_errores = 0\n",
    "    for i in range(m):\n",
    "        error = (y[i] - y_hat[i])\n",
    "        suma_errores += error\n",
    "    return suma_errores*-2/m"
   ]
  },
  {
   "cell_type": "code",
   "execution_count": 26,
   "metadata": {},
   "outputs": [
    {
     "data": {
      "text/plain": [
       "1090"
      ]
     },
     "execution_count": 26,
     "metadata": {},
     "output_type": "execute_result"
    }
   ],
   "source": [
    "import gc\n",
    "gc.collect()"
   ]
  },
  {
   "cell_type": "code",
   "execution_count": 40,
   "metadata": {},
   "outputs": [],
   "source": [
    "def entrenar(x, y, epocas, alpha = 0.001):\n",
    "    #  INICIALIZAMOS LOS PESOS\n",
    "    w = 100\n",
    "    b = 100\n",
    "    for i in range(epocas):\n",
    "        y_hat = forward_propagation(x, w, b)\n",
    "        costo = calcular_error(y, y_hat)\n",
    "        w = w - alpha * DJ_Dw(x, y, y_hat)\n",
    "        b = b - alpha * DJ_Db(y, y_hat)\n",
    "        if (i+1) % 10 == 0:\n",
    "            print(f\"Costo en la época {i+1}: {costo}\")\n",
    "\n",
    "    print(f\"W y b al final del entrenamiento: w:{w}, b:{b}\")"
   ]
  },
  {
   "cell_type": "code",
   "execution_count": 41,
   "metadata": {},
   "outputs": [
    {
     "name": "stdout",
     "output_type": "stream",
     "text": [
      "Costo en la época 10: 6825.642002689031\n",
      "Costo en la época 20: 4556.867265482963\n",
      "Costo en la época 30: 3042.228383081677\n",
      "Costo en la época 40: 2031.0433908604957\n",
      "Costo en la época 50: 1355.9682291345237\n",
      "Costo en la época 60: 905.2826696324036\n",
      "Costo en la época 70: 604.4013973538838\n",
      "Costo en la época 80: 403.5306614289287\n",
      "Costo en la época 90: 269.4277568331162\n",
      "Costo en la época 100: 179.89958868943893\n",
      "Costo en la época 110: 120.12986994008946\n",
      "Costo en la época 120: 80.2271292334639\n",
      "Costo en la época 130: 53.58774144284416\n",
      "Costo en la época 140: 35.80307379115102\n",
      "Costo en la época 150: 23.929887891865764\n",
      "Costo en la época 160: 16.003254335372727\n",
      "Costo en la época 170: 10.711370583876537\n",
      "Costo en la época 180: 7.178466805776432\n",
      "Costo en la época 190: 4.819872080073108\n",
      "Costo en la época 200: 3.2452554390540436\n",
      "Costo en la época 210: 2.19402881705149\n",
      "Costo en la época 220: 1.4922215440814048\n",
      "Costo en la época 230: 1.0236894140108717\n",
      "Costo en la época 240: 0.7108936289523896\n",
      "Costo en la época 250: 0.5020686693159541\n",
      "Costo en la época 260: 0.3626554615612337\n",
      "Costo en la época 270: 0.269582092696233\n",
      "Costo en la época 280: 0.20744556968385658\n",
      "Costo en la época 290: 0.16596273158364935\n",
      "Costo en la época 300: 0.13826845817692549\n",
      "W y b al final del entrenamiento: w:2.0, b:1.140221016187914\n"
     ]
    }
   ],
   "source": [
    "entrenar(x, y, 300, 0.01)"
   ]
  },
  {
   "attachments": {},
   "cell_type": "markdown",
   "metadata": {},
   "source": [
    "¡Elaboramos exitosamente con código Python un algoritmo de regresión lineal!"
   ]
  }
 ],
 "metadata": {
  "kernelspec": {
   "display_name": "env",
   "language": "python",
   "name": "python3"
  },
  "language_info": {
   "codemirror_mode": {
    "name": "ipython",
    "version": 3
   },
   "file_extension": ".py",
   "mimetype": "text/x-python",
   "name": "python",
   "nbconvert_exporter": "python",
   "pygments_lexer": "ipython3",
   "version": "3.8.10"
  },
  "orig_nbformat": 4
 },
 "nbformat": 4,
 "nbformat_minor": 2
}
