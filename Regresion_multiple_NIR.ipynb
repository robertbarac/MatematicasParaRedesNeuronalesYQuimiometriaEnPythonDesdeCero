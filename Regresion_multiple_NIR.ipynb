{
 "cells": [
  {
   "attachments": {},
   "cell_type": "markdown",
   "metadata": {},
   "source": [
    "# Regresión lineal múltiple con Python y Scikit-Learn"
   ]
  },
  {
   "attachments": {},
   "cell_type": "markdown",
   "metadata": {},
   "source": [
    "## Importación de librerías"
   ]
  },
  {
   "cell_type": "code",
   "execution_count": 1,
   "metadata": {},
   "outputs": [],
   "source": [
    "import gc\n",
    "import pandas as pd\n",
    "import numpy as np\n",
    "from sklearn.linear_model import LinearRegression\n",
    "from sklearn.preprocessing import StandardScaler, MinMaxScaler\n",
    "from sklearn.metrics import r2_score, mean_squared_error"
   ]
  },
  {
   "attachments": {},
   "cell_type": "markdown",
   "metadata": {},
   "source": [
    "## Lectura de datos y eliminación de columna innecesaria."
   ]
  },
  {
   "cell_type": "code",
   "execution_count": 2,
   "metadata": {},
   "outputs": [],
   "source": [
    "df_nir_train = pd.read_excel('MATRIZ FINAL.xlsx', sheet_name='calibracion')\n",
    "df_nir_val = pd.read_excel('MATRIZ FINAL.xlsx', sheet_name='validacion')\n",
    "df_nir_train.drop('Unnamed: 0', axis=1, inplace=True)\n",
    "df_nir_val.drop('Unnamed: 0', axis=1, inplace=True)"
   ]
  },
  {
   "cell_type": "code",
   "execution_count": 3,
   "metadata": {},
   "outputs": [
    {
     "name": "stdout",
     "output_type": "stream",
     "text": [
      "(266, 1109) (118, 1109)\n"
     ]
    }
   ],
   "source": [
    "print(df_nir_train.shape, df_nir_val.shape)"
   ]
  },
  {
   "attachments": {},
   "cell_type": "markdown",
   "metadata": {},
   "source": [
    "## Separación de X's y Y's"
   ]
  },
  {
   "cell_type": "code",
   "execution_count": 4,
   "metadata": {},
   "outputs": [],
   "source": [
    "X_train = df_nir_train.iloc[:,:1103]\n",
    "X_test = df_nir_val.iloc[:,:1103]\n",
    "Y_train = df_nir_train.iloc[:,1103:]\n",
    "Y_test = df_nir_val.iloc[:,1103:]"
   ]
  },
  {
   "attachments": {},
   "cell_type": "markdown",
   "metadata": {},
   "source": [
    "## Normalización de Datos"
   ]
  },
  {
   "cell_type": "code",
   "execution_count": 5,
   "metadata": {},
   "outputs": [],
   "source": [
    "standard_scaler = StandardScaler()\n",
    "standard_scaler.fit(X_train)\n",
    "X_train_scaled = standard_scaler.transform(X_train)\n",
    "X_test_scaled = standard_scaler.transform(X_test)\n",
    "\n",
    "standard_scaler.fit(Y_train)\n",
    "Y_train_scaled = standard_scaler.transform(Y_train)\n",
    "Y_test_scaled = standard_scaler.transform(Y_test)"
   ]
  },
  {
   "cell_type": "code",
   "execution_count": 8,
   "metadata": {},
   "outputs": [
    {
     "data": {
      "text/plain": [
       "(266, 6)"
      ]
     },
     "execution_count": 8,
     "metadata": {},
     "output_type": "execute_result"
    }
   ],
   "source": [
    "Y_train_scaled.shape"
   ]
  },
  {
   "attachments": {},
   "cell_type": "markdown",
   "metadata": {},
   "source": [
    "## Separación de las Y's en train y test"
   ]
  },
  {
   "cell_type": "code",
   "execution_count": 23,
   "metadata": {},
   "outputs": [],
   "source": [
    "traccion = Y_train_scaled.T[0].reshape(-1,1)\n",
    "energia = Y_train_scaled.T[1].reshape(-1,1)\n",
    "tensil = Y_train_scaled.T[2].reshape(-1,1)\n",
    "elongacion = Y_train_scaled.T[3].reshape(-1,1)\n",
    "secante = Y_train_scaled.T[4].reshape(-1,1)\n",
    "flexion = Y_train_scaled.T[5].reshape(-1,1)"
   ]
  },
  {
   "cell_type": "code",
   "execution_count": 31,
   "metadata": {},
   "outputs": [],
   "source": [
    "traccion_test = Y_test_scaled.T[0].reshape(-1,1)\n",
    "energia_test = Y_test_scaled.T[1].reshape(-1,1)\n",
    "tensil_test = Y_test_scaled.T[2].reshape(-1,1)\n",
    "elongacion_test = Y_test_scaled.T[3].reshape(-1,1)\n",
    "secante_test = Y_test_scaled.T[4].reshape(-1,1)\n",
    "flexion_test = Y_test_scaled.T[5].reshape(-1,1)"
   ]
  },
  {
   "attachments": {},
   "cell_type": "markdown",
   "metadata": {},
   "source": [
    "## Regresiones"
   ]
  },
  {
   "attachments": {},
   "cell_type": "markdown",
   "metadata": {},
   "source": [
    "### Tracción"
   ]
  },
  {
   "cell_type": "code",
   "execution_count": 32,
   "metadata": {},
   "outputs": [
    {
     "name": "stdout",
     "output_type": "stream",
     "text": [
      "Training\n",
      "1.0\n",
      "1.0\n",
      "1.0389514344953171e-23\n",
      "Validation\n",
      "-2.9111823003912902\n",
      "-2.9111823003912902\n"
     ]
    }
   ],
   "source": [
    "regression = LinearRegression()\n",
    "regression.fit(X_train_scaled, traccion)\n",
    "print(\"Training\")\n",
    "print(regression.score(X_train_scaled, traccion))\n",
    "y = regression.predict(X_train_scaled)\n",
    "print(r2_score(traccion, y))\n",
    "print(mean_squared_error(traccion, y))\n",
    "print(\"Validation\")\n",
    "y_test = regression.predict(X_test_scaled)\n",
    "print(regression.score(X_test_scaled, traccion_test))\n",
    "print(r2_score(traccion_test, y_test))"
   ]
  },
  {
   "attachments": {},
   "cell_type": "markdown",
   "metadata": {},
   "source": [
    "### Energia"
   ]
  },
  {
   "cell_type": "code",
   "execution_count": 34,
   "metadata": {},
   "outputs": [
    {
     "name": "stdout",
     "output_type": "stream",
     "text": [
      "Training\n",
      "1.0\n",
      "1.0\n",
      "1.0310050947266875e-22\n",
      "Validation\n",
      "-1.4338529283553227\n",
      "-1.4338529283553227\n"
     ]
    }
   ],
   "source": [
    "regression = LinearRegression()\n",
    "regression.fit(X_train, energia)\n",
    "print(\"Training\")\n",
    "print(regression.score(X_train, energia))\n",
    "y = regression.predict(X_train)\n",
    "print(r2_score(energia, y))\n",
    "print(mean_squared_error(energia, y))\n",
    "print(\"Validation\")\n",
    "y_test = regression.predict(X_test)\n",
    "print(regression.score(X_test, energia_test))\n",
    "print(r2_score(energia_test, y_test))"
   ]
  },
  {
   "attachments": {},
   "cell_type": "markdown",
   "metadata": {},
   "source": [
    "Esto tiene un claro aspecto de que está ocurriendo **overfitting**. Vamos a reducirlo con regularización. Probé varias para tracción y solo funciona Ridge solo, Lasso desmejora, ElasticNet desmejora, Cross-Validation desmejora a Ridge."
   ]
  },
  {
   "cell_type": "code",
   "execution_count": 47,
   "metadata": {},
   "outputs": [
    {
     "name": "stdout",
     "output_type": "stream",
     "text": [
      "Mejor valor de alpha: 1.0\n",
      "Puntaje en el conjunto de entrenamiento: 0.9316874637489747\n",
      "Puntaje en el conjunto de prueba: 0.9385134934380096\n"
     ]
    }
   ],
   "source": [
    "from sklearn.linear_model import RidgeCV\n",
    "\n",
    "# Crear un modelo de regresión Ridge con validación cruzada\n",
    "ridge_cv = RidgeCV(alphas=[0.1, 0.5, 1.0, 3.0, 5.0, 7.0, 10.0], cv=5)\n",
    "\n",
    "# Entrenar el modelo con los datos de entrenamiento escalados\n",
    "ridge_cv.fit(X_train_scaled, traccion)\n",
    "\n",
    "# Obtener el valor óptimo de alpha seleccionado\n",
    "best_alpha = ridge_cv.alpha_\n",
    "print(\"Mejor valor de alpha:\", best_alpha)\n",
    "\n",
    "# Evaluar el modelo en el conjunto de prueba escalado\n",
    "score = ridge_cv.score(X_test_scaled, traccion_test)\n",
    "print(\"Puntaje en el conjunto de entrenamiento:\", ridge_cv.score(X_train_scaled, traccion))\n",
    "print(\"Puntaje en el conjunto de prueba:\", score)\n"
   ]
  },
  {
   "cell_type": "code",
   "execution_count": 50,
   "metadata": {},
   "outputs": [
    {
     "name": "stderr",
     "output_type": "stream",
     "text": [
      "/home/robertbarac/maestria/seminario_en_ciencias/env/lib/python3.8/site-packages/sklearn/linear_model/_coordinate_descent.py:1568: DataConversionWarning: A column-vector y was passed when a 1d array was expected. Please change the shape of y to (n_samples, ), for example using ravel().\n",
      "  y = column_or_1d(y, warn=True)\n"
     ]
    },
    {
     "name": "stdout",
     "output_type": "stream",
     "text": [
      "Alfa de Lasso: 0.1\n",
      "Score de Lasso en training: 0.28264351771385265\n",
      "Score de Lasso en test: 0.28251729159333605\n"
     ]
    },
    {
     "name": "stderr",
     "output_type": "stream",
     "text": [
      "/home/robertbarac/maestria/seminario_en_ciencias/env/lib/python3.8/site-packages/sklearn/linear_model/_coordinate_descent.py:1568: DataConversionWarning: A column-vector y was passed when a 1d array was expected. Please change the shape of y to (n_samples, ), for example using ravel().\n",
      "  y = column_or_1d(y, warn=True)\n"
     ]
    },
    {
     "name": "stdout",
     "output_type": "stream",
     "text": [
      "Alfa de ElasticNet: 0.1\n",
      "Score de EL en train: 0.5575052150172006\n",
      "Score de EL en test: 0.5516220109916492\n"
     ]
    }
   ],
   "source": [
    "from sklearn.linear_model import LassoCV, ElasticNetCV\n",
    "\n",
    "# Lasso\n",
    "lasso_cv = LassoCV(alphas=[0.1, 1.0, 10.0], cv=5)\n",
    "lasso_cv.fit(X_train_scaled, traccion)\n",
    "lasso_alpha = lasso_cv.alpha_\n",
    "print(\"Alfa de Lasso:\", lasso_alpha)\n",
    "lasso_score = lasso_cv.score(X_test_scaled, traccion_test)\n",
    "print(\"Score de Lasso en training:\", lasso_cv.score(X_train_scaled, traccion))\n",
    "print(\"Score de Lasso en test:\", lasso_score)\n",
    "\n",
    "# ElasticNet\n",
    "elasticnet_cv = ElasticNetCV(alphas=[0.1, 1.0, 10.0], l1_ratio=[0.5, 0.7, 0.9], cv=5)\n",
    "elasticnet_cv.fit(X_train_scaled, traccion)\n",
    "elasticnet_alpha = elasticnet_cv.alpha_\n",
    "print(\"Alfa de ElasticNet:\", elasticnet_alpha)\n",
    "elasticnet_ratio = elasticnet_cv.l1_ratio_\n",
    "elasticnet_score = elasticnet_cv.score(X_test_scaled, traccion_test)\n",
    "print(\"Score de EL en train:\", elasticnet_cv.score(X_train_scaled, traccion))\n",
    "print(\"Score de EL en test:\", elasticnet_score)"
   ]
  },
  {
   "cell_type": "code",
   "execution_count": 51,
   "metadata": {},
   "outputs": [
    {
     "name": "stdout",
     "output_type": "stream",
     "text": [
      "Puntajes de validación cruzada: [ 0.54522883 -0.43877735  0.30994174  0.48138872 -1.04090759]\n",
      "Promedio del puntaje de validación cruzada: -0.028625129111638437\n"
     ]
    }
   ],
   "source": [
    "from sklearn.linear_model import Ridge\n",
    "from sklearn.model_selection import cross_val_score\n",
    "\n",
    "# Crear un modelo de regresión Ridge\n",
    "ridge = Ridge(alpha=0.5)\n",
    "\n",
    "# Aplicar validación cruzada\n",
    "scores = cross_val_score(ridge, X_train_scaled, traccion, cv=5, scoring='r2')\n",
    "\n",
    "# Calcular el promedio de los puntajes de validación cruzada\n",
    "mean_score = scores.mean()\n",
    "\n",
    "print(\"Puntajes de validación cruzada:\", scores)\n",
    "print(\"Promedio del puntaje de validación cruzada:\", mean_score)\n"
   ]
  },
  {
   "attachments": {},
   "cell_type": "markdown",
   "metadata": {},
   "source": [
    "### Energía"
   ]
  },
  {
   "cell_type": "code",
   "execution_count": 59,
   "metadata": {},
   "outputs": [
    {
     "name": "stdout",
     "output_type": "stream",
     "text": [
      "Mejor valor de alpha: 35.0\n",
      "Puntaje en el conjunto de entrenamiento: -1.2726301749218334\n",
      "Puntaje en el conjunto de prueba: 0.7585780805534141\n"
     ]
    }
   ],
   "source": [
    "# Crear un modelo de regresión Ridge con validación cruzada\n",
    "ridge_cv = RidgeCV(alphas=[30.0, 35.0, 36.0, 38.0, 39.0, 40.0], cv=5)\n",
    "\n",
    "# Entrenar el modelo con los datos de entrenamiento escalados\n",
    "ridge_cv.fit(X_train_scaled, energia)\n",
    "\n",
    "# Obtener el valor óptimo de alpha seleccionado\n",
    "best_alpha = ridge_cv.alpha_\n",
    "print(\"Mejor valor de alpha:\", best_alpha)\n",
    "\n",
    "# Evaluar el modelo en el conjunto de prueba escalado\n",
    "score = ridge_cv.score(X_test_scaled, energia_test)\n",
    "print(\"Puntaje en el conjunto de entrenamiento:\", ridge_cv.score(X_train_scaled, traccion))\n",
    "print(\"Puntaje en el conjunto de prueba:\", score)"
   ]
  },
  {
   "attachments": {},
   "cell_type": "markdown",
   "metadata": {},
   "source": [
    "Vemos que no está funcionando del todo bien. Probemos con Lasso a ver qué tal"
   ]
  },
  {
   "cell_type": "code",
   "execution_count": 66,
   "metadata": {},
   "outputs": [
    {
     "name": "stderr",
     "output_type": "stream",
     "text": [
      "/home/robertbarac/maestria/seminario_en_ciencias/env/lib/python3.8/site-packages/sklearn/linear_model/_coordinate_descent.py:1568: DataConversionWarning: A column-vector y was passed when a 1d array was expected. Please change the shape of y to (n_samples, ), for example using ravel().\n",
      "  y = column_or_1d(y, warn=True)\n",
      "/home/robertbarac/maestria/seminario_en_ciencias/env/lib/python3.8/site-packages/sklearn/linear_model/_coordinate_descent.py:631: ConvergenceWarning: Objective did not converge. You might want to increase the number of iterations, check the scale of the features or consider increasing regularisation. Duality gap: 2.738e-02, tolerance: 2.570e-02\n",
      "  model = cd_fast.enet_coordinate_descent(\n"
     ]
    },
    {
     "name": "stdout",
     "output_type": "stream",
     "text": [
      "Alfa de Lasso: 0.1\n",
      "Score de Lasso en training: 0.4982385749199857\n",
      "Score de Lasso en test: 0.5332835197924009\n"
     ]
    },
    {
     "name": "stderr",
     "output_type": "stream",
     "text": [
      "/home/robertbarac/maestria/seminario_en_ciencias/env/lib/python3.8/site-packages/sklearn/linear_model/_coordinate_descent.py:1568: DataConversionWarning: A column-vector y was passed when a 1d array was expected. Please change the shape of y to (n_samples, ), for example using ravel().\n",
      "  y = column_or_1d(y, warn=True)\n",
      "/home/robertbarac/maestria/seminario_en_ciencias/env/lib/python3.8/site-packages/sklearn/linear_model/_coordinate_descent.py:631: ConvergenceWarning: Objective did not converge. You might want to increase the number of iterations, check the scale of the features or consider increasing regularisation. Duality gap: 2.622e-02, tolerance: 2.382e-02\n",
      "  model = cd_fast.enet_coordinate_descent(\n",
      "/home/robertbarac/maestria/seminario_en_ciencias/env/lib/python3.8/site-packages/sklearn/linear_model/_coordinate_descent.py:631: ConvergenceWarning: Objective did not converge. You might want to increase the number of iterations, check the scale of the features or consider increasing regularisation. Duality gap: 4.480e-02, tolerance: 2.463e-02\n",
      "  model = cd_fast.enet_coordinate_descent(\n",
      "/home/robertbarac/maestria/seminario_en_ciencias/env/lib/python3.8/site-packages/sklearn/linear_model/_coordinate_descent.py:631: ConvergenceWarning: Objective did not converge. You might want to increase the number of iterations, check the scale of the features or consider increasing regularisation. Duality gap: 2.865e-02, tolerance: 2.463e-02\n",
      "  model = cd_fast.enet_coordinate_descent(\n"
     ]
    },
    {
     "name": "stdout",
     "output_type": "stream",
     "text": [
      "Alfa de ElasticNet: 0.1\n",
      "Score de EL en train: 0.5630506170193579\n",
      "Score de EL en test: 0.6029649539415813\n"
     ]
    }
   ],
   "source": [
    "# Lasso\n",
    "lasso_cv = LassoCV(alphas=[0.1, 1.0, 10.0], cv=5)\n",
    "lasso_cv.fit(X_train_scaled, energia)\n",
    "lasso_alpha = lasso_cv.alpha_\n",
    "print(\"Alfa de Lasso:\", lasso_alpha)\n",
    "lasso_score = lasso_cv.score(X_test_scaled, energia_test)\n",
    "print(\"Score de Lasso en training:\", lasso_cv.score(X_train_scaled, energia))\n",
    "print(\"Score de Lasso en test:\", lasso_score)\n",
    "\n",
    "# ElasticNet\n",
    "elasticnet_cv = ElasticNetCV(alphas=[0.1, 1.0, 10.0], l1_ratio=[0.5, 0.7, 0.9], cv=5)\n",
    "elasticnet_cv.fit(X_train_scaled, energia)\n",
    "elasticnet_alpha = elasticnet_cv.alpha_\n",
    "print(\"Alfa de ElasticNet:\", elasticnet_alpha)\n",
    "elasticnet_ratio = elasticnet_cv.l1_ratio_\n",
    "elasticnet_score = elasticnet_cv.score(X_test_scaled, energia_test)\n",
    "print(\"Score de EL en train:\", elasticnet_cv.score(X_train_scaled, energia))\n",
    "print(\"Score de EL en test:\", elasticnet_score)"
   ]
  },
  {
   "attachments": {},
   "cell_type": "markdown",
   "metadata": {},
   "source": [
    "### Tensil"
   ]
  },
  {
   "cell_type": "code",
   "execution_count": 71,
   "metadata": {},
   "outputs": [
    {
     "name": "stdout",
     "output_type": "stream",
     "text": [
      "Mejor valor de alpha: 1.0\n",
      "Puntaje en el conjunto de entrenamiento: 0.9658040171917774\n",
      "Puntaje en el conjunto de prueba: 0.9721528387482337\n"
     ]
    }
   ],
   "source": [
    "# Crear un modelo de regresión Ridge con validación cruzada\n",
    "ridge_cv = RidgeCV(alphas=[0.1, 0.5, 1.0, 10.0, 30.0], cv=5)\n",
    "\n",
    "# Entrenar el modelo con los datos de entrenamiento escalados\n",
    "ridge_cv.fit(X_train_scaled, tensil)\n",
    "\n",
    "# Obtener el valor óptimo de alpha seleccionado\n",
    "best_alpha = ridge_cv.alpha_\n",
    "print(\"Mejor valor de alpha:\", best_alpha)\n",
    "\n",
    "# Evaluar el modelo en el conjunto de prueba escalado\n",
    "score = ridge_cv.score(X_test_scaled, tensil_test)\n",
    "print(\"Puntaje en el conjunto de entrenamiento:\", ridge_cv.score(X_train_scaled, tensil))\n",
    "print(\"Puntaje en el conjunto de prueba:\", score)"
   ]
  },
  {
   "cell_type": "code",
   "execution_count": 75,
   "metadata": {},
   "outputs": [
    {
     "name": "stdout",
     "output_type": "stream",
     "text": [
      "Puntaje en el conjunto de entrenamiento: 0.9658040171917774\n",
      "Puntaje en el conjunto de prueba: 0.9721528387482337\n"
     ]
    }
   ],
   "source": [
    "from sklearn.linear_model import Ridge\n",
    "from sklearn.metrics import r2_score\n",
    "\n",
    "# Crear una instancia del modelo de regresión Ridge\n",
    "ridge = Ridge(alpha=1.0)\n",
    "\n",
    "# Entrenar el modelo de regresión Ridge\n",
    "ridge.fit(X_train_scaled, tensil)\n",
    "\n",
    "# Realizar predicciones en el conjunto de prueba\n",
    "y_pred = ridge.predict(X_test_scaled)\n",
    "\n",
    "# Calcular el coeficiente de determinación (R-cuadrado) en el conjunto de prueba\n",
    "r2 = r2_score(tensil_test, y_pred)\n",
    "\n",
    "# Imprimir los resultados\n",
    "print(\"Puntaje en el conjunto de entrenamiento:\", ridge.score(X_train_scaled, tensil))\n",
    "print(\"Puntaje en el conjunto de prueba:\", r2)\n"
   ]
  },
  {
   "attachments": {},
   "cell_type": "markdown",
   "metadata": {},
   "source": [
    "### Elongación"
   ]
  },
  {
   "cell_type": "code",
   "execution_count": 76,
   "metadata": {},
   "outputs": [
    {
     "name": "stdout",
     "output_type": "stream",
     "text": [
      "Mejor valor de alpha: 1.0\n",
      "Puntaje en el conjunto de entrenamiento: 0.9426637278431481\n",
      "Puntaje en el conjunto de prueba: 0.9465640801392357\n"
     ]
    }
   ],
   "source": [
    "# Crear un modelo de regresión Ridge con validación cruzada\n",
    "ridge_cv = RidgeCV(alphas=[0.1, 0.5, 1.0, 10.0, 30.0], cv=5)\n",
    "\n",
    "# Entrenar el modelo con los datos de entrenamiento escalados\n",
    "ridge_cv.fit(X_train_scaled, elongacion)\n",
    "\n",
    "# Obtener el valor óptimo de alpha seleccionado\n",
    "best_alpha = ridge_cv.alpha_\n",
    "print(\"Mejor valor de alpha:\", best_alpha)\n",
    "\n",
    "# Evaluar el modelo en el conjunto de prueba escalado\n",
    "score = ridge_cv.score(X_test_scaled, elongacion_test)\n",
    "print(\"Puntaje en el conjunto de entrenamiento:\", ridge_cv.score(X_train_scaled, elongacion))\n",
    "print(\"Puntaje en el conjunto de prueba:\", score)"
   ]
  },
  {
   "attachments": {},
   "cell_type": "markdown",
   "metadata": {},
   "source": [
    "### Secante"
   ]
  },
  {
   "cell_type": "code",
   "execution_count": 77,
   "metadata": {},
   "outputs": [
    {
     "name": "stdout",
     "output_type": "stream",
     "text": [
      "Mejor valor de alpha: 0.5\n",
      "Puntaje en el conjunto de entrenamiento: 0.9575380926756124\n",
      "Puntaje en el conjunto de prueba: 0.9589818189183984\n"
     ]
    }
   ],
   "source": [
    "# Crear un modelo de regresión Ridge con validación cruzada\n",
    "ridge_cv = RidgeCV(alphas=[0.1, 0.5, 1.0, 10.0, 30.0], cv=5)\n",
    "\n",
    "# Entrenar el modelo con los datos de entrenamiento escalados\n",
    "ridge_cv.fit(X_train_scaled, secante)\n",
    "\n",
    "# Obtener el valor óptimo de alpha seleccionado\n",
    "best_alpha = ridge_cv.alpha_\n",
    "print(\"Mejor valor de alpha:\", best_alpha)\n",
    "\n",
    "# Evaluar el modelo en el conjunto de prueba escalado\n",
    "score = ridge_cv.score(X_test_scaled, secante_test)\n",
    "print(\"Puntaje en el conjunto de entrenamiento:\", ridge_cv.score(X_train_scaled, secante))\n",
    "print(\"Puntaje en el conjunto de prueba:\", score)"
   ]
  },
  {
   "attachments": {},
   "cell_type": "markdown",
   "metadata": {},
   "source": [
    "### Flexión"
   ]
  },
  {
   "cell_type": "code",
   "execution_count": 84,
   "metadata": {},
   "outputs": [
    {
     "name": "stdout",
     "output_type": "stream",
     "text": [
      "Mejor valor de alpha: 2.5\n",
      "Puntaje en el conjunto de entrenamiento: 0.6595680506523969\n",
      "Puntaje en el conjunto de prueba: 0.30334145543000457\n"
     ]
    }
   ],
   "source": [
    "# Crear un modelo de regresión Ridge con validación cruzada\n",
    "ridge_cv = RidgeCV(alphas=[1.0, 2.0, 2.5, 2.8, 5.0, 10.0, 30.0], cv=5)\n",
    "\n",
    "# Entrenar el modelo con los datos de entrenamiento escalados\n",
    "ridge_cv.fit(X_train_scaled, flexion)\n",
    "\n",
    "# Obtener el valor óptimo de alpha seleccionado\n",
    "best_alpha = ridge_cv.alpha_\n",
    "print(\"Mejor valor de alpha:\", best_alpha)\n",
    "\n",
    "# Evaluar el modelo en el conjunto de prueba escalado\n",
    "score = ridge_cv.score(X_test_scaled, flexion_test)\n",
    "print(\"Puntaje en el conjunto de entrenamiento:\", ridge_cv.score(X_train_scaled, flexion))\n",
    "print(\"Puntaje en el conjunto de prueba:\", score)"
   ]
  },
  {
   "attachments": {},
   "cell_type": "markdown",
   "metadata": {},
   "source": [
    "### Polinómica para Tracción"
   ]
  },
  {
   "cell_type": "code",
   "execution_count": 60,
   "metadata": {},
   "outputs": [
    {
     "name": "stdout",
     "output_type": "stream",
     "text": [
      "Puntaje en training: 1.0\n",
      "Puntaje en el conjunto de prueba: 0.2119510654830119\n"
     ]
    }
   ],
   "source": [
    "from sklearn.preprocessing import PolynomialFeatures\n",
    "from sklearn.pipeline import make_pipeline\n",
    "\n",
    "# Crear características polinómicas\n",
    "degree = 2  # Grado del polinomio\n",
    "poly_features = PolynomialFeatures(degree=degree, include_bias=False)\n",
    "X_train_poly = poly_features.fit_transform(X_train_scaled)\n",
    "\n",
    "# Crear y entrenar el modelo de regresión polinómica\n",
    "poly_model = make_pipeline(poly_features, LinearRegression())\n",
    "poly_model.fit(X_train_scaled, traccion)\n",
    "\n",
    "# Evaluar el modelo en el conjunto de prueba\n",
    "X_test_poly = poly_features.transform(X_test_scaled)\n",
    "score = poly_model.score(X_test_scaled, traccion_test)\n",
    "print(\"Puntaje en training:\", poly_model.score(X_train_scaled, traccion))\n",
    "print(\"Puntaje en el conjunto de prueba:\", score)\n"
   ]
  },
  {
   "cell_type": "code",
   "execution_count": 65,
   "metadata": {},
   "outputs": [
    {
     "name": "stdout",
     "output_type": "stream",
     "text": [
      "Puntaje en training: 1.0\n",
      "Puntaje en el conjunto de prueba: 0.5657345549346151\n"
     ]
    }
   ],
   "source": [
    "# Crear características polinómicas\n",
    "degree = 2  # Grado del polinomio\n",
    "poly_features = PolynomialFeatures(degree=degree, include_bias=False)\n",
    "X_train_poly = poly_features.fit_transform(X_train_scaled)\n",
    "\n",
    "# Crear y entrenar el modelo de regresión polinómica\n",
    "poly_model = make_pipeline(poly_features, LinearRegression())\n",
    "poly_model.fit(X_train_scaled, energia)\n",
    "\n",
    "# Evaluar el modelo en el conjunto de prueba\n",
    "X_test_poly = poly_features.transform(X_test_scaled)\n",
    "score = poly_model.score(X_test_scaled, energia_test)\n",
    "print(\"Puntaje en training:\", poly_model.score(X_train_scaled, energia))\n",
    "print(\"Puntaje en el conjunto de prueba:\", score)"
   ]
  }
 ],
 "metadata": {
  "kernelspec": {
   "display_name": "env",
   "language": "python",
   "name": "python3"
  },
  "language_info": {
   "codemirror_mode": {
    "name": "ipython",
    "version": 3
   },
   "file_extension": ".py",
   "mimetype": "text/x-python",
   "name": "python",
   "nbconvert_exporter": "python",
   "pygments_lexer": "ipython3",
   "version": "3.8.10"
  },
  "orig_nbformat": 4
 },
 "nbformat": 4,
 "nbformat_minor": 2
}
