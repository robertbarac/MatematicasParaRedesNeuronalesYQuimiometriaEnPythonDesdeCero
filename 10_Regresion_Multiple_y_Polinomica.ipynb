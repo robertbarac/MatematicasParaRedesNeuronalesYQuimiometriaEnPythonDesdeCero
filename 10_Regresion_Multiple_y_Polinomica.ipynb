{
 "cells": [
  {
   "attachments": {},
   "cell_type": "markdown",
   "metadata": {},
   "source": [
    "# Regresiones Múltiple Y Polinómica"
   ]
  },
  {
   "cell_type": "code",
   "execution_count": 2,
   "metadata": {},
   "outputs": [],
   "source": [
    "import numpy as np"
   ]
  },
  {
   "attachments": {},
   "cell_type": "markdown",
   "metadata": {},
   "source": [
    "$$\\begin{equation}n = B_0 + B_1x + B_2x^2 + ... + B_mx^m = B_ix^i\n",
    "\\end{equation}\n",
    "$$"
   ]
  },
  {
   "attachments": {},
   "cell_type": "markdown",
   "metadata": {},
   "source": [
    "## Estimación de parámetros de regresión\n",
    "Considere n observaciones y1, y2, ..., yn con varianza sigma-cuadrado y n diferentes combinaciones de las variables independientes x1, x2, ..., xm (n>m)\n",
    "\n",
    "La representación de un modelo multivariable se puede mostrar de esta manera:\n",
    "\n",
    "$$\n",
    "\\begin{equation}\n",
    "y_i = \\beta_0 + \\beta_1x_{i1} + \\beta_1x_{i2} + ... + \\beta_mx_{im} + \\epsilon_i\n",
    "\\end{equation}\n",
    "$$"
   ]
  },
  {
   "cell_type": "code",
   "execution_count": null,
   "metadata": {},
   "outputs": [],
   "source": []
  }
 ],
 "metadata": {
  "kernelspec": {
   "display_name": "env",
   "language": "python",
   "name": "python3"
  },
  "language_info": {
   "codemirror_mode": {
    "name": "ipython",
    "version": 3
   },
   "file_extension": ".py",
   "mimetype": "text/x-python",
   "name": "python",
   "nbconvert_exporter": "python",
   "pygments_lexer": "ipython3",
   "version": "3.8.10 (default, Nov 14 2022, 12:59:47) \n[GCC 9.4.0]"
  },
  "orig_nbformat": 4,
  "vscode": {
   "interpreter": {
    "hash": "b701442cd46990a7433aaeddf657e540181f8aa418ae85c35c1b9023d02f7f13"
   }
  }
 },
 "nbformat": 4,
 "nbformat_minor": 2
}
