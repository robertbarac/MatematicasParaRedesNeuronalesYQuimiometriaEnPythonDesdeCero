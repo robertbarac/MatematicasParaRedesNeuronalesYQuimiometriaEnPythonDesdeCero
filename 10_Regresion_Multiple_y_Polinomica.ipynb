{
 "cells": [
  {
   "attachments": {},
   "cell_type": "markdown",
   "metadata": {},
   "source": [
    "# Regresiones Múltiple Y Polinómica"
   ]
  },
  {
   "cell_type": "code",
   "execution_count": 1,
   "metadata": {},
   "outputs": [],
   "source": [
    "import numpy as np"
   ]
  },
  {
   "attachments": {},
   "cell_type": "markdown",
   "metadata": {},
   "source": [
    "Sabemos que el modelo de línea recta sigue este modelo:\n",
    "\n",
    "$$\n",
    "\\begin{equation}\\eta = \\beta_0 + \\beta_{1}x\n",
    "\\end{equation}\n",
    "$$\n",
    "\n",
    "que relaciona la variable dependiente $\\eta$ a una variable $x$.\n",
    "\n",
    "Pero hay modelos donde $\\eta$ no puede ser supeditada a una sola variable sino a dos o más variables. Esto es para una regresión lineal múltiple.\n",
    "\n",
    "Podemos proponer un modelo general para varias variables como éste:\n",
    "\n",
    "$$\\begin{equation}\\eta = \\beta_0 + \\beta_1x_1 + \\beta_2x_2 + ... + \\beta_mx_m = \\beta_0 + \\sum_{i=1}^{m}\\beta_{i}x_{i}\n",
    "\\end{equation}\n",
    "$$\n",
    "\n",
    "Esta relación\n",
    "$$\\begin{equation}\\eta = \\beta_{0} + \\frac{\\beta_{1}}{x_{1}^{2}} + \\beta_{2}\\log x_{2}\n",
    "\\end{equation}\n",
    "$$\n",
    "también es un modelo lineal tomando $x_{1}^{\\prime}=\\frac{1}{x_{1}^{2}}$ y $x_{2}^{\\prime}=\\log x_{2}$ como una relación similar a la anterior ecuación descrita."
   ]
  },
  {
   "attachments": {},
   "cell_type": "markdown",
   "metadata": {},
   "source": [
    "## Estimación de parámetros de regresión\n",
    "Considere n observaciones y1, y2, ..., yn con varianza sigma-cuadrado y n diferentes combinaciones de las variables independientes x1, x2, ..., xm (n>m)\n",
    "\n",
    "La representación de un modelo multivariable se puede mostrar de esta manera:\n",
    "\n",
    "$$\n",
    "\\begin{equation}\n",
    "y_i = \\beta_0 + \\beta_1x_{i1} + \\beta_1x_{i2} + ... + \\beta_mx_{im} + \\epsilon_i\n",
    "\\end{equation}\n",
    "$$"
   ]
  },
  {
   "cell_type": "code",
   "execution_count": null,
   "metadata": {},
   "outputs": [],
   "source": []
  },
  {
   "cell_type": "code",
   "execution_count": null,
   "metadata": {},
   "outputs": [],
   "source": []
  }
 ],
 "metadata": {
  "kernelspec": {
   "display_name": "env",
   "language": "python",
   "name": "python3"
  },
  "language_info": {
   "codemirror_mode": {
    "name": "ipython",
    "version": 3
   },
   "file_extension": ".py",
   "mimetype": "text/x-python",
   "name": "python",
   "nbconvert_exporter": "python",
   "pygments_lexer": "ipython3",
   "version": "3.8.10"
  },
  "orig_nbformat": 4,
  "vscode": {
   "interpreter": {
    "hash": "b701442cd46990a7433aaeddf657e540181f8aa418ae85c35c1b9023d02f7f13"
   }
  }
 },
 "nbformat": 4,
 "nbformat_minor": 2
}
