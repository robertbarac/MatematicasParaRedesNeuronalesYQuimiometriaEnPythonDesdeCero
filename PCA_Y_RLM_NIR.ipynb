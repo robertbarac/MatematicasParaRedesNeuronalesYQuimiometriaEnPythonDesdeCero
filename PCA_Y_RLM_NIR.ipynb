{
 "cells": [
  {
   "attachments": {},
   "cell_type": "markdown",
   "metadata": {},
   "source": [
    "# PCA y Regresión Lineal Múltiple con espectros NIR para Predecir Propiedades del Plástico."
   ]
  },
  {
   "attachments": {},
   "cell_type": "markdown",
   "metadata": {},
   "source": [
    "## Importación de librerías"
   ]
  },
  {
   "cell_type": "code",
   "execution_count": 1,
   "metadata": {},
   "outputs": [],
   "source": [
    "import gc"
   ]
  },
  {
   "cell_type": "code",
   "execution_count": 2,
   "metadata": {},
   "outputs": [],
   "source": [
    "import pandas as pd\n",
    "import numpy as np\n"
   ]
  },
  {
   "cell_type": "code",
   "execution_count": 3,
   "metadata": {},
   "outputs": [],
   "source": [
    "from sklearn.decomposition import PCA\n",
    "from sklearn.preprocessing import StandardScaler, MinMaxScaler\n",
    "from sklearn.metrics import r2_score, mean_squared_error"
   ]
  },
  {
   "cell_type": "code",
   "execution_count": 4,
   "metadata": {},
   "outputs": [],
   "source": [
    "from sklearn.linear_model import LinearRegression"
   ]
  },
  {
   "attachments": {},
   "cell_type": "markdown",
   "metadata": {},
   "source": [
    "## Lectura de datos espectrales"
   ]
  },
  {
   "cell_type": "code",
   "execution_count": 5,
   "metadata": {},
   "outputs": [],
   "source": [
    "df_nir_train = pd.read_excel('MATRIZ FINAL.xlsx', sheet_name='calibracion')\n",
    "df_nir_val = pd.read_excel('MATRIZ FINAL.xlsx', sheet_name='validacion')"
   ]
  },
  {
   "cell_type": "code",
   "execution_count": 6,
   "metadata": {},
   "outputs": [
    {
     "name": "stdout",
     "output_type": "stream",
     "text": [
      "(266, 1110) (118, 1110)\n"
     ]
    }
   ],
   "source": [
    "print(df_nir_train.shape, df_nir_val.shape)"
   ]
  },
  {
   "attachments": {},
   "cell_type": "markdown",
   "metadata": {},
   "source": [
    "## Eliminar columna inútil"
   ]
  },
  {
   "cell_type": "code",
   "execution_count": 7,
   "metadata": {},
   "outputs": [],
   "source": [
    "df_nir_train.drop('Unnamed: 0', axis=1, inplace=True)\n",
    "df_nir_val.drop('Unnamed: 0', axis=1, inplace=True)"
   ]
  },
  {
   "cell_type": "code",
   "execution_count": 8,
   "metadata": {},
   "outputs": [
    {
     "name": "stdout",
     "output_type": "stream",
     "text": [
      "(266, 1109) (118, 1109)\n"
     ]
    }
   ],
   "source": [
    "print(df_nir_train.shape, df_nir_val.shape)"
   ]
  },
  {
   "cell_type": "code",
   "execution_count": 9,
   "metadata": {},
   "outputs": [],
   "source": [
    "X_train = df_nir_train.iloc[:,:1103]\n",
    "X_test = df_nir_val.iloc[:,:1103]\n",
    "Y_train = df_nir_train.iloc[:,1103:]\n",
    "Y_test = df_nir_val.iloc[:,1103:]"
   ]
  },
  {
   "attachments": {},
   "cell_type": "markdown",
   "metadata": {},
   "source": [
    "## Escalado de datos"
   ]
  },
  {
   "cell_type": "code",
   "execution_count": 10,
   "metadata": {},
   "outputs": [
    {
     "data": {
      "text/html": [
       "<div>\n",
       "<style scoped>\n",
       "    .dataframe tbody tr th:only-of-type {\n",
       "        vertical-align: middle;\n",
       "    }\n",
       "\n",
       "    .dataframe tbody tr th {\n",
       "        vertical-align: top;\n",
       "    }\n",
       "\n",
       "    .dataframe thead th {\n",
       "        text-align: right;\n",
       "    }\n",
       "</style>\n",
       "<table border=\"1\" class=\"dataframe\">\n",
       "  <thead>\n",
       "    <tr style=\"text-align: right;\">\n",
       "      <th></th>\n",
       "      <th>traccion</th>\n",
       "      <th>Energia</th>\n",
       "      <th>Tensil</th>\n",
       "      <th>Elongacion</th>\n",
       "      <th>1%secante</th>\n",
       "      <th>flexion</th>\n",
       "    </tr>\n",
       "  </thead>\n",
       "  <tbody>\n",
       "    <tr>\n",
       "      <th>0</th>\n",
       "      <td>221237</td>\n",
       "      <td>43</td>\n",
       "      <td>5241</td>\n",
       "      <td>8.2</td>\n",
       "      <td>240306</td>\n",
       "      <td>249878</td>\n",
       "    </tr>\n",
       "    <tr>\n",
       "      <th>1</th>\n",
       "      <td>193847</td>\n",
       "      <td>50</td>\n",
       "      <td>5051</td>\n",
       "      <td>9.7</td>\n",
       "      <td>218331</td>\n",
       "      <td>224118</td>\n",
       "    </tr>\n",
       "    <tr>\n",
       "      <th>2</th>\n",
       "      <td>182146</td>\n",
       "      <td>50</td>\n",
       "      <td>4928</td>\n",
       "      <td>10.2</td>\n",
       "      <td>207553</td>\n",
       "      <td>212136</td>\n",
       "    </tr>\n",
       "    <tr>\n",
       "      <th>3</th>\n",
       "      <td>182164</td>\n",
       "      <td>51</td>\n",
       "      <td>4930</td>\n",
       "      <td>10.1</td>\n",
       "      <td>210538</td>\n",
       "      <td>218948</td>\n",
       "    </tr>\n",
       "    <tr>\n",
       "      <th>4</th>\n",
       "      <td>194220</td>\n",
       "      <td>48</td>\n",
       "      <td>4997</td>\n",
       "      <td>9.5</td>\n",
       "      <td>212068</td>\n",
       "      <td>222927</td>\n",
       "    </tr>\n",
       "    <tr>\n",
       "      <th>...</th>\n",
       "      <td>...</td>\n",
       "      <td>...</td>\n",
       "      <td>...</td>\n",
       "      <td>...</td>\n",
       "      <td>...</td>\n",
       "      <td>...</td>\n",
       "    </tr>\n",
       "    <tr>\n",
       "      <th>261</th>\n",
       "      <td>118297</td>\n",
       "      <td>55</td>\n",
       "      <td>4241</td>\n",
       "      <td>12.9</td>\n",
       "      <td>170587</td>\n",
       "      <td>177680</td>\n",
       "    </tr>\n",
       "    <tr>\n",
       "      <th>262</th>\n",
       "      <td>100581</td>\n",
       "      <td>52</td>\n",
       "      <td>3771</td>\n",
       "      <td>13.2</td>\n",
       "      <td>137127</td>\n",
       "      <td>145418</td>\n",
       "    </tr>\n",
       "    <tr>\n",
       "      <th>263</th>\n",
       "      <td>100492</td>\n",
       "      <td>53</td>\n",
       "      <td>3770</td>\n",
       "      <td>13.3</td>\n",
       "      <td>136687</td>\n",
       "      <td>143557</td>\n",
       "    </tr>\n",
       "    <tr>\n",
       "      <th>264</th>\n",
       "      <td>108062</td>\n",
       "      <td>54</td>\n",
       "      <td>4041</td>\n",
       "      <td>13.3</td>\n",
       "      <td>145452</td>\n",
       "      <td>153215</td>\n",
       "    </tr>\n",
       "    <tr>\n",
       "      <th>265</th>\n",
       "      <td>103508</td>\n",
       "      <td>53</td>\n",
       "      <td>3869</td>\n",
       "      <td>13.4</td>\n",
       "      <td>144219</td>\n",
       "      <td>153821</td>\n",
       "    </tr>\n",
       "  </tbody>\n",
       "</table>\n",
       "<p>266 rows × 6 columns</p>\n",
       "</div>"
      ],
      "text/plain": [
       "     traccion  Energia  Tensil  Elongacion  1%secante  flexion\n",
       "0      221237       43    5241         8.2     240306   249878\n",
       "1      193847       50    5051         9.7     218331   224118\n",
       "2      182146       50    4928        10.2     207553   212136\n",
       "3      182164       51    4930        10.1     210538   218948\n",
       "4      194220       48    4997         9.5     212068   222927\n",
       "..        ...      ...     ...         ...        ...      ...\n",
       "261    118297       55    4241        12.9     170587   177680\n",
       "262    100581       52    3771        13.2     137127   145418\n",
       "263    100492       53    3770        13.3     136687   143557\n",
       "264    108062       54    4041        13.3     145452   153215\n",
       "265    103508       53    3869        13.4     144219   153821\n",
       "\n",
       "[266 rows x 6 columns]"
      ]
     },
     "execution_count": 10,
     "metadata": {},
     "output_type": "execute_result"
    }
   ],
   "source": [
    "Y_train"
   ]
  },
  {
   "cell_type": "code",
   "execution_count": 11,
   "metadata": {},
   "outputs": [],
   "source": [
    "standard_scaler = StandardScaler()\n",
    "standard_scaler.fit(X_train)\n",
    "X_train_scaled = standard_scaler.transform(X_train)\n",
    "X_test_scaled = standard_scaler.transform(X_test)\n",
    "\n",
    "standard_scaler.fit(Y_train)\n",
    "Y_train_scaled = standard_scaler.transform(Y_train)\n",
    "Y_test_scaled = standard_scaler.transform(Y_test)"
   ]
  },
  {
   "cell_type": "code",
   "execution_count": 12,
   "metadata": {},
   "outputs": [
    {
     "data": {
      "text/plain": [
       "array([[ 0.49986232, -0.04044156,  0.61624115, -0.46741273,  0.67344567,\n",
       "         0.53356789],\n",
       "       [ 0.03059172,  0.91275057,  0.37245938,  0.12880747,  0.25855003,\n",
       "         0.14506543],\n",
       "       [-0.16988053,  0.91275057,  0.21464276,  0.32754754,  0.05505765,\n",
       "        -0.03564251],\n",
       "       ...,\n",
       "       [-1.56885172,  1.32126148, -1.27114299,  1.55973594, -1.28291706,\n",
       "        -1.06992474],\n",
       "       [-1.43915554,  1.45743178, -0.9234332 ,  1.55973594, -1.11743082,\n",
       "        -0.92426648],\n",
       "       [-1.51717885,  1.32126148, -1.14411985,  1.59948396, -1.14071028,\n",
       "        -0.91512702]])"
      ]
     },
     "execution_count": 12,
     "metadata": {},
     "output_type": "execute_result"
    }
   ],
   "source": [
    "Y_train_scaled"
   ]
  },
  {
   "attachments": {},
   "cell_type": "markdown",
   "metadata": {},
   "source": [
    "## Reducción de dimensionalidad con PCA"
   ]
  },
  {
   "attachments": {},
   "cell_type": "markdown",
   "metadata": {},
   "source": [
    "Pondremos 3 componentes porque ya previamente probamos que de la cuarta en adelante tienen menos del 1% de varianza."
   ]
  },
  {
   "cell_type": "code",
   "execution_count": 42,
   "metadata": {},
   "outputs": [],
   "source": [
    "pca = PCA(n_components=0.99)\n",
    "pca.fit(X_train_scaled)\n",
    "X_nir_pca = pca.transform(X_train_scaled)"
   ]
  },
  {
   "cell_type": "code",
   "execution_count": 43,
   "metadata": {},
   "outputs": [
    {
     "data": {
      "text/plain": [
       "4"
      ]
     },
     "execution_count": 43,
     "metadata": {},
     "output_type": "execute_result"
    }
   ],
   "source": [
    "pca.n_components_"
   ]
  },
  {
   "cell_type": "code",
   "execution_count": 44,
   "metadata": {},
   "outputs": [
    {
     "data": {
      "text/plain": [
       "99.33610219134823"
      ]
     },
     "execution_count": 44,
     "metadata": {},
     "output_type": "execute_result"
    }
   ],
   "source": [
    "np.sum(pca.explained_variance_ratio_)*100"
   ]
  },
  {
   "cell_type": "code",
   "execution_count": 45,
   "metadata": {},
   "outputs": [],
   "source": [
    "# pca = PCA(n_components=3)\n",
    "# pca.fit(X_train)\n",
    "X_train_pca = pca.transform(X_train_scaled)\n",
    "X_test_pca = pca.transform(X_test_scaled)"
   ]
  },
  {
   "cell_type": "code",
   "execution_count": 46,
   "metadata": {},
   "outputs": [
    {
     "data": {
      "text/plain": [
       "99.33610219134823"
      ]
     },
     "execution_count": 46,
     "metadata": {},
     "output_type": "execute_result"
    }
   ],
   "source": [
    "np.sum(pca.explained_variance_ratio_)*100"
   ]
  },
  {
   "attachments": {},
   "cell_type": "markdown",
   "metadata": {},
   "source": [
    "## Separación de variables de salida"
   ]
  },
  {
   "cell_type": "code",
   "execution_count": 47,
   "metadata": {},
   "outputs": [],
   "source": [
    "traccion = Y_train_scaled.T[0].reshape(-1,1)\n",
    "energia = Y_train_scaled.T[1].reshape(-1,1)\n",
    "tensil = Y_train_scaled.T[2].reshape(-1,1)\n",
    "elongacion = Y_train_scaled.T[3].reshape(-1,1)\n",
    "secante = Y_train_scaled.T[4].reshape(-1,1)\n",
    "flexion = Y_train_scaled.T[5].reshape(-1,1)"
   ]
  },
  {
   "cell_type": "code",
   "execution_count": 48,
   "metadata": {},
   "outputs": [],
   "source": [
    "traccion_test = Y_test_scaled.T[0].reshape(-1,1)\n",
    "energia_test = Y_test_scaled.T[1].reshape(-1,1)\n",
    "tensil_test = Y_test_scaled.T[2].reshape(-1,1)\n",
    "elongacion_test = Y_test_scaled.T[3].reshape(-1,1)\n",
    "secante_test = Y_test_scaled.T[4].reshape(-1,1)\n",
    "flexion_test = Y_test_scaled.T[5].reshape(-1,1)"
   ]
  },
  {
   "cell_type": "code",
   "execution_count": 49,
   "metadata": {},
   "outputs": [],
   "source": [
    "regression = LinearRegression()"
   ]
  },
  {
   "cell_type": "code",
   "execution_count": 50,
   "metadata": {},
   "outputs": [
    {
     "data": {
      "text/plain": [
       "Index(['traccion', 'Energia', 'Tensil', 'Elongacion', '1%secante', 'flexion'], dtype='object')"
      ]
     },
     "execution_count": 50,
     "metadata": {},
     "output_type": "execute_result"
    }
   ],
   "source": [
    "Y_train.columns"
   ]
  },
  {
   "attachments": {},
   "cell_type": "markdown",
   "metadata": {},
   "source": [
    "### Regresión Lineal para Tracción"
   ]
  },
  {
   "cell_type": "code",
   "execution_count": 51,
   "metadata": {},
   "outputs": [
    {
     "data": {
      "text/plain": [
       "(266,)"
      ]
     },
     "execution_count": 51,
     "metadata": {},
     "output_type": "execute_result"
    }
   ],
   "source": [
    "Y_train_scaled.T[0].shape"
   ]
  },
  {
   "cell_type": "code",
   "execution_count": 52,
   "metadata": {},
   "outputs": [
    {
     "data": {
      "text/plain": [
       "(266, 4)"
      ]
     },
     "execution_count": 52,
     "metadata": {},
     "output_type": "execute_result"
    }
   ],
   "source": [
    "X_train_pca.shape"
   ]
  },
  {
   "cell_type": "code",
   "execution_count": 53,
   "metadata": {},
   "outputs": [
    {
     "name": "stdout",
     "output_type": "stream",
     "text": [
      "r-cuadrado en train: 0.3026152778549782\n",
      "r-cuadrado en test: 0.3367576685183159\n"
     ]
    }
   ],
   "source": [
    "regression.fit(X_train_pca, traccion)\n",
    "print(\"r-cuadrado en train:\", regression.score(X_train_pca, traccion))\n",
    "print(\"r-cuadrado en test:\", regression.score(X_test_pca, traccion_test))"
   ]
  },
  {
   "attachments": {},
   "cell_type": "markdown",
   "metadata": {},
   "source": [
    "### Regresión Lineal para Energía"
   ]
  },
  {
   "cell_type": "code",
   "execution_count": 54,
   "metadata": {},
   "outputs": [
    {
     "name": "stdout",
     "output_type": "stream",
     "text": [
      "r-cuadrado en train: 0.5236114205335658\n",
      "r-cuadrado en test: 0.5794675419167649\n"
     ]
    }
   ],
   "source": [
    "regression.fit(X_train_pca, energia)\n",
    "print(\"r-cuadrado en train:\", regression.score(X_train_pca, energia))\n",
    "print(\"r-cuadrado en test:\", regression.score(X_test_pca, energia_test))"
   ]
  },
  {
   "cell_type": "code",
   "execution_count": 55,
   "metadata": {},
   "outputs": [
    {
     "name": "stdout",
     "output_type": "stream",
     "text": [
      "0.5236114205335658\n",
      "0.5236114205335658\n",
      "0.47638857946643437\n"
     ]
    }
   ],
   "source": [
    "regression.fit(X_train_pca, energia)\n",
    "y = regression.predict(X_train_pca)\n",
    "print(regression.score(X_train_pca, energia))\n",
    "print(r2_score(energia, y))\n",
    "print(mean_squared_error(energia, y))"
   ]
  },
  {
   "cell_type": "code",
   "execution_count": 56,
   "metadata": {},
   "outputs": [
    {
     "data": {
      "text/plain": [
       "5412"
      ]
     },
     "execution_count": 56,
     "metadata": {},
     "output_type": "execute_result"
    }
   ],
   "source": [
    "gc.collect()"
   ]
  },
  {
   "attachments": {},
   "cell_type": "markdown",
   "metadata": {},
   "source": [
    "### Tensil"
   ]
  },
  {
   "cell_type": "code",
   "execution_count": 57,
   "metadata": {},
   "outputs": [
    {
     "name": "stdout",
     "output_type": "stream",
     "text": [
      "r-cuadrado en train: 0.14954576111514473\n",
      "r-cuadrado en test: 0.2037446293366244\n"
     ]
    }
   ],
   "source": [
    "regression.fit(X_train_pca, traccion)\n",
    "print(\"r-cuadrado en train:\", regression.score(X_train_pca, tensil))\n",
    "print(\"r-cuadrado en test:\", regression.score(X_test_pca, tensil_test))"
   ]
  },
  {
   "cell_type": "code",
   "execution_count": 58,
   "metadata": {},
   "outputs": [
    {
     "name": "stdout",
     "output_type": "stream",
     "text": [
      "0.23794626312221456\n",
      "0.23794626312221456\n",
      "0.7620537368777854\n"
     ]
    }
   ],
   "source": [
    "regression.fit(X_train_pca, tensil)\n",
    "y = regression.predict(X_train_pca)\n",
    "print(regression.score(X_train_pca, tensil))\n",
    "print(r2_score(tensil, y))\n",
    "print(mean_squared_error(tensil, y))"
   ]
  },
  {
   "attachments": {},
   "cell_type": "markdown",
   "metadata": {},
   "source": [
    "### Elongación"
   ]
  },
  {
   "cell_type": "code",
   "execution_count": 59,
   "metadata": {},
   "outputs": [
    {
     "name": "stdout",
     "output_type": "stream",
     "text": [
      "r-cuadrado en train: 0.403796990048078\n",
      "r-cuadrado en test: 0.44969411156269956\n"
     ]
    }
   ],
   "source": [
    "regression.fit(X_train_pca, elongacion)\n",
    "print(\"r-cuadrado en train:\", regression.score(X_train_pca, elongacion))\n",
    "y = regression.predict(X_train_pca)\n",
    "print(\"r-cuadrado en test:\", regression.score(X_test_pca, elongacion_test))\n"
   ]
  },
  {
   "cell_type": "code",
   "execution_count": 60,
   "metadata": {},
   "outputs": [
    {
     "name": "stdout",
     "output_type": "stream",
     "text": [
      "0.403796990048078\n",
      "0.403796990048078\n",
      "0.596203009951922\n"
     ]
    }
   ],
   "source": [
    "regression.fit(X_train_pca, elongacion)\n",
    "y = regression.predict(X_train_pca)\n",
    "print(regression.score(X_train_pca, elongacion))\n",
    "print(r2_score(elongacion, y))\n",
    "print(mean_squared_error(elongacion, y))"
   ]
  },
  {
   "attachments": {},
   "cell_type": "markdown",
   "metadata": {},
   "source": [
    "### Secante"
   ]
  },
  {
   "cell_type": "code",
   "execution_count": 61,
   "metadata": {},
   "outputs": [
    {
     "name": "stdout",
     "output_type": "stream",
     "text": [
      "r-cuadrado en train: 0.26374455931215146\n",
      "r-cuadrado en test: 0.34695510322332224\n"
     ]
    }
   ],
   "source": [
    "regression.fit(X_train_pca, secante)\n",
    "print(\"r-cuadrado en train:\", regression.score(X_train_pca, secante))\n",
    "print(\"r-cuadrado en test:\", regression.score(X_test_pca, secante_test))"
   ]
  },
  {
   "cell_type": "code",
   "execution_count": 62,
   "metadata": {},
   "outputs": [
    {
     "name": "stdout",
     "output_type": "stream",
     "text": [
      "0.26374455931215146\n",
      "0.26374455931215146\n",
      "0.7362554406878485\n"
     ]
    }
   ],
   "source": [
    "regression.fit(X_train_pca, secante)\n",
    "y = regression.predict(X_train_pca)\n",
    "print(regression.score(X_train_pca, secante))\n",
    "print(r2_score(secante, y))\n",
    "print(mean_squared_error(secante, y))"
   ]
  },
  {
   "attachments": {},
   "cell_type": "markdown",
   "metadata": {},
   "source": [
    "### Flexión"
   ]
  },
  {
   "cell_type": "code",
   "execution_count": 63,
   "metadata": {},
   "outputs": [
    {
     "name": "stdout",
     "output_type": "stream",
     "text": [
      "0.14881009146763557\n",
      "0.14881009146763557\n",
      "0.8511899085323644\n"
     ]
    }
   ],
   "source": [
    "regression.fit(X_train_pca, flexion)\n",
    "y = regression.predict(X_train_pca)\n",
    "print(regression.score(X_train_pca, flexion))\n",
    "print(r2_score(flexion, y))\n",
    "print(mean_squared_error(flexion, y))"
   ]
  },
  {
   "attachments": {},
   "cell_type": "markdown",
   "metadata": {},
   "source": [
    "## Regresión Polinomial para Tracción"
   ]
  },
  {
   "cell_type": "code",
   "execution_count": 64,
   "metadata": {},
   "outputs": [
    {
     "name": "stdout",
     "output_type": "stream",
     "text": [
      "R-cuadrado en el conjunto de entrenamiento: 0.5072367950192493\n",
      "R-cuadrado en el conjunto de prueba: 0.4599124903201305\n"
     ]
    }
   ],
   "source": [
    "from sklearn.preprocessing import PolynomialFeatures\n",
    "\n",
    "# Crear instancias de PolynomialFeatures para generar características polinomiales\n",
    "poly_features = PolynomialFeatures(degree=2)\n",
    "\n",
    "# Transformar los datos de entrenamiento y prueba en características polinomiales\n",
    "X_train_poly = poly_features.fit_transform(X_train_pca)\n",
    "X_test_poly = poly_features.transform(X_test_pca)\n",
    "\n",
    "# Crear un modelo de regresión lineal\n",
    "regression = LinearRegression()\n",
    "\n",
    "# Entrenar el modelo con los datos de entrenamiento polinomiales\n",
    "regression.fit(X_train_poly, traccion)\n",
    "\n",
    "# Predecir los valores de tracción en el conjunto de entrenamiento y prueba\n",
    "y_train_pred = regression.predict(X_train_poly)\n",
    "y_test_pred = regression.predict(X_test_poly)\n",
    "\n",
    "# Calcular el coeficiente de determinación (R-cuadrado) en el conjunto de entrenamiento y prueba\n",
    "r2_train = r2_score(traccion, y_train_pred)\n",
    "r2_test = r2_score(traccion_test, y_test_pred)\n",
    "\n",
    "# Imprimir los resultados\n",
    "print(\"R-cuadrado en el conjunto de entrenamiento:\", r2_train)\n",
    "print(\"R-cuadrado en el conjunto de prueba:\", r2_test)\n"
   ]
  },
  {
   "cell_type": "code",
   "execution_count": 65,
   "metadata": {},
   "outputs": [
    {
     "data": {
      "text/plain": [
       "(266, 4)"
      ]
     },
     "execution_count": 65,
     "metadata": {},
     "output_type": "execute_result"
    }
   ],
   "source": [
    "X_train_pca.shape"
   ]
  },
  {
   "cell_type": "code",
   "execution_count": 74,
   "metadata": {},
   "outputs": [
    {
     "name": "stdout",
     "output_type": "stream",
     "text": [
      "Epoch 1/220\n",
      "9/9 - 4s - loss: 1.6970 - mean_squared_error: 1.6970 - 4s/epoch - 394ms/step\n",
      "Epoch 2/220\n",
      "9/9 - 0s - loss: 1.1223 - mean_squared_error: 1.1223 - 151ms/epoch - 17ms/step\n",
      "Epoch 3/220\n",
      "9/9 - 0s - loss: 1.0462 - mean_squared_error: 1.0462 - 142ms/epoch - 16ms/step\n",
      "Epoch 4/220\n",
      "9/9 - 0s - loss: 1.0391 - mean_squared_error: 1.0391 - 158ms/epoch - 18ms/step\n",
      "Epoch 5/220\n",
      "9/9 - 0s - loss: 1.0180 - mean_squared_error: 1.0180 - 125ms/epoch - 14ms/step\n",
      "Epoch 6/220\n",
      "9/9 - 0s - loss: 1.0012 - mean_squared_error: 1.0012 - 156ms/epoch - 17ms/step\n",
      "Epoch 7/220\n",
      "9/9 - 0s - loss: 0.9754 - mean_squared_error: 0.9754 - 111ms/epoch - 12ms/step\n",
      "Epoch 8/220\n",
      "9/9 - 0s - loss: 0.9720 - mean_squared_error: 0.9720 - 155ms/epoch - 17ms/step\n",
      "Epoch 9/220\n",
      "9/9 - 0s - loss: 0.9551 - mean_squared_error: 0.9551 - 149ms/epoch - 17ms/step\n",
      "Epoch 10/220\n",
      "9/9 - 0s - loss: 0.9487 - mean_squared_error: 0.9487 - 126ms/epoch - 14ms/step\n",
      "Epoch 11/220\n",
      "9/9 - 0s - loss: 0.9392 - mean_squared_error: 0.9392 - 152ms/epoch - 17ms/step\n",
      "Epoch 12/220\n",
      "9/9 - 0s - loss: 0.9285 - mean_squared_error: 0.9285 - 132ms/epoch - 15ms/step\n",
      "Epoch 13/220\n",
      "9/9 - 0s - loss: 0.9270 - mean_squared_error: 0.9270 - 155ms/epoch - 17ms/step\n",
      "Epoch 14/220\n",
      "9/9 - 0s - loss: 0.9263 - mean_squared_error: 0.9263 - 136ms/epoch - 15ms/step\n",
      "Epoch 15/220\n",
      "9/9 - 0s - loss: 0.9254 - mean_squared_error: 0.9254 - 147ms/epoch - 16ms/step\n",
      "Epoch 16/220\n",
      "9/9 - 0s - loss: 0.9148 - mean_squared_error: 0.9148 - 142ms/epoch - 16ms/step\n",
      "Epoch 17/220\n",
      "9/9 - 0s - loss: 0.9125 - mean_squared_error: 0.9125 - 116ms/epoch - 13ms/step\n",
      "Epoch 18/220\n",
      "9/9 - 0s - loss: 0.9042 - mean_squared_error: 0.9042 - 215ms/epoch - 24ms/step\n",
      "Epoch 19/220\n",
      "9/9 - 0s - loss: 0.8983 - mean_squared_error: 0.8983 - 199ms/epoch - 22ms/step\n",
      "Epoch 20/220\n",
      "9/9 - 0s - loss: 0.9014 - mean_squared_error: 0.9014 - 175ms/epoch - 19ms/step\n",
      "Epoch 21/220\n",
      "9/9 - 0s - loss: 0.8986 - mean_squared_error: 0.8986 - 136ms/epoch - 15ms/step\n",
      "Epoch 22/220\n",
      "9/9 - 0s - loss: 0.8901 - mean_squared_error: 0.8901 - 123ms/epoch - 14ms/step\n",
      "Epoch 23/220\n",
      "9/9 - 0s - loss: 0.8878 - mean_squared_error: 0.8878 - 189ms/epoch - 21ms/step\n",
      "Epoch 24/220\n",
      "9/9 - 0s - loss: 0.8819 - mean_squared_error: 0.8819 - 190ms/epoch - 21ms/step\n",
      "Epoch 25/220\n",
      "9/9 - 0s - loss: 0.8792 - mean_squared_error: 0.8792 - 131ms/epoch - 15ms/step\n",
      "Epoch 26/220\n",
      "9/9 - 0s - loss: 0.8738 - mean_squared_error: 0.8738 - 148ms/epoch - 16ms/step\n",
      "Epoch 27/220\n",
      "9/9 - 0s - loss: 0.8726 - mean_squared_error: 0.8726 - 147ms/epoch - 16ms/step\n",
      "Epoch 28/220\n",
      "9/9 - 0s - loss: 0.8641 - mean_squared_error: 0.8641 - 150ms/epoch - 17ms/step\n",
      "Epoch 29/220\n",
      "9/9 - 0s - loss: 0.8653 - mean_squared_error: 0.8653 - 150ms/epoch - 17ms/step\n",
      "Epoch 30/220\n",
      "9/9 - 0s - loss: 0.8740 - mean_squared_error: 0.8740 - 150ms/epoch - 17ms/step\n",
      "Epoch 31/220\n",
      "9/9 - 0s - loss: 0.8442 - mean_squared_error: 0.8442 - 150ms/epoch - 17ms/step\n",
      "Epoch 32/220\n",
      "9/9 - 0s - loss: 0.8477 - mean_squared_error: 0.8477 - 130ms/epoch - 14ms/step\n",
      "Epoch 33/220\n",
      "9/9 - 0s - loss: 0.8326 - mean_squared_error: 0.8326 - 146ms/epoch - 16ms/step\n",
      "Epoch 34/220\n",
      "9/9 - 0s - loss: 0.8496 - mean_squared_error: 0.8496 - 158ms/epoch - 18ms/step\n",
      "Epoch 35/220\n",
      "9/9 - 0s - loss: 0.8256 - mean_squared_error: 0.8256 - 121ms/epoch - 13ms/step\n",
      "Epoch 36/220\n",
      "9/9 - 0s - loss: 0.8301 - mean_squared_error: 0.8301 - 127ms/epoch - 14ms/step\n",
      "Epoch 37/220\n",
      "9/9 - 0s - loss: 0.8084 - mean_squared_error: 0.8084 - 112ms/epoch - 12ms/step\n",
      "Epoch 38/220\n",
      "9/9 - 0s - loss: 0.8223 - mean_squared_error: 0.8223 - 153ms/epoch - 17ms/step\n",
      "Epoch 39/220\n",
      "9/9 - 0s - loss: 0.8087 - mean_squared_error: 0.8087 - 138ms/epoch - 15ms/step\n",
      "Epoch 40/220\n",
      "9/9 - 0s - loss: 0.8026 - mean_squared_error: 0.8026 - 139ms/epoch - 15ms/step\n",
      "Epoch 41/220\n",
      "9/9 - 0s - loss: 0.7951 - mean_squared_error: 0.7951 - 158ms/epoch - 18ms/step\n",
      "Epoch 42/220\n",
      "9/9 - 0s - loss: 0.7967 - mean_squared_error: 0.7967 - 161ms/epoch - 18ms/step\n",
      "Epoch 43/220\n",
      "9/9 - 0s - loss: 0.7859 - mean_squared_error: 0.7859 - 158ms/epoch - 18ms/step\n",
      "Epoch 44/220\n",
      "9/9 - 0s - loss: 0.8097 - mean_squared_error: 0.8097 - 155ms/epoch - 17ms/step\n",
      "Epoch 45/220\n",
      "9/9 - 0s - loss: 0.7787 - mean_squared_error: 0.7787 - 166ms/epoch - 18ms/step\n",
      "Epoch 46/220\n",
      "9/9 - 0s - loss: 0.7731 - mean_squared_error: 0.7731 - 146ms/epoch - 16ms/step\n",
      "Epoch 47/220\n",
      "9/9 - 0s - loss: 0.7754 - mean_squared_error: 0.7754 - 117ms/epoch - 13ms/step\n",
      "Epoch 48/220\n",
      "9/9 - 0s - loss: 0.7590 - mean_squared_error: 0.7590 - 166ms/epoch - 18ms/step\n",
      "Epoch 49/220\n",
      "9/9 - 0s - loss: 0.7607 - mean_squared_error: 0.7607 - 146ms/epoch - 16ms/step\n",
      "Epoch 50/220\n",
      "9/9 - 0s - loss: 0.7581 - mean_squared_error: 0.7581 - 195ms/epoch - 22ms/step\n",
      "Epoch 51/220\n",
      "9/9 - 0s - loss: 0.7574 - mean_squared_error: 0.7574 - 183ms/epoch - 20ms/step\n",
      "Epoch 52/220\n",
      "9/9 - 0s - loss: 0.7732 - mean_squared_error: 0.7732 - 165ms/epoch - 18ms/step\n",
      "Epoch 53/220\n",
      "9/9 - 0s - loss: 0.7520 - mean_squared_error: 0.7520 - 219ms/epoch - 24ms/step\n",
      "Epoch 54/220\n",
      "9/9 - 0s - loss: 0.7337 - mean_squared_error: 0.7337 - 202ms/epoch - 22ms/step\n",
      "Epoch 55/220\n",
      "9/9 - 0s - loss: 0.7288 - mean_squared_error: 0.7288 - 191ms/epoch - 21ms/step\n",
      "Epoch 56/220\n",
      "9/9 - 0s - loss: 0.7321 - mean_squared_error: 0.7321 - 178ms/epoch - 20ms/step\n",
      "Epoch 57/220\n",
      "9/9 - 0s - loss: 0.7091 - mean_squared_error: 0.7091 - 176ms/epoch - 20ms/step\n",
      "Epoch 58/220\n",
      "9/9 - 0s - loss: 0.8343 - mean_squared_error: 0.8343 - 171ms/epoch - 19ms/step\n",
      "Epoch 59/220\n",
      "9/9 - 0s - loss: 0.7294 - mean_squared_error: 0.7294 - 206ms/epoch - 23ms/step\n",
      "Epoch 60/220\n",
      "9/9 - 0s - loss: 0.7981 - mean_squared_error: 0.7981 - 245ms/epoch - 27ms/step\n",
      "Epoch 61/220\n",
      "9/9 - 0s - loss: 0.7777 - mean_squared_error: 0.7777 - 251ms/epoch - 28ms/step\n",
      "Epoch 62/220\n",
      "9/9 - 0s - loss: 0.7342 - mean_squared_error: 0.7342 - 140ms/epoch - 16ms/step\n",
      "Epoch 63/220\n",
      "9/9 - 0s - loss: 0.7658 - mean_squared_error: 0.7658 - 248ms/epoch - 28ms/step\n",
      "Epoch 64/220\n",
      "9/9 - 0s - loss: 0.7016 - mean_squared_error: 0.7016 - 179ms/epoch - 20ms/step\n",
      "Epoch 65/220\n",
      "9/9 - 0s - loss: 0.7431 - mean_squared_error: 0.7431 - 222ms/epoch - 25ms/step\n",
      "Epoch 66/220\n",
      "9/9 - 0s - loss: 0.7249 - mean_squared_error: 0.7249 - 238ms/epoch - 26ms/step\n",
      "Epoch 67/220\n",
      "9/9 - 0s - loss: 0.7256 - mean_squared_error: 0.7256 - 206ms/epoch - 23ms/step\n",
      "Epoch 68/220\n",
      "9/9 - 0s - loss: 0.7057 - mean_squared_error: 0.7057 - 195ms/epoch - 22ms/step\n",
      "Epoch 69/220\n",
      "9/9 - 0s - loss: 0.7333 - mean_squared_error: 0.7333 - 215ms/epoch - 24ms/step\n",
      "Epoch 70/220\n",
      "9/9 - 0s - loss: 0.7231 - mean_squared_error: 0.7231 - 220ms/epoch - 24ms/step\n",
      "Epoch 71/220\n",
      "9/9 - 0s - loss: 0.6955 - mean_squared_error: 0.6955 - 293ms/epoch - 33ms/step\n",
      "Epoch 72/220\n",
      "9/9 - 0s - loss: 0.7751 - mean_squared_error: 0.7751 - 206ms/epoch - 23ms/step\n",
      "Epoch 73/220\n",
      "9/9 - 0s - loss: 0.7217 - mean_squared_error: 0.7217 - 249ms/epoch - 28ms/step\n",
      "Epoch 74/220\n",
      "9/9 - 0s - loss: 0.7376 - mean_squared_error: 0.7376 - 227ms/epoch - 25ms/step\n",
      "Epoch 75/220\n",
      "9/9 - 0s - loss: 0.7203 - mean_squared_error: 0.7203 - 202ms/epoch - 22ms/step\n",
      "Epoch 76/220\n",
      "9/9 - 0s - loss: 0.7982 - mean_squared_error: 0.7982 - 187ms/epoch - 21ms/step\n",
      "Epoch 77/220\n",
      "9/9 - 0s - loss: 0.6857 - mean_squared_error: 0.6857 - 223ms/epoch - 25ms/step\n",
      "Epoch 78/220\n",
      "9/9 - 0s - loss: 0.7006 - mean_squared_error: 0.7006 - 239ms/epoch - 27ms/step\n",
      "Epoch 79/220\n",
      "9/9 - 0s - loss: 0.6832 - mean_squared_error: 0.6832 - 239ms/epoch - 27ms/step\n",
      "Epoch 80/220\n",
      "9/9 - 0s - loss: 0.6722 - mean_squared_error: 0.6722 - 251ms/epoch - 28ms/step\n",
      "Epoch 81/220\n",
      "9/9 - 0s - loss: 0.6847 - mean_squared_error: 0.6847 - 221ms/epoch - 25ms/step\n",
      "Epoch 82/220\n",
      "9/9 - 0s - loss: 0.6951 - mean_squared_error: 0.6951 - 302ms/epoch - 34ms/step\n",
      "Epoch 83/220\n",
      "9/9 - 0s - loss: 0.8814 - mean_squared_error: 0.8814 - 280ms/epoch - 31ms/step\n",
      "Epoch 84/220\n",
      "9/9 - 0s - loss: 0.6866 - mean_squared_error: 0.6866 - 258ms/epoch - 29ms/step\n",
      "Epoch 85/220\n",
      "9/9 - 0s - loss: 0.7010 - mean_squared_error: 0.7010 - 323ms/epoch - 36ms/step\n",
      "Epoch 86/220\n",
      "9/9 - 0s - loss: 0.6863 - mean_squared_error: 0.6863 - 271ms/epoch - 30ms/step\n",
      "Epoch 87/220\n",
      "9/9 - 0s - loss: 0.6589 - mean_squared_error: 0.6589 - 244ms/epoch - 27ms/step\n",
      "Epoch 88/220\n",
      "9/9 - 0s - loss: 0.6664 - mean_squared_error: 0.6664 - 256ms/epoch - 28ms/step\n",
      "Epoch 89/220\n",
      "9/9 - 0s - loss: 0.7109 - mean_squared_error: 0.7109 - 214ms/epoch - 24ms/step\n",
      "Epoch 90/220\n",
      "9/9 - 0s - loss: 0.7225 - mean_squared_error: 0.7225 - 218ms/epoch - 24ms/step\n",
      "Epoch 91/220\n",
      "9/9 - 0s - loss: 0.6971 - mean_squared_error: 0.6971 - 226ms/epoch - 25ms/step\n",
      "Epoch 92/220\n",
      "9/9 - 0s - loss: 0.6871 - mean_squared_error: 0.6871 - 214ms/epoch - 24ms/step\n",
      "Epoch 93/220\n",
      "9/9 - 0s - loss: 0.6751 - mean_squared_error: 0.6751 - 229ms/epoch - 25ms/step\n",
      "Epoch 94/220\n",
      "9/9 - 0s - loss: 0.7121 - mean_squared_error: 0.7121 - 296ms/epoch - 33ms/step\n",
      "Epoch 95/220\n",
      "9/9 - 0s - loss: 0.7059 - mean_squared_error: 0.7059 - 282ms/epoch - 31ms/step\n",
      "Epoch 96/220\n",
      "9/9 - 0s - loss: 0.6479 - mean_squared_error: 0.6479 - 232ms/epoch - 26ms/step\n",
      "Epoch 97/220\n",
      "9/9 - 0s - loss: 0.6779 - mean_squared_error: 0.6779 - 207ms/epoch - 23ms/step\n",
      "Epoch 98/220\n",
      "9/9 - 0s - loss: 0.6393 - mean_squared_error: 0.6393 - 239ms/epoch - 27ms/step\n",
      "Epoch 99/220\n",
      "9/9 - 0s - loss: 0.6549 - mean_squared_error: 0.6549 - 207ms/epoch - 23ms/step\n",
      "Epoch 100/220\n",
      "9/9 - 0s - loss: 0.7817 - mean_squared_error: 0.7817 - 251ms/epoch - 28ms/step\n",
      "Epoch 101/220\n",
      "9/9 - 0s - loss: 0.6804 - mean_squared_error: 0.6804 - 242ms/epoch - 27ms/step\n",
      "Epoch 102/220\n",
      "9/9 - 0s - loss: 0.6620 - mean_squared_error: 0.6620 - 245ms/epoch - 27ms/step\n",
      "Epoch 103/220\n",
      "9/9 - 0s - loss: 0.6686 - mean_squared_error: 0.6686 - 249ms/epoch - 28ms/step\n",
      "Epoch 104/220\n",
      "9/9 - 0s - loss: 0.6700 - mean_squared_error: 0.6700 - 225ms/epoch - 25ms/step\n",
      "Epoch 105/220\n",
      "9/9 - 0s - loss: 0.6355 - mean_squared_error: 0.6355 - 216ms/epoch - 24ms/step\n",
      "Epoch 106/220\n",
      "9/9 - 0s - loss: 0.6654 - mean_squared_error: 0.6654 - 255ms/epoch - 28ms/step\n",
      "Epoch 107/220\n",
      "9/9 - 0s - loss: 0.6844 - mean_squared_error: 0.6844 - 233ms/epoch - 26ms/step\n",
      "Epoch 108/220\n",
      "9/9 - 0s - loss: 0.7249 - mean_squared_error: 0.7249 - 241ms/epoch - 27ms/step\n",
      "Epoch 109/220\n",
      "9/9 - 0s - loss: 0.6531 - mean_squared_error: 0.6531 - 205ms/epoch - 23ms/step\n",
      "Epoch 110/220\n",
      "9/9 - 0s - loss: 0.6492 - mean_squared_error: 0.6492 - 219ms/epoch - 24ms/step\n",
      "Epoch 111/220\n",
      "9/9 - 0s - loss: 0.7482 - mean_squared_error: 0.7482 - 231ms/epoch - 26ms/step\n",
      "Epoch 112/220\n",
      "9/9 - 0s - loss: 0.6685 - mean_squared_error: 0.6685 - 205ms/epoch - 23ms/step\n",
      "Epoch 113/220\n",
      "9/9 - 0s - loss: 0.6494 - mean_squared_error: 0.6494 - 198ms/epoch - 22ms/step\n",
      "Epoch 114/220\n",
      "9/9 - 0s - loss: 0.6320 - mean_squared_error: 0.6320 - 183ms/epoch - 20ms/step\n",
      "Epoch 115/220\n",
      "9/9 - 0s - loss: 0.7226 - mean_squared_error: 0.7226 - 181ms/epoch - 20ms/step\n",
      "Epoch 116/220\n",
      "9/9 - 0s - loss: 0.6680 - mean_squared_error: 0.6680 - 214ms/epoch - 24ms/step\n",
      "Epoch 117/220\n",
      "9/9 - 0s - loss: 0.6689 - mean_squared_error: 0.6689 - 183ms/epoch - 20ms/step\n",
      "Epoch 118/220\n",
      "9/9 - 0s - loss: 0.6774 - mean_squared_error: 0.6774 - 182ms/epoch - 20ms/step\n",
      "Epoch 119/220\n",
      "9/9 - 0s - loss: 0.6311 - mean_squared_error: 0.6311 - 188ms/epoch - 21ms/step\n",
      "Epoch 120/220\n",
      "9/9 - 0s - loss: 0.6976 - mean_squared_error: 0.6976 - 143ms/epoch - 16ms/step\n",
      "Epoch 121/220\n",
      "9/9 - 0s - loss: 0.6254 - mean_squared_error: 0.6254 - 265ms/epoch - 29ms/step\n",
      "Epoch 122/220\n",
      "9/9 - 0s - loss: 0.7047 - mean_squared_error: 0.7047 - 203ms/epoch - 23ms/step\n",
      "Epoch 123/220\n",
      "9/9 - 0s - loss: 0.6444 - mean_squared_error: 0.6444 - 170ms/epoch - 19ms/step\n",
      "Epoch 124/220\n",
      "9/9 - 0s - loss: 0.6335 - mean_squared_error: 0.6335 - 170ms/epoch - 19ms/step\n",
      "Epoch 125/220\n",
      "9/9 - 0s - loss: 0.6426 - mean_squared_error: 0.6426 - 192ms/epoch - 21ms/step\n",
      "Epoch 126/220\n",
      "9/9 - 0s - loss: 0.7087 - mean_squared_error: 0.7087 - 203ms/epoch - 23ms/step\n",
      "Epoch 127/220\n",
      "9/9 - 0s - loss: 0.6420 - mean_squared_error: 0.6420 - 177ms/epoch - 20ms/step\n",
      "Epoch 128/220\n",
      "9/9 - 0s - loss: 0.6379 - mean_squared_error: 0.6379 - 202ms/epoch - 22ms/step\n",
      "Epoch 129/220\n",
      "9/9 - 0s - loss: 0.7598 - mean_squared_error: 0.7598 - 228ms/epoch - 25ms/step\n",
      "Epoch 130/220\n",
      "9/9 - 0s - loss: 0.6727 - mean_squared_error: 0.6727 - 192ms/epoch - 21ms/step\n",
      "Epoch 131/220\n",
      "9/9 - 0s - loss: 0.7572 - mean_squared_error: 0.7572 - 200ms/epoch - 22ms/step\n",
      "Epoch 132/220\n",
      "9/9 - 0s - loss: 0.6835 - mean_squared_error: 0.6835 - 172ms/epoch - 19ms/step\n",
      "Epoch 133/220\n",
      "9/9 - 0s - loss: 0.6863 - mean_squared_error: 0.6863 - 135ms/epoch - 15ms/step\n"
     ]
    },
    {
     "ename": "KeyboardInterrupt",
     "evalue": "",
     "output_type": "error",
     "traceback": [
      "\u001b[0;31m---------------------------------------------------------------------------\u001b[0m",
      "\u001b[0;31mKeyboardInterrupt\u001b[0m                         Traceback (most recent call last)",
      "Cell \u001b[0;32mIn[74], line 14\u001b[0m\n\u001b[1;32m     11\u001b[0m model\u001b[39m.\u001b[39mcompile(optimizer\u001b[39m=\u001b[39m\u001b[39m'\u001b[39m\u001b[39msgd\u001b[39m\u001b[39m'\u001b[39m, loss\u001b[39m=\u001b[39m\u001b[39m'\u001b[39m\u001b[39mmse\u001b[39m\u001b[39m'\u001b[39m, metrics\u001b[39m=\u001b[39m[\u001b[39m'\u001b[39m\u001b[39mmean_squared_error\u001b[39m\u001b[39m'\u001b[39m])\n\u001b[1;32m     13\u001b[0m \u001b[39m# Entrenar la red neuronal\u001b[39;00m\n\u001b[0;32m---> 14\u001b[0m model\u001b[39m.\u001b[39;49mfit(X_train_pca, traccion, epochs\u001b[39m=\u001b[39;49m\u001b[39m220\u001b[39;49m, verbose\u001b[39m=\u001b[39;49m\u001b[39m2\u001b[39;49m)\n\u001b[1;32m     16\u001b[0m \u001b[39m# Evaluar el modelo en el conjunto de entrenamiento y prueba\u001b[39;00m\n\u001b[1;32m     17\u001b[0m train_loss \u001b[39m=\u001b[39m model\u001b[39m.\u001b[39mevaluate(X_train_pca, traccion)\n",
      "File \u001b[0;32m~/maestria/seminario_en_ciencias/env/lib/python3.8/site-packages/keras/utils/traceback_utils.py:65\u001b[0m, in \u001b[0;36mfilter_traceback.<locals>.error_handler\u001b[0;34m(*args, **kwargs)\u001b[0m\n\u001b[1;32m     63\u001b[0m filtered_tb \u001b[39m=\u001b[39m \u001b[39mNone\u001b[39;00m\n\u001b[1;32m     64\u001b[0m \u001b[39mtry\u001b[39;00m:\n\u001b[0;32m---> 65\u001b[0m     \u001b[39mreturn\u001b[39;00m fn(\u001b[39m*\u001b[39;49margs, \u001b[39m*\u001b[39;49m\u001b[39m*\u001b[39;49mkwargs)\n\u001b[1;32m     66\u001b[0m \u001b[39mexcept\u001b[39;00m \u001b[39mException\u001b[39;00m \u001b[39mas\u001b[39;00m e:\n\u001b[1;32m     67\u001b[0m     filtered_tb \u001b[39m=\u001b[39m _process_traceback_frames(e\u001b[39m.\u001b[39m__traceback__)\n",
      "File \u001b[0;32m~/maestria/seminario_en_ciencias/env/lib/python3.8/site-packages/keras/engine/training.py:1673\u001b[0m, in \u001b[0;36mModel.fit\u001b[0;34m(self, x, y, batch_size, epochs, verbose, callbacks, validation_split, validation_data, shuffle, class_weight, sample_weight, initial_epoch, steps_per_epoch, validation_steps, validation_batch_size, validation_freq, max_queue_size, workers, use_multiprocessing)\u001b[0m\n\u001b[1;32m   1671\u001b[0m logs \u001b[39m=\u001b[39m \u001b[39mNone\u001b[39;00m\n\u001b[1;32m   1672\u001b[0m \u001b[39mfor\u001b[39;00m epoch, iterator \u001b[39min\u001b[39;00m data_handler\u001b[39m.\u001b[39menumerate_epochs():\n\u001b[0;32m-> 1673\u001b[0m     \u001b[39mself\u001b[39;49m\u001b[39m.\u001b[39;49mreset_metrics()\n\u001b[1;32m   1674\u001b[0m     callbacks\u001b[39m.\u001b[39mon_epoch_begin(epoch)\n\u001b[1;32m   1675\u001b[0m     \u001b[39mwith\u001b[39;00m data_handler\u001b[39m.\u001b[39mcatch_stop_iteration():\n",
      "File \u001b[0;32m~/maestria/seminario_en_ciencias/env/lib/python3.8/site-packages/keras/engine/training.py:2448\u001b[0m, in \u001b[0;36mModel.reset_metrics\u001b[0;34m(self)\u001b[0m\n\u001b[1;32m   2429\u001b[0m \u001b[39m\u001b[39m\u001b[39m\"\"\"Resets the state of all the metrics in the model.\u001b[39;00m\n\u001b[1;32m   2430\u001b[0m \n\u001b[1;32m   2431\u001b[0m \u001b[39mExamples:\u001b[39;00m\n\u001b[0;32m   (...)\u001b[0m\n\u001b[1;32m   2445\u001b[0m \n\u001b[1;32m   2446\u001b[0m \u001b[39m\"\"\"\u001b[39;00m\n\u001b[1;32m   2447\u001b[0m \u001b[39mfor\u001b[39;00m m \u001b[39min\u001b[39;00m \u001b[39mself\u001b[39m\u001b[39m.\u001b[39mmetrics:\n\u001b[0;32m-> 2448\u001b[0m     m\u001b[39m.\u001b[39;49mreset_state()\n",
      "File \u001b[0;32m~/maestria/seminario_en_ciencias/env/lib/python3.8/site-packages/keras/metrics/base_metric.py:259\u001b[0m, in \u001b[0;36mMetric.reset_state\u001b[0;34m(self)\u001b[0m\n\u001b[1;32m    257\u001b[0m     \u001b[39mreturn\u001b[39;00m \u001b[39mself\u001b[39m\u001b[39m.\u001b[39mreset_states()\n\u001b[1;32m    258\u001b[0m \u001b[39melse\u001b[39;00m:\n\u001b[0;32m--> 259\u001b[0m     backend\u001b[39m.\u001b[39;49mbatch_set_value([(v, \u001b[39m0\u001b[39;49m) \u001b[39mfor\u001b[39;49;00m v \u001b[39min\u001b[39;49;00m \u001b[39mself\u001b[39;49m\u001b[39m.\u001b[39;49mvariables])\n",
      "File \u001b[0;32m~/maestria/seminario_en_ciencias/env/lib/python3.8/site-packages/tensorflow/python/util/traceback_utils.py:150\u001b[0m, in \u001b[0;36mfilter_traceback.<locals>.error_handler\u001b[0;34m(*args, **kwargs)\u001b[0m\n\u001b[1;32m    148\u001b[0m filtered_tb \u001b[39m=\u001b[39m \u001b[39mNone\u001b[39;00m\n\u001b[1;32m    149\u001b[0m \u001b[39mtry\u001b[39;00m:\n\u001b[0;32m--> 150\u001b[0m   \u001b[39mreturn\u001b[39;00m fn(\u001b[39m*\u001b[39;49margs, \u001b[39m*\u001b[39;49m\u001b[39m*\u001b[39;49mkwargs)\n\u001b[1;32m    151\u001b[0m \u001b[39mexcept\u001b[39;00m \u001b[39mException\u001b[39;00m \u001b[39mas\u001b[39;00m e:\n\u001b[1;32m    152\u001b[0m   filtered_tb \u001b[39m=\u001b[39m _process_traceback_frames(e\u001b[39m.\u001b[39m__traceback__)\n",
      "File \u001b[0;32m~/maestria/seminario_en_ciencias/env/lib/python3.8/site-packages/tensorflow/python/util/dispatch.py:1176\u001b[0m, in \u001b[0;36madd_dispatch_support.<locals>.decorator.<locals>.op_dispatch_handler\u001b[0;34m(*args, **kwargs)\u001b[0m\n\u001b[1;32m   1174\u001b[0m \u001b[39m# Fallback dispatch system (dispatch v1):\u001b[39;00m\n\u001b[1;32m   1175\u001b[0m \u001b[39mtry\u001b[39;00m:\n\u001b[0;32m-> 1176\u001b[0m   \u001b[39mreturn\u001b[39;00m dispatch_target(\u001b[39m*\u001b[39;49margs, \u001b[39m*\u001b[39;49m\u001b[39m*\u001b[39;49mkwargs)\n\u001b[1;32m   1177\u001b[0m \u001b[39mexcept\u001b[39;00m (\u001b[39mTypeError\u001b[39;00m, \u001b[39mValueError\u001b[39;00m):\n\u001b[1;32m   1178\u001b[0m   \u001b[39m# Note: convert_to_eager_tensor currently raises a ValueError, not a\u001b[39;00m\n\u001b[1;32m   1179\u001b[0m   \u001b[39m# TypeError, when given unexpected types.  So we need to catch both.\u001b[39;00m\n\u001b[1;32m   1180\u001b[0m   result \u001b[39m=\u001b[39m dispatch(op_dispatch_handler, args, kwargs)\n",
      "File \u001b[0;32m~/maestria/seminario_en_ciencias/env/lib/python3.8/site-packages/keras/backend.py:4312\u001b[0m, in \u001b[0;36mbatch_set_value\u001b[0;34m(tuples)\u001b[0m\n\u001b[1;32m   4310\u001b[0m     \u001b[39mfor\u001b[39;00m x, value \u001b[39min\u001b[39;00m tuples:\n\u001b[1;32m   4311\u001b[0m         value \u001b[39m=\u001b[39m np\u001b[39m.\u001b[39masarray(value, dtype\u001b[39m=\u001b[39mdtype_numpy(x))\n\u001b[0;32m-> 4312\u001b[0m         _assign_value_to_variable(x, value)\n\u001b[1;32m   4313\u001b[0m \u001b[39melse\u001b[39;00m:\n\u001b[1;32m   4314\u001b[0m     \u001b[39mwith\u001b[39;00m get_graph()\u001b[39m.\u001b[39mas_default():\n",
      "File \u001b[0;32m~/maestria/seminario_en_ciencias/env/lib/python3.8/site-packages/keras/backend.py:4360\u001b[0m, in \u001b[0;36m_assign_value_to_variable\u001b[0;34m(variable, value)\u001b[0m\n\u001b[1;32m   4357\u001b[0m     variable\u001b[39m.\u001b[39massign(d_value)\n\u001b[1;32m   4358\u001b[0m \u001b[39melse\u001b[39;00m:\n\u001b[1;32m   4359\u001b[0m     \u001b[39m# For the normal tf.Variable assign\u001b[39;00m\n\u001b[0;32m-> 4360\u001b[0m     variable\u001b[39m.\u001b[39;49massign(value)\n",
      "File \u001b[0;32m~/maestria/seminario_en_ciencias/env/lib/python3.8/site-packages/tensorflow/python/ops/resource_variable_ops.py:990\u001b[0m, in \u001b[0;36mBaseResourceVariable.assign\u001b[0;34m(self, value, use_locking, name, read_value)\u001b[0m\n\u001b[1;32m    988\u001b[0m   validate_shape \u001b[39m=\u001b[39m \u001b[39mself\u001b[39m\u001b[39m.\u001b[39m_validate_shape \u001b[39mand\u001b[39;00m \u001b[39mself\u001b[39m\u001b[39m.\u001b[39m_shape\u001b[39m.\u001b[39mis_fully_defined()\n\u001b[1;32m    989\u001b[0m   kwargs[\u001b[39m\"\u001b[39m\u001b[39mvalidate_shape\u001b[39m\u001b[39m\"\u001b[39m] \u001b[39m=\u001b[39m validate_shape\n\u001b[0;32m--> 990\u001b[0m assign_op \u001b[39m=\u001b[39m gen_resource_variable_ops\u001b[39m.\u001b[39;49massign_variable_op(\n\u001b[1;32m    991\u001b[0m     \u001b[39mself\u001b[39;49m\u001b[39m.\u001b[39;49mhandle, value_tensor, name\u001b[39m=\u001b[39;49mname, \u001b[39m*\u001b[39;49m\u001b[39m*\u001b[39;49mkwargs)\n\u001b[1;32m    992\u001b[0m \u001b[39mif\u001b[39;00m read_value:\n\u001b[1;32m    993\u001b[0m   \u001b[39mreturn\u001b[39;00m \u001b[39mself\u001b[39m\u001b[39m.\u001b[39m_lazy_read(assign_op)\n",
      "File \u001b[0;32m~/maestria/seminario_en_ciencias/env/lib/python3.8/site-packages/tensorflow/python/ops/gen_resource_variable_ops.py:141\u001b[0m, in \u001b[0;36massign_variable_op\u001b[0;34m(resource, value, validate_shape, name)\u001b[0m\n\u001b[1;32m    139\u001b[0m \u001b[39mif\u001b[39;00m tld\u001b[39m.\u001b[39mis_eager:\n\u001b[1;32m    140\u001b[0m   \u001b[39mtry\u001b[39;00m:\n\u001b[0;32m--> 141\u001b[0m     _result \u001b[39m=\u001b[39m pywrap_tfe\u001b[39m.\u001b[39;49mTFE_Py_FastPathExecute(\n\u001b[1;32m    142\u001b[0m       _ctx, \u001b[39m\"\u001b[39;49m\u001b[39mAssignVariableOp\u001b[39;49m\u001b[39m\"\u001b[39;49m, name, resource, value, \u001b[39m\"\u001b[39;49m\u001b[39mvalidate_shape\u001b[39;49m\u001b[39m\"\u001b[39;49m,\n\u001b[1;32m    143\u001b[0m       validate_shape)\n\u001b[1;32m    144\u001b[0m     \u001b[39mreturn\u001b[39;00m _result\n\u001b[1;32m    145\u001b[0m   \u001b[39mexcept\u001b[39;00m _core\u001b[39m.\u001b[39m_NotOkStatusException \u001b[39mas\u001b[39;00m e:\n",
      "\u001b[0;31mKeyboardInterrupt\u001b[0m: "
     ]
    }
   ],
   "source": [
    "import tensorflow as tf\n",
    "\n",
    "# Definir la arquitectura de la red neuronal\n",
    "model = tf.keras.Sequential([\n",
    "    tf.keras.layers.Dense(4, activation='tanh', input_shape=(4,)),\n",
    "    tf.keras.layers.Dense(4, activation='tanh'),\n",
    "    tf.keras.layers.Dense(1)\n",
    "])\n",
    "\n",
    "# Compilar el modelo\n",
    "model.compile(optimizer='rmsprop', loss='mse', metrics=['mean_squared_error'])\n",
    "\n",
    "# Entrenar la red neuronal\n",
    "model.fit(X_train_pca, traccion, epochs=220, verbose=2)\n",
    "\n",
    "# Evaluar el modelo en el conjunto de entrenamiento y prueba\n",
    "train_loss = model.evaluate(X_train_pca, traccion)\n",
    "test_loss = model.evaluate(X_test_pca, traccion_test)\n",
    "\n",
    "# Imprimir los resultados\n",
    "print(\"Pérdida en el conjunto de entrenamiento:\", train_loss)\n",
    "print(\"Pérdida en el conjunto de prueba:\", test_loss)\n"
   ]
  },
  {
   "cell_type": "code",
   "execution_count": 73,
   "metadata": {},
   "outputs": [
    {
     "name": "stdout",
     "output_type": "stream",
     "text": [
      "9/9 [==============================] - 0s 11ms/step\n",
      "r-cuadrado train: 0.18207044348678347\n",
      "4/4 [==============================] - 0s 10ms/step\n",
      "r-cuadrado test: 0.18627860575847688\n"
     ]
    }
   ],
   "source": [
    "print(\"r-cuadrado train:\", r2_score(traccion, model.predict(X_train_pca)))\n",
    "print(\"r-cuadrado test:\", r2_score(traccion_test, model.predict(X_test_pca)))"
   ]
  }
 ],
 "metadata": {
  "kernelspec": {
   "display_name": "env",
   "language": "python",
   "name": "python3"
  },
  "language_info": {
   "codemirror_mode": {
    "name": "ipython",
    "version": 3
   },
   "file_extension": ".py",
   "mimetype": "text/x-python",
   "name": "python",
   "nbconvert_exporter": "python",
   "pygments_lexer": "ipython3",
   "version": "3.8.10"
  },
  "orig_nbformat": 4
 },
 "nbformat": 4,
 "nbformat_minor": 2
}
