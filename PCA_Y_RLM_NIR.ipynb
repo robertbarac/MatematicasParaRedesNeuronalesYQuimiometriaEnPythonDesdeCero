{
 "cells": [
  {
   "attachments": {},
   "cell_type": "markdown",
   "metadata": {},
   "source": [
    "# PCA y Regresión Lineal Múltiple con espectros NIR para Predecir Propiedades del Plástico."
   ]
  },
  {
   "attachments": {},
   "cell_type": "markdown",
   "metadata": {},
   "source": [
    "## Importación de librerías"
   ]
  },
  {
   "cell_type": "code",
   "execution_count": 64,
   "metadata": {},
   "outputs": [],
   "source": [
    "import gc"
   ]
  },
  {
   "cell_type": "code",
   "execution_count": 1,
   "metadata": {},
   "outputs": [],
   "source": [
    "import pandas as pd\n",
    "import numpy as np\n"
   ]
  },
  {
   "cell_type": "code",
   "execution_count": 9,
   "metadata": {},
   "outputs": [],
   "source": [
    "from sklearn.decomposition import PCA\n",
    "from sklearn.preprocessing import StandardScaler, MinMaxScaler\n",
    "from sklearn.metrics import r2_score, mean_squared_error"
   ]
  },
  {
   "cell_type": "code",
   "execution_count": 38,
   "metadata": {},
   "outputs": [],
   "source": [
    "from sklearn.linear_model import LinearRegression"
   ]
  },
  {
   "attachments": {},
   "cell_type": "markdown",
   "metadata": {},
   "source": [
    "## Lectura de datos espectrales"
   ]
  },
  {
   "cell_type": "code",
   "execution_count": 22,
   "metadata": {},
   "outputs": [],
   "source": [
    "df_nir_train = pd.read_excel('MATRIZ FINAL.xlsx', sheet_name='calibracion')\n",
    "df_nir_val = pd.read_excel('MATRIZ FINAL.xlsx', sheet_name='validacion')"
   ]
  },
  {
   "cell_type": "code",
   "execution_count": 23,
   "metadata": {},
   "outputs": [
    {
     "name": "stdout",
     "output_type": "stream",
     "text": [
      "(266, 1110) (118, 1110)\n"
     ]
    }
   ],
   "source": [
    "print(df_nir_train.shape, df_nir_val.shape)"
   ]
  },
  {
   "cell_type": "code",
   "execution_count": 24,
   "metadata": {},
   "outputs": [],
   "source": [
    "df_nir_train.drop('Unnamed: 0', axis=1, inplace=True)\n",
    "df_nir_val.drop('Unnamed: 0', axis=1, inplace=True)"
   ]
  },
  {
   "cell_type": "code",
   "execution_count": 25,
   "metadata": {},
   "outputs": [
    {
     "name": "stdout",
     "output_type": "stream",
     "text": [
      "(266, 1109) (118, 1109)\n"
     ]
    }
   ],
   "source": [
    "print(df_nir_train.shape, df_nir_val.shape)"
   ]
  },
  {
   "cell_type": "code",
   "execution_count": 26,
   "metadata": {},
   "outputs": [],
   "source": [
    "X_train = df_nir_train.iloc[:,:1103]\n",
    "X_test = df_nir_val.iloc[:,:1103]\n",
    "Y_train = df_nir_train.iloc[:,1103:]\n",
    "Y_test = df_nir_val.iloc[:,1103:]"
   ]
  },
  {
   "attachments": {},
   "cell_type": "markdown",
   "metadata": {},
   "source": [
    "## Escalado de datos"
   ]
  },
  {
   "cell_type": "code",
   "execution_count": 28,
   "metadata": {},
   "outputs": [
    {
     "data": {
      "text/html": [
       "<div>\n",
       "<style scoped>\n",
       "    .dataframe tbody tr th:only-of-type {\n",
       "        vertical-align: middle;\n",
       "    }\n",
       "\n",
       "    .dataframe tbody tr th {\n",
       "        vertical-align: top;\n",
       "    }\n",
       "\n",
       "    .dataframe thead th {\n",
       "        text-align: right;\n",
       "    }\n",
       "</style>\n",
       "<table border=\"1\" class=\"dataframe\">\n",
       "  <thead>\n",
       "    <tr style=\"text-align: right;\">\n",
       "      <th></th>\n",
       "      <th>traccion</th>\n",
       "      <th>Energia</th>\n",
       "      <th>Tensil</th>\n",
       "      <th>Elongacion</th>\n",
       "      <th>1%secante</th>\n",
       "      <th>flexion</th>\n",
       "    </tr>\n",
       "  </thead>\n",
       "  <tbody>\n",
       "    <tr>\n",
       "      <th>0</th>\n",
       "      <td>221237</td>\n",
       "      <td>43</td>\n",
       "      <td>5241</td>\n",
       "      <td>8.2</td>\n",
       "      <td>240306</td>\n",
       "      <td>249878</td>\n",
       "    </tr>\n",
       "    <tr>\n",
       "      <th>1</th>\n",
       "      <td>193847</td>\n",
       "      <td>50</td>\n",
       "      <td>5051</td>\n",
       "      <td>9.7</td>\n",
       "      <td>218331</td>\n",
       "      <td>224118</td>\n",
       "    </tr>\n",
       "    <tr>\n",
       "      <th>2</th>\n",
       "      <td>182146</td>\n",
       "      <td>50</td>\n",
       "      <td>4928</td>\n",
       "      <td>10.2</td>\n",
       "      <td>207553</td>\n",
       "      <td>212136</td>\n",
       "    </tr>\n",
       "    <tr>\n",
       "      <th>3</th>\n",
       "      <td>182164</td>\n",
       "      <td>51</td>\n",
       "      <td>4930</td>\n",
       "      <td>10.1</td>\n",
       "      <td>210538</td>\n",
       "      <td>218948</td>\n",
       "    </tr>\n",
       "    <tr>\n",
       "      <th>4</th>\n",
       "      <td>194220</td>\n",
       "      <td>48</td>\n",
       "      <td>4997</td>\n",
       "      <td>9.5</td>\n",
       "      <td>212068</td>\n",
       "      <td>222927</td>\n",
       "    </tr>\n",
       "    <tr>\n",
       "      <th>...</th>\n",
       "      <td>...</td>\n",
       "      <td>...</td>\n",
       "      <td>...</td>\n",
       "      <td>...</td>\n",
       "      <td>...</td>\n",
       "      <td>...</td>\n",
       "    </tr>\n",
       "    <tr>\n",
       "      <th>261</th>\n",
       "      <td>118297</td>\n",
       "      <td>55</td>\n",
       "      <td>4241</td>\n",
       "      <td>12.9</td>\n",
       "      <td>170587</td>\n",
       "      <td>177680</td>\n",
       "    </tr>\n",
       "    <tr>\n",
       "      <th>262</th>\n",
       "      <td>100581</td>\n",
       "      <td>52</td>\n",
       "      <td>3771</td>\n",
       "      <td>13.2</td>\n",
       "      <td>137127</td>\n",
       "      <td>145418</td>\n",
       "    </tr>\n",
       "    <tr>\n",
       "      <th>263</th>\n",
       "      <td>100492</td>\n",
       "      <td>53</td>\n",
       "      <td>3770</td>\n",
       "      <td>13.3</td>\n",
       "      <td>136687</td>\n",
       "      <td>143557</td>\n",
       "    </tr>\n",
       "    <tr>\n",
       "      <th>264</th>\n",
       "      <td>108062</td>\n",
       "      <td>54</td>\n",
       "      <td>4041</td>\n",
       "      <td>13.3</td>\n",
       "      <td>145452</td>\n",
       "      <td>153215</td>\n",
       "    </tr>\n",
       "    <tr>\n",
       "      <th>265</th>\n",
       "      <td>103508</td>\n",
       "      <td>53</td>\n",
       "      <td>3869</td>\n",
       "      <td>13.4</td>\n",
       "      <td>144219</td>\n",
       "      <td>153821</td>\n",
       "    </tr>\n",
       "  </tbody>\n",
       "</table>\n",
       "<p>266 rows × 6 columns</p>\n",
       "</div>"
      ],
      "text/plain": [
       "     traccion  Energia  Tensil  Elongacion  1%secante  flexion\n",
       "0      221237       43    5241         8.2     240306   249878\n",
       "1      193847       50    5051         9.7     218331   224118\n",
       "2      182146       50    4928        10.2     207553   212136\n",
       "3      182164       51    4930        10.1     210538   218948\n",
       "4      194220       48    4997         9.5     212068   222927\n",
       "..        ...      ...     ...         ...        ...      ...\n",
       "261    118297       55    4241        12.9     170587   177680\n",
       "262    100581       52    3771        13.2     137127   145418\n",
       "263    100492       53    3770        13.3     136687   143557\n",
       "264    108062       54    4041        13.3     145452   153215\n",
       "265    103508       53    3869        13.4     144219   153821\n",
       "\n",
       "[266 rows x 6 columns]"
      ]
     },
     "execution_count": 28,
     "metadata": {},
     "output_type": "execute_result"
    }
   ],
   "source": [
    "Y_train"
   ]
  },
  {
   "cell_type": "code",
   "execution_count": 29,
   "metadata": {},
   "outputs": [],
   "source": [
    "standard_scaler = StandardScaler()\n",
    "standard_scaler.fit(X_train)\n",
    "X_train_scaled = standard_scaler.transform(X_train)\n",
    "X_test_scaled = standard_scaler.transform(X_test)\n",
    "\n",
    "standard_scaler.fit(Y_train)\n",
    "Y_train_scaled = standard_scaler.transform(Y_train)\n",
    "Y_test_scaled = standard_scaler.transform(Y_test)"
   ]
  },
  {
   "cell_type": "code",
   "execution_count": 37,
   "metadata": {},
   "outputs": [
    {
     "data": {
      "text/plain": [
       "array([[ 0.49986232, -0.04044156,  0.61624115, -0.46741273,  0.67344567,\n",
       "         0.53356789],\n",
       "       [ 0.03059172,  0.91275057,  0.37245938,  0.12880747,  0.25855003,\n",
       "         0.14506543],\n",
       "       [-0.16988053,  0.91275057,  0.21464276,  0.32754754,  0.05505765,\n",
       "        -0.03564251],\n",
       "       ...,\n",
       "       [-1.56885172,  1.32126148, -1.27114299,  1.55973594, -1.28291706,\n",
       "        -1.06992474],\n",
       "       [-1.43915554,  1.45743178, -0.9234332 ,  1.55973594, -1.11743082,\n",
       "        -0.92426648],\n",
       "       [-1.51717885,  1.32126148, -1.14411985,  1.59948396, -1.14071028,\n",
       "        -0.91512702]])"
      ]
     },
     "execution_count": 37,
     "metadata": {},
     "output_type": "execute_result"
    }
   ],
   "source": [
    "Y_train_scaled#[0]"
   ]
  },
  {
   "attachments": {},
   "cell_type": "markdown",
   "metadata": {},
   "source": [
    "## Reducción de dimensionalidad con PCA"
   ]
  },
  {
   "attachments": {},
   "cell_type": "markdown",
   "metadata": {},
   "source": [
    "Pondremos 3 componentes porque ya previamente probamos que de la cuarta en adelante tienen menos del 1% de varianza."
   ]
  },
  {
   "cell_type": "code",
   "execution_count": 33,
   "metadata": {},
   "outputs": [],
   "source": [
    "pca = PCA(n_components=3)\n",
    "pca.fit(X_train)\n",
    "X_train_pca = pca.transform(X_train_scaled)\n",
    "X_test_pca = pca.transform(X_test_scaled)"
   ]
  },
  {
   "cell_type": "code",
   "execution_count": 35,
   "metadata": {},
   "outputs": [
    {
     "data": {
      "text/plain": [
       "array([76.71609604, 20.79538914,  1.24439013])"
      ]
     },
     "execution_count": 35,
     "metadata": {},
     "output_type": "execute_result"
    }
   ],
   "source": [
    "pca.explained_variance_ratio_*100"
   ]
  },
  {
   "attachments": {},
   "cell_type": "markdown",
   "metadata": {},
   "source": [
    "## Separación de variables de salida"
   ]
  },
  {
   "cell_type": "code",
   "execution_count": 62,
   "metadata": {},
   "outputs": [],
   "source": [
    "traccion = Y_train_scaled.T[0].reshape(-1,1)\n",
    "energia = Y_train_scaled.T[1].reshape(-1,1)\n",
    "tensil = Y_train_scaled.T[2].reshape(-1,1)\n",
    "elongacion = Y_train_scaled.T[3].reshape(-1,1)\n",
    "secante = Y_train_scaled.T[4].reshape(-1,1)\n",
    "flexion = Y_train_scaled.T[5].reshape(-1,1)"
   ]
  },
  {
   "cell_type": "code",
   "execution_count": 39,
   "metadata": {},
   "outputs": [],
   "source": [
    "regression = LinearRegression()"
   ]
  },
  {
   "cell_type": "code",
   "execution_count": 42,
   "metadata": {},
   "outputs": [
    {
     "data": {
      "text/plain": [
       "Index(['traccion', 'Energia', 'Tensil', 'Elongacion', '1%secante', 'flexion'], dtype='object')"
      ]
     },
     "execution_count": 42,
     "metadata": {},
     "output_type": "execute_result"
    }
   ],
   "source": [
    "Y_train.columns"
   ]
  },
  {
   "attachments": {},
   "cell_type": "markdown",
   "metadata": {},
   "source": [
    "### Regresión Lineal para Tracción"
   ]
  },
  {
   "cell_type": "code",
   "execution_count": 47,
   "metadata": {},
   "outputs": [
    {
     "data": {
      "text/plain": [
       "(266,)"
      ]
     },
     "execution_count": 47,
     "metadata": {},
     "output_type": "execute_result"
    }
   ],
   "source": [
    "Y_train_scaled.T[0].shape"
   ]
  },
  {
   "cell_type": "code",
   "execution_count": 46,
   "metadata": {},
   "outputs": [
    {
     "data": {
      "text/plain": [
       "(266, 3)"
      ]
     },
     "execution_count": 46,
     "metadata": {},
     "output_type": "execute_result"
    }
   ],
   "source": [
    "X_train_pca.shape"
   ]
  },
  {
   "cell_type": "code",
   "execution_count": 72,
   "metadata": {},
   "outputs": [
    {
     "name": "stdout",
     "output_type": "stream",
     "text": [
      "0.1457016441101885\n",
      "0.1457016441101885\n",
      "0.8542983558898115\n"
     ]
    }
   ],
   "source": [
    "regression.fit(X_train_pca, traccion)\n",
    "print(regression.score(X_train_pca, traccion))\n",
    "y = regression.predict(X_train_pca)\n",
    "print(r2_score(traccion, y))\n",
    "print(mean_squared_error(traccion, y))"
   ]
  },
  {
   "attachments": {},
   "cell_type": "markdown",
   "metadata": {},
   "source": [
    "### Regresión Lineal para Energía"
   ]
  },
  {
   "cell_type": "code",
   "execution_count": 71,
   "metadata": {},
   "outputs": [
    {
     "name": "stdout",
     "output_type": "stream",
     "text": [
      "0.49189633019367285\n",
      "0.49189633019367285\n",
      "0.5081036698063273\n"
     ]
    }
   ],
   "source": [
    "regression.fit(X_train_pca, energia)\n",
    "y = regression.predict(X_train_pca)\n",
    "print(regression.score(X_train_pca, energia))\n",
    "print(r2_score(energia, y))\n",
    "print(mean_squared_error(energia, y))"
   ]
  },
  {
   "cell_type": "code",
   "execution_count": 65,
   "metadata": {},
   "outputs": [
    {
     "data": {
      "text/plain": [
       "1155"
      ]
     },
     "execution_count": 65,
     "metadata": {},
     "output_type": "execute_result"
    }
   ],
   "source": [
    "gc.collect()"
   ]
  },
  {
   "attachments": {},
   "cell_type": "markdown",
   "metadata": {},
   "source": [
    "### Tensil"
   ]
  },
  {
   "cell_type": "code",
   "execution_count": 68,
   "metadata": {},
   "outputs": [
    {
     "name": "stdout",
     "output_type": "stream",
     "text": [
      "0.12163727927395829\n",
      "0.12163727927395829\n",
      "0.8783627207260417\n"
     ]
    }
   ],
   "source": [
    "regression.fit(X_train_pca, tensil)\n",
    "y = regression.predict(X_train_pca)\n",
    "print(regression.score(X_train_pca, tensil))\n",
    "print(r2_score(tensil, y))\n",
    "print(mean_squared_error(tensil, y))"
   ]
  },
  {
   "attachments": {},
   "cell_type": "markdown",
   "metadata": {},
   "source": [
    "### Elongación"
   ]
  },
  {
   "cell_type": "code",
   "execution_count": 73,
   "metadata": {},
   "outputs": [
    {
     "name": "stdout",
     "output_type": "stream",
     "text": [
      "0.2782245646747912\n",
      "0.2782245646747912\n",
      "0.7217754353252088\n"
     ]
    }
   ],
   "source": [
    "regression.fit(X_train_pca, elongacion)\n",
    "y = regression.predict(X_train_pca)\n",
    "print(regression.score(X_train_pca, elongacion))\n",
    "print(r2_score(elongacion, y))\n",
    "print(mean_squared_error(elongacion, y))"
   ]
  },
  {
   "attachments": {},
   "cell_type": "markdown",
   "metadata": {},
   "source": [
    "### Secante"
   ]
  },
  {
   "cell_type": "code",
   "execution_count": 74,
   "metadata": {},
   "outputs": [
    {
     "name": "stdout",
     "output_type": "stream",
     "text": [
      "0.1159226819190673\n",
      "0.1159226819190673\n",
      "0.8840773180809327\n"
     ]
    }
   ],
   "source": [
    "regression.fit(X_train_pca, secante)\n",
    "y = regression.predict(X_train_pca)\n",
    "print(regression.score(X_train_pca, secante))\n",
    "print(r2_score(secante, y))\n",
    "print(mean_squared_error(secante, y))"
   ]
  },
  {
   "attachments": {},
   "cell_type": "markdown",
   "metadata": {},
   "source": [
    "### Flexión"
   ]
  },
  {
   "cell_type": "code",
   "execution_count": 75,
   "metadata": {},
   "outputs": [
    {
     "name": "stdout",
     "output_type": "stream",
     "text": [
      "0.06663115811873255\n",
      "0.06663115811873255\n",
      "0.9333688418812675\n"
     ]
    }
   ],
   "source": [
    "regression.fit(X_train_pca, flexion)\n",
    "y = regression.predict(X_train_pca)\n",
    "print(regression.score(X_train_pca, flexion))\n",
    "print(r2_score(flexion, y))\n",
    "print(mean_squared_error(flexion, y))"
   ]
  },
  {
   "cell_type": "code",
   "execution_count": null,
   "metadata": {},
   "outputs": [],
   "source": []
  }
 ],
 "metadata": {
  "kernelspec": {
   "display_name": "env",
   "language": "python",
   "name": "python3"
  },
  "language_info": {
   "codemirror_mode": {
    "name": "ipython",
    "version": 3
   },
   "file_extension": ".py",
   "mimetype": "text/x-python",
   "name": "python",
   "nbconvert_exporter": "python",
   "pygments_lexer": "ipython3",
   "version": "3.8.10"
  },
  "orig_nbformat": 4
 },
 "nbformat": 4,
 "nbformat_minor": 2
}
